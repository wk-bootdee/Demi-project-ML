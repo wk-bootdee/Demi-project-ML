{
  "cells": [
    {
      "cell_type": "markdown",
      "metadata": {
        "colab_type": "text",
        "id": "view-in-github"
      },
      "source": [
        "<a href=\"https://colab.research.google.com/github/wk-bootdee/Demi-project-ML/blob/main/Copy_of_Demi_project_final.ipynb\" target=\"_parent\"><img src=\"https://colab.research.google.com/assets/colab-badge.svg\" alt=\"Open In Colab\"/></a>"
      ]
    },
    {
      "cell_type": "markdown",
      "metadata": {
        "id": "erm1OMfnPwm2"
      },
      "source": [
        "# Instruction\n",
        "\n",
        "# **Project: Image Classification for Beginners**\n",
        "\n",
        "For our upcoming machine learning project, we’ll be delving into image classification, a fascinating application of machine learning. In this project, we’ll explore how to build an image classification model from scratch, allowing you the flexibility to choose the best model for the task.\n",
        "\n",
        "__Problem Statement__\n",
        "    \n",
        "Our goal is to develop a machine learning model to classify images into different categories. This project will challenge us to leverage our knowledge of machine learning techniques to build a robust image classifier.\n",
        "\n",
        "__Dataset__\n",
        "    \n",
        "You can choose any of the following popular image datasets like CIFAR-10, CIFAR100, MNIST, or Fashion-MNIST. Alternatively, we can curate a custom dataset relevant to a specific domain or application.\n",
        "\n",
        "-------------------"
      ]
    },
    {
      "cell_type": "markdown",
      "metadata": {
        "id": "H4EH48RaRGRA"
      },
      "source": [
        "## 1. Project Task 1: Data Exploration\n",
        "\n",
        "Let’s start by exploring the image dataset to understand its structure, image dimensions, and the number of classes/categories. (3 marks)"
      ]
    },
    {
      "cell_type": "code",
      "execution_count": null,
      "metadata": {
        "colab": {
          "base_uri": "https://localhost:8080/"
        },
        "id": "lvGeVksoRGRA",
        "outputId": "1e4806a7-0d2c-4f06-af21-e7a78dbf96b9"
      },
      "outputs": [
        {
          "name": "stdout",
          "output_type": "stream",
          "text": [
            "Requirement already satisfied: tensorflow in /usr/local/lib/python3.10/dist-packages (2.15.0)\n",
            "Requirement already satisfied: absl-py>=1.0.0 in /usr/local/lib/python3.10/dist-packages (from tensorflow) (1.4.0)\n",
            "Requirement already satisfied: astunparse>=1.6.0 in /usr/local/lib/python3.10/dist-packages (from tensorflow) (1.6.3)\n",
            "Requirement already satisfied: flatbuffers>=23.5.26 in /usr/local/lib/python3.10/dist-packages (from tensorflow) (24.3.25)\n",
            "Requirement already satisfied: gast!=0.5.0,!=0.5.1,!=0.5.2,>=0.2.1 in /usr/local/lib/python3.10/dist-packages (from tensorflow) (0.5.4)\n",
            "Requirement already satisfied: google-pasta>=0.1.1 in /usr/local/lib/python3.10/dist-packages (from tensorflow) (0.2.0)\n",
            "Requirement already satisfied: h5py>=2.9.0 in /usr/local/lib/python3.10/dist-packages (from tensorflow) (3.9.0)\n",
            "Requirement already satisfied: libclang>=13.0.0 in /usr/local/lib/python3.10/dist-packages (from tensorflow) (18.1.1)\n",
            "Requirement already satisfied: ml-dtypes~=0.2.0 in /usr/local/lib/python3.10/dist-packages (from tensorflow) (0.2.0)\n",
            "Requirement already satisfied: numpy<2.0.0,>=1.23.5 in /usr/local/lib/python3.10/dist-packages (from tensorflow) (1.25.2)\n",
            "Requirement already satisfied: opt-einsum>=2.3.2 in /usr/local/lib/python3.10/dist-packages (from tensorflow) (3.3.0)\n",
            "Requirement already satisfied: packaging in /usr/local/lib/python3.10/dist-packages (from tensorflow) (24.0)\n",
            "Requirement already satisfied: protobuf!=4.21.0,!=4.21.1,!=4.21.2,!=4.21.3,!=4.21.4,!=4.21.5,<5.0.0dev,>=3.20.3 in /usr/local/lib/python3.10/dist-packages (from tensorflow) (3.20.3)\n",
            "Requirement already satisfied: setuptools in /usr/local/lib/python3.10/dist-packages (from tensorflow) (67.7.2)\n",
            "Requirement already satisfied: six>=1.12.0 in /usr/local/lib/python3.10/dist-packages (from tensorflow) (1.16.0)\n",
            "Requirement already satisfied: termcolor>=1.1.0 in /usr/local/lib/python3.10/dist-packages (from tensorflow) (2.4.0)\n",
            "Requirement already satisfied: typing-extensions>=3.6.6 in /usr/local/lib/python3.10/dist-packages (from tensorflow) (4.11.0)\n",
            "Requirement already satisfied: wrapt<1.15,>=1.11.0 in /usr/local/lib/python3.10/dist-packages (from tensorflow) (1.14.1)\n",
            "Requirement already satisfied: tensorflow-io-gcs-filesystem>=0.23.1 in /usr/local/lib/python3.10/dist-packages (from tensorflow) (0.36.0)\n",
            "Requirement already satisfied: grpcio<2.0,>=1.24.3 in /usr/local/lib/python3.10/dist-packages (from tensorflow) (1.62.1)\n",
            "Requirement already satisfied: tensorboard<2.16,>=2.15 in /usr/local/lib/python3.10/dist-packages (from tensorflow) (2.15.2)\n",
            "Requirement already satisfied: tensorflow-estimator<2.16,>=2.15.0 in /usr/local/lib/python3.10/dist-packages (from tensorflow) (2.15.0)\n",
            "Requirement already satisfied: keras<2.16,>=2.15.0 in /usr/local/lib/python3.10/dist-packages (from tensorflow) (2.15.0)\n",
            "Requirement already satisfied: wheel<1.0,>=0.23.0 in /usr/local/lib/python3.10/dist-packages (from astunparse>=1.6.0->tensorflow) (0.43.0)\n",
            "Requirement already satisfied: google-auth<3,>=1.6.3 in /usr/local/lib/python3.10/dist-packages (from tensorboard<2.16,>=2.15->tensorflow) (2.27.0)\n",
            "Requirement already satisfied: google-auth-oauthlib<2,>=0.5 in /usr/local/lib/python3.10/dist-packages (from tensorboard<2.16,>=2.15->tensorflow) (1.2.0)\n",
            "Requirement already satisfied: markdown>=2.6.8 in /usr/local/lib/python3.10/dist-packages (from tensorboard<2.16,>=2.15->tensorflow) (3.6)\n",
            "Requirement already satisfied: requests<3,>=2.21.0 in /usr/local/lib/python3.10/dist-packages (from tensorboard<2.16,>=2.15->tensorflow) (2.31.0)\n",
            "Requirement already satisfied: tensorboard-data-server<0.8.0,>=0.7.0 in /usr/local/lib/python3.10/dist-packages (from tensorboard<2.16,>=2.15->tensorflow) (0.7.2)\n",
            "Requirement already satisfied: werkzeug>=1.0.1 in /usr/local/lib/python3.10/dist-packages (from tensorboard<2.16,>=2.15->tensorflow) (3.0.2)\n",
            "Requirement already satisfied: cachetools<6.0,>=2.0.0 in /usr/local/lib/python3.10/dist-packages (from google-auth<3,>=1.6.3->tensorboard<2.16,>=2.15->tensorflow) (5.3.3)\n",
            "Requirement already satisfied: pyasn1-modules>=0.2.1 in /usr/local/lib/python3.10/dist-packages (from google-auth<3,>=1.6.3->tensorboard<2.16,>=2.15->tensorflow) (0.4.0)\n",
            "Requirement already satisfied: rsa<5,>=3.1.4 in /usr/local/lib/python3.10/dist-packages (from google-auth<3,>=1.6.3->tensorboard<2.16,>=2.15->tensorflow) (4.9)\n",
            "Requirement already satisfied: requests-oauthlib>=0.7.0 in /usr/local/lib/python3.10/dist-packages (from google-auth-oauthlib<2,>=0.5->tensorboard<2.16,>=2.15->tensorflow) (1.3.1)\n",
            "Requirement already satisfied: charset-normalizer<4,>=2 in /usr/local/lib/python3.10/dist-packages (from requests<3,>=2.21.0->tensorboard<2.16,>=2.15->tensorflow) (3.3.2)\n",
            "Requirement already satisfied: idna<4,>=2.5 in /usr/local/lib/python3.10/dist-packages (from requests<3,>=2.21.0->tensorboard<2.16,>=2.15->tensorflow) (3.6)\n",
            "Requirement already satisfied: urllib3<3,>=1.21.1 in /usr/local/lib/python3.10/dist-packages (from requests<3,>=2.21.0->tensorboard<2.16,>=2.15->tensorflow) (2.0.7)\n",
            "Requirement already satisfied: certifi>=2017.4.17 in /usr/local/lib/python3.10/dist-packages (from requests<3,>=2.21.0->tensorboard<2.16,>=2.15->tensorflow) (2024.2.2)\n",
            "Requirement already satisfied: MarkupSafe>=2.1.1 in /usr/local/lib/python3.10/dist-packages (from werkzeug>=1.0.1->tensorboard<2.16,>=2.15->tensorflow) (2.1.5)\n",
            "Requirement already satisfied: pyasn1<0.7.0,>=0.4.6 in /usr/local/lib/python3.10/dist-packages (from pyasn1-modules>=0.2.1->google-auth<3,>=1.6.3->tensorboard<2.16,>=2.15->tensorflow) (0.6.0)\n",
            "Requirement already satisfied: oauthlib>=3.0.0 in /usr/local/lib/python3.10/dist-packages (from requests-oauthlib>=0.7.0->google-auth-oauthlib<2,>=0.5->tensorboard<2.16,>=2.15->tensorflow) (3.2.2)\n"
          ]
        }
      ],
      "source": [
        "%pip install tensorflow"
      ]
    },
    {
      "cell_type": "markdown",
      "metadata": {
        "id": "-MJpXevXRGRB"
      },
      "source": [
        "## 1.1 Import Libraries\n",
        "- All essential libraries are imported in this step.\n",
        "- For better performance, Please run this notebook on Google Colab."
      ]
    },
    {
      "cell_type": "code",
      "execution_count": 2,
      "metadata": {
        "id": "wf9faQfbRGRB"
      },
      "outputs": [],
      "source": [
        "# Import dependencies\n",
        "import numpy as np\n",
        "import pandas as pd\n",
        "import matplotlib.pyplot as plt\n",
        "\n",
        "import tensorflow as tf\n",
        "from tensorflow import keras\n",
        "from tensorflow.keras import layers\n",
        "from tensorflow.keras.datasets import cifar10\n",
        "from tensorflow.keras.models import Sequential\n",
        "from tensorflow.keras.layers import Dense, Flatten, Conv2D, MaxPooling2D, Dropout, BatchNormalization\n",
        "from tensorflow.keras.optimizers import SGD\n",
        "from tensorflow.keras.callbacks import EarlyStopping\n",
        "from tensorflow.keras.utils import to_categorical\n",
        "from tensorflow.keras.preprocessing.image import ImageDataGenerator"
      ]
    },
    {
      "cell_type": "code",
      "execution_count": 3,
      "metadata": {
        "colab": {
          "base_uri": "https://localhost:8080/"
        },
        "id": "Js24VWc-RGRB",
        "outputId": "48328b07-268a-4193-9ccc-b4f5f19aafd2"
      },
      "outputs": [],
      "source": [
        "# Load CIFAR-10 dataset\n",
        "(x_train, y_train), (x_test, y_test) = cifar10.load_data()"
      ]
    },
    {
      "cell_type": "markdown",
      "metadata": {
        "id": "Z7Y2CmnMRGRB"
      },
      "source": [
        "## 1.2 Understand the Image Dataset"
      ]
    },
    {
      "cell_type": "markdown",
      "metadata": {
        "id": "jJCtrVLcRGRC"
      },
      "source": [
        "CIFAR-10 dataset contains 50,000 32x32 color training images and 10,000 test images, labeled over 10 categories. See more info at the CIFAR homepage.\n",
        "\n",
        "The classes in the dataset are:\n",
        "<table>\n",
        "<thead>\n",
        "<tr>\n",
        "<th style=\"text-align: center\">Label</th>\n",
        "<th>Description</th>\n",
        "</tr>\n",
        "</thead>\n",
        "\n",
        "<tbody>\n",
        "<tr>\n",
        "<td style=\"text-align: center\">0</td>\n",
        "<td>airplane</td>\n",
        "</tr>\n",
        "<tr>\n",
        "<td style=\"text-align: center\">1</td>\n",
        "<td>automobile</td>\n",
        "</tr>\n",
        "<tr>\n",
        "<td style=\"text-align: center\">2</td>\n",
        "<td>bird</td>\n",
        "</tr>\n",
        "<tr>\n",
        "<td style=\"text-align: center\">3</td>\n",
        "<td>cat</td>\n",
        "</tr>\n",
        "<tr>\n",
        "<td style=\"text-align: center\">4</td>\n",
        "<td>deer</td>\n",
        "</tr>\n",
        "<tr>\n",
        "<td style=\"text-align: center\">5</td>\n",
        "<td>dog</td>\n",
        "</tr>\n",
        "<tr>\n",
        "<td style=\"text-align: center\">6</td>\n",
        "<td>frog</td>\n",
        "</tr>\n",
        "<tr>\n",
        "<td style=\"text-align: center\">7</td>\n",
        "<td>horse</td>\n",
        "</tr>\n",
        "<tr>\n",
        "<td style=\"text-align: center\">8</td>\n",
        "<td>ship</td>\n",
        "</tr>\n",
        "<tr>\n",
        "<td style=\"text-align: center\">9</td>\n",
        "<td>truck</td>\n",
        "</tr>\n",
        "</tbody>\n",
        "</table>\n",
        "\n",
        "The CIFAR-10 dataset consists of 60,000 32x32 color images in 10 classes, with 6,000 images per class. These classes include everyday objects such as airplanes, automobiles, birds, and cats.\n",
        "Classifying CIFAR-10 images using a plot circle would be pretty challenging because:\n",
        "\n",
        "1. **Complexity of the Data:** CIFAR-10 images are 32x32 with three colour channels (red, green, and blue). A plot circle typically operates on numerical data or simple geometric shapes, whereas processing image data requires more sophisticated techniques such as convolutional neural networks (CNNs).\n",
        "\n",
        "2. **High Dimensionality:** Each CIFAR-10 image has 32x32x3 = 3072 features (pixels), making the data high-dimensional. Plotting such high-dimensional data directly on a 2D plot (like a circle) is not feasible.\n",
        "\n",
        "3. **Non-Linearity and Variability:** The relationships between the features in CIFAR-10 images are highly non-linear and complex. Plotting them on a circle would not capture the intricate patterns needed for classification.\n",
        "\n",
        "To classify CIFAR-10 images effectively, advanced techniques such as deep learning, specifically convolutional neural networks (CNNs), are typically used. CNNs can automatically learn hierarchical features from raw image data, making them well-suited for classification tasks like CIFAR-10. These models can handle the complexity, high dimensionality, and non-linearity of the CIFAR-10 dataset, achieving high accuracy in classification tasks."
      ]
    },
    {
      "cell_type": "code",
      "execution_count": 4,
      "metadata": {
        "colab": {
          "base_uri": "https://localhost:8080/"
        },
        "id": "0t5yxRqJL2ry",
        "outputId": "f9f04867-53d9-4c92-ed5d-21f9fb799231"
      },
      "outputs": [
        {
          "name": "stdout",
          "output_type": "stream",
          "text": [
            "Total number of outputs :  10\n",
            "Output classes :  [0 1 2 3 4 5 6 7 8 9]\n",
            "X_train data shape is (50000, 32, 32, 3)\n",
            "y_train data shape is (50000, 1)\n",
            "X_test data shape is (10000, 32, 32, 3)\n",
            "y_test data shape is (10000, 1)\n",
            "X_train data type is uint8\n",
            "y_train data type is uint8\n",
            "X_test data type is uint8\n",
            "y_test data type is uint8\n"
          ]
        },
        {
          "name": "stdout",
          "output_type": "stream",
          "text": [
            "Requirement already satisfied: prettytable in /usr/local/python/3.10.13/lib/python3.10/site-packages (3.10.0)\n",
            "Requirement already satisfied: wcwidth in /home/codespace/.local/lib/python3.10/site-packages (from prettytable) (0.2.13)\n",
            "Note: you may need to restart the kernel to use updated packages.\n",
            "+---------+--------------------+-----------+\n",
            "|   Data  |       Shape        | Data Type |\n",
            "+---------+--------------------+-----------+\n",
            "| X_train | (50000, 32, 32, 3) |   uint8   |\n",
            "| y_train |     (50000, 1)     |   uint8   |\n",
            "|  X_test | (10000, 32, 32, 3) |   uint8   |\n",
            "|  y_test |     (10000, 1)     |   uint8   |\n",
            "+---------+--------------------+-----------+\n"
          ]
        }
      ],
      "source": [
        "# Total classes in CIFAR-10 dataset\n",
        "classes = np.unique(y_train)\n",
        "nClasses = len(classes)\n",
        "print(\"Total number of outputs : \", nClasses)\n",
        "print(\"Output classes : \", classes)\n",
        "\n",
        "# Check data dimension\n",
        "print(\"X_train data shape is\", x_train.shape)\n",
        "print(\"y_train data shape is\", y_train.shape)\n",
        "print(\"X_test data shape is\", x_test.shape)\n",
        "print(\"y_test data shape is\", y_test.shape)\n",
        "\n",
        "# Check data type\n",
        "print(\"X_train data type is\", x_train.dtype)\n",
        "print(\"y_train data type is\", y_train.dtype)\n",
        "print(\"X_test data type is\", x_test.dtype)\n",
        "print(\"y_test data type is\", y_test.dtype)\n",
        "\n",
        "\n",
        "%pip install prettytable\n",
        "# print dimensions of the dataset and data type of the dataset as a Table by using PrettyTable\n",
        "from prettytable import PrettyTable\n",
        "\n",
        "x = PrettyTable()\n",
        "x.field_names = [\"Data\", \"Shape\", \"Data Type\"]\n",
        "x.add_row([\"X_train\", x_train.shape, x_train.dtype])\n",
        "x.add_row([\"y_train\", y_train.shape, y_train.dtype])\n",
        "x.add_row([\"X_test\", x_test.shape, x_test.dtype])\n",
        "x.add_row([\"y_test\", y_test.shape, y_test.dtype])\n",
        "print(x)"
      ]
    },
    {
      "cell_type": "markdown",
      "metadata": {
        "id": "KKoltIDeRGRC"
      },
      "source": [
        "Display several images from the dataset to understand the image quality and the content of the images."
      ]
    },
    {
      "cell_type": "code",
      "execution_count": 5,
      "metadata": {
        "colab": {
          "base_uri": "https://localhost:8080/",
          "height": 521
        },
        "id": "ELMX24eDRGRC",
        "outputId": "70f48b1a-a501-4235-8e3d-2574bdf5e1cc"
      },
      "outputs": [
        {
          "data": {
            "image/png": "[encoded data removed]",
            "text/plain": [
              "<Figure size 1500x600 with 10 Axes>"
            ]
          },
          "metadata": {},
          "output_type": "display_data"
        }
      ],
      "source": [
        "# Pick a random image from the dataset\n",
        "import matplotlib.pyplot as plt\n",
        "import numpy as np\n",
        "\n",
        "# Define the text labels\n",
        "cifar10_labels = ['airplane', 'automobile', 'bird', 'cat', 'deer', 'dog', 'frog', 'horse', 'ship', 'truck']\n",
        "\n",
        "# plot random first few images\n",
        "fig, ax = plt.subplots(2, 5, figsize=(15, 6))\n",
        "fig.subplots_adjust(hspace = 0.5, wspace=.001)\n",
        "ax = ax.ravel()\n",
        "for i in range(10):\n",
        "    idx = np.random.randint(0, x_train.shape[0])\n",
        "    ax[i].imshow(x_train[idx])\n",
        "    ax[i].set_title(cifar10_labels[y_train[idx][0]])\n",
        "    ax[i].axis('off')\n",
        "plt.show()"
      ]
    },
    {
      "cell_type": "markdown",
      "metadata": {
        "id": "xBnr4x8dFRwl"
      },
      "source": [
        "---"
      ]
    },
    {
      "cell_type": "markdown",
      "metadata": {
        "id": "prasny3TRGRC"
      },
      "source": [
        "## 1.3 Data Preparation"
      ]
    },
    {
      "cell_type": "markdown",
      "metadata": {
        "id": "egR76KROOnzJ"
      },
      "source": [
        "### **1.3.1 Image Normalization**\n",
        "- Normalize the images to a pixel value between 0 and 1.\n",
        "- Normalizing the images will make the model train faster. Because the model has to deal with smaller values."
      ]
    },
    {
      "cell_type": "code",
      "execution_count": 6,
      "metadata": {
        "id": "jLWzzpwORGRC"
      },
      "outputs": [],
      "source": [
        "# Image normalization for CIFAR-10 dataset and prepare the data for training the CNN model.\n",
        "# Normalize the data\n",
        "x_train = x_train.astype('float32') / 255\n",
        "x_test = x_test.astype('float32') / 255"
      ]
    },
    {
      "cell_type": "markdown",
      "metadata": {
        "id": "pfV6-eYGRGRC"
      },
      "source": [
        "---------------"
      ]
    },
    {
      "cell_type": "markdown",
      "metadata": {
        "id": "AEIpPK2pRGRC"
      },
      "source": [
        "### **1.3.2 Coverting Labels to Categorical**\n",
        "- Convert the labels into a set of 10 numbers to input into the neural network.\n",
        "- For example, the label 3 will be represented as 0 0 0 1 0 0 0 0 0 0.\n",
        "- This is done to avoid the model misinterpreting the labels as being in some kind of order and help the model understand that the labels are categorical."
      ]
    },
    {
      "cell_type": "code",
      "execution_count": 7,
      "metadata": {
        "id": "d7kLrKxnRGRD"
      },
      "outputs": [],
      "source": [
        "# Convert class vectors to binary class matrices\n",
        "y_train = keras.utils.to_categorical(y_train, nClasses)\n",
        "y_test = keras.utils.to_categorical(y_test, nClasses)"
      ]
    },
    {
      "cell_type": "markdown",
      "metadata": {
        "id": "MsVp_hlkRGRD"
      },
      "source": [
        "----"
      ]
    },
    {
      "cell_type": "markdown",
      "metadata": {
        "id": "IcpKwtq4P9q8"
      },
      "source": [
        "## Project Task2: Model Selection\n",
        "\n",
        "__Question__\n",
        "\n",
        "Now comes the exciting part – choosing the best model for image classification! You have the freedom to experiment with various machine learning and deep learning models, including but not limited to Support Vector Machines (SVMs), Decision Trees, Random Forests, Convolutional Neural Networks (CNNs), and more. (5 marks)\n",
        "\n",
        "\n",
        "__Answer__\n",
        "<u>I have choosen VGG. The reason explained below.</u>\n",
        "\n",
        "VGG stands for Visual Geometry Group; it is a standard deep Convolutional Neural Network (CNN) architecture with multiple layers. The “deep” refers to the number of layers with VGG-16 or VGG-19 consisting of 16 and 19 convolutional layers. The VGG architecture is the basis of ground-breaking object recognition models. Developed as a deep neural network, the VGGNet also surpasses baselines on many tasks and datasets beyond ImageNet. Moreover, it is now still one of the most popular image recognition architectures. Therefore, VGG might be best with my Model.\n",
        "\n",
        "![vgg-neural-network-architecture.png](data:image/png;base64,iVBORw0KGgoAAAANSUhEUgAAAdYAAAEUCAIAAAAZWICyAAC0i0lEQVR42uy9Z1RUSd/2ez69Z63z3KOI5JxzzjkLEhTFLEjOUURRyTkICooRzCLImDCCKCoGzGkwpxkxYgAlqEA3fa7u0j39oDOjc48zI29dqxfs3r27qnZ196+u/d8V/p+BgQEOFRUVFdU/of+HIpiKioqKIpiKioqKIpiKioqKiiKYioqKiiKYioqKiooimIqKiooimIqKioqKIpiKioqKIvijkE5vb29fX9/v7CF69+7dX54mi8Xq7+//wmT7ePqSE8dhyI45kuT+aUY4DAX4wtzxdv40P83lT6T52YJh55dXNRUV1XeMYCSyc+fO9evXp6WlrV69GiwAQbZv375x48akpKTKykoml56eHl9f3+7u7i9B1Z49ezZs2JCenr5y5Uo2T9u2bcOelJQU5MUQCvsXL17c2Nj4JUXdydOaNWuWLFkCbP3OkSdOnMBhRUVFOTk5KDAOrqqqwhnNmTMHKTBnhGLgHFtaWr4k9+bmZqRZXFyMk3r79i32NDU1YU9hYWFBQQEqh0kzMzPzzJkzX5ImOLtp0ybUzNKlS+/fv8/sP3XqFD4O+hWnohr6CL558ybAhKTevHljamr6008/gV+ACPa8fPnS0NDw3r17hNT19fX6+vpdXV0Ma65cucIPaHIkdOPGjXnz5uEAoMra2hoJAnOAHQ5ub283MjK6fv06OfLatWtjxozZu3cvU547d+4wBhApoDyE14C1s7Pzo0ePXr9+bWJiwuT1qTo6Onx8fIBdvBFtBhh3+PDhkpISvPTzzz9ramriTBnSoXgXL15k3ouCISOmIcEJMmlGRETg3LHT29sbaaJysEFarClTpmzdupUcidTc3NyOHTvGtHBXr15lGgwUCRXOVFppaWltbS2eonE6efIk2dnZ2Zmamors6FecimroIxgogZXDBjABHp09e/aXX3758ccfkTgACiiDp3gVKASwHB0dGQQTcMBUglnAYkZGBjkSev78OV4CbnDM6NGjGxoa2tra1q1bR3yfhYUFoR5wvGvXLuCGH8EXLlzIz89H1ngvSLdlyxbmNPHe9+/fHz9+HIT9HTOOw5YvX04iHrGxsbDhd+/eha8nJ6uurv7q1StsP3ny5MCBA4GBgfwIPnr0KFw5csHbkQhKzqRZUVFBrG50dPSyZctQQhxAzjE4OBjni5dwmkBqQkICg2AI20AtEgSvURhcH5D9qHAzMzNYaVQsME3Qj7+bN28+cuRIZGQk/YpTUQ19BDNqbGz09/dnLqihHTt2hIWFgTJgFjFr/Agmnm79+vW4wAd/L1269GmasJ+wivxBg7q6upCQEBAN7wUW4fhwxc2PYAjNACgMWoG/jCcl0IehTkxMBJq/JHwMp+zp6fnw4UPm7WgGYM+RJoBYU1ODggUFBfEjGAJ2QWG45v37939aw0gTth1tDP9lhJeX19OnTwFunBHQPHv2bH4EE7IXFxeXlZWhyWF2woyLi4sjFzQnuEQAi0lwA9cBqAGKYCqq/4sQDIDm5ubCzDLIgzVbsGABMAFOrVq1ClfouIq3tLS8du0aWMO8EXQeN24ciPlpYWCcc3JyYHVJJAEHnD9/HkciTeQCOgPHSBNGde3atUxwgJA9PT194sSJJORKhLeQpwCWk5MTAdbvqLW1Ff4a/GVyR45gK95Owt+gOXKfPHkyGgD+hgfnC58LAn4abn727BkKdv/+faYBQApoQh4/foxc0ErBoWMP2hhcRqB14T8jnCZaOP40URJYcqSJ7crKSuSI96I9Q/og9YwZM4B1+i2nohr6CAYZy8vLAdPm5ubbt29zeLeeYBhB5DNnzgC+MHH7eFJQUIDR6+joYHwc/C9Qi4Oxn9+xXrlyBWmCvy0tLbisxp7Tp0+vXr0ae5AajB6SJWm6ubmBa0xsF4ngoh4W9dy5c3l5eQwc0SSA9RxefwNXV1cY5N/n75IlS0DGX375Bdmhog4dOgTMocB79uyBkb98+TLJ3czMDEcysANb8fTAgQMHDx4cdNMPaZaWloLpbW1tJJgAYsLYPnnyBIUH0FGNJE20EIWFhciavBEFXrZsGfajHkhEguGyh4cHOWzNmjXJyckoBkmhoKDAxcUFp0z7HVJRDXEEgyNqamoaGhpaWloGBgYPHjwAUrFHU1MTe7Dx8uVLDu9uG5CkrKwMYwsGEbKAv6Q7Aci1fv16kIukiUT09PRICqqqqnfv3gVzlZSUSC7GxsaAIzkSLLOzswsKCgITyR74R/CXnBoaADhxYjnRHgBMDQ0NyAg2Eyj/rTOC/XR0dFRRUSG540ofLJOXlyflAXMJBMF65IXCzJw5E5VA3otmA/AlrhkbQCeT5ujRo3H6JM3Gxka0Q9bW1tgmtQSLTY7cvHmzhYVFREQEqpGkg4aHibSAwitXrmQ+ODzNzs5GagkJCUA82Xnx4sXw8HArK6utW7dSBFNRDXEEI5F+Pn12D+PayB6SL/7yx4XxlLlF9vtp8veZZdJkHDS5EfdroKP9NZv9ax8yWE4mtvA74s8dqSHx38+dv18Hfzr84ZFBaQ46R/6OboPOCLXEf0aDskDTggaAv7s0U9ov71xMRUX1HQci/rXqZw0cuvKmt4/9d2b67t27xx8FZ0rMLIcX9Wb2X79+/Uv6R1NRUVEEf8c6fqNz2f6nvf1/32nCgWZkZMyZMyc1NTUlJcXMzCw3Nxf7W1paAgICUnmKjY3V0tIit9GoqKgogoemnrT3xax/uKbxRR/r7zvNrVu3MrHaU6dOeXh4lJaWdnZ2RkdHk/h1b29vXFzcmDFjSIicioqKIngI6n3/QOGeFyEVD1cf7vjbEHzjxo34+HgSliVD7I4cOVJSUpKTk0P6+aLC169fv3z58sTERIpgKiqK4KGJYJxW7YXOGSuehK55UrT31fu+v+M0X79+HRMTQ3qnsdnsqKioc+fOAcqjR49eunQpqeoLFy7AAr97944imIqKasgi+M6zvvB1bb6rngaUP06uefbub0FwXl4e6b8MweoCuxxej+mJEyeSPgzwxQEBAY8ePcI2RTAVFdXQRHD3e3bmznb/iue+Fc/8K54mVn9zBKMa9+3bV1paym91379/39XVFRERQULA/f39wC4zJI8imIqKaggimD3AqT7VFbTmpd/q536rn/mv/jsQfOfOndjYWDLq+s2bN7C6ra2tLBarsLCQmUWzqqqqpKSEqXCKYCoqqiGI4Ev3O8LWPQ9c/cKv4oXfmjauC97y/JsiuLe3Nzw8nIyOY7PZ8+fPJ+PcDh48uHDhQjI44tatW8HBwfwTVlAEU1FRDTUEv3rT65+9P2jNi8DVL/3xWPPCv6ItccuLb4dgEDY/P5+EgFGZ1dXVixYtwvbDhw8jIyMJc9vb2/38/Ab1AqYIpqKiGlII7mOxVx984VN0KXDNy8DVr/zXvPRf+8J/9fPEmpffDsENDQ3FxcWkGm/cuBEWFtbd3Q3yxsTEkDUsyBIY+/fvH/RGimAqKqohheCmq09DVt6cseRKABC8Bgh+BQT7rX4+t+bVN0Jwa2trbGwsmVISfwMDAx88eIAqLS0t3b17NzkGGzk5OfwzwFEEU1FRDTUE329tHT+/wrv0p8kLLwWsefURwS/91ryY+2P7t0Dw+/fv4+Li7ty5w+H1dsjKyiJW9/jx49nZ2YS5eDUgIIB/cmSKYCoqqqGGYFz4h8yMdI5aNLn4nPeKVsA3gMvfV/7rXgasfTV3a8dfjmDU2+LFi5kFLGB18/PzWSwWCQGTXsDd3d3BwcGE0RTBVFRUQxPB8JtLy5fYjrWdnlI6Lnuf7+o2IDhwbbv/2vaA9a8C1rbP3/r6L0fwkSNH8vLyiNX95Zdf/P39u7q60BIArGRdUVRsbm5ubW3tb6VAEUxFRTUUEPzT9YtGtjqOEy0cg2a6ztnut/oFsIuH/zougoPWdST/1Qhua2sLDw8nC3/A8Pr5+ZEeaWvXrmWWCq2rq8vOzv6d6XopgqmoqL57BHd3d4UmeCnpSejaqjsEznafvzdgbQdBcMC69qD17cHrO5K3vfkLEfzu3bv4+Pi7d+8SAw6rS8IRp0+fTk5OJr743r17ISEh/LPRUwRTUVENNQSz2KwFpTmmLkp6Ngq6Njo2PqGTFhyB+Q1cx40/BK7rCFoHBLcnb//LXDCqa82aNTU1NeRpQ0NDenp6f3//s2fPIiIiXr9+zeHdpsP2lStXfj8pimAqKqrvG8GHjzXoWilrWkkZOCgY2OtYTvEZl13vv/5V4PpXsMCB6zuCuI/2pB1/mQu+cOFCUlISmYuytbWVhIBZLNacOXMIc1GfixYtqq6u/sOkKIKpqKi+YwS/eNnmON5SxVRKzVxKyVhE1VRey9Hap+Rk4Pr2oA08C7yhnYfgjuSdb/6SySqfP38eGhpKegF3d3dHRUVdvXoVFbhu3bqqqipyzMGDB8HoL6lVimAqKqrvFcF9/X1JGbOVjKXljUQVjSQ0LOW0rJR0nCwnF+4J/gBfHog3vA7a0JFS2/nfIxjOd/78+ZcuXSJPy8rKNmzYgNq7ePEimEtuuz1+/DgwMPALwUoRTEVF9V0iGGXetvNHNV1FOT1RwFdOR0zNTF7TXFnfydk+alHw2jeBxP9uwON1MBC88y8IRGzkiWwfO3Zs1qxZKMarV68iIyPhjjm8EHB0dPQfhoApgqmoqL5vBP/y4IGto6WumaqsjoiioYSctriKoayWla6xR+jY+Xu5/IX5Xf86aONrguDU/9oFE6tLQsCPHj3y9/cnd97gi8+dO0dahaVLlzKMpgimoqIamgh+++5tYvpsfQtNA3tVOS0JRQNJZX1ZBW1pnVF2Vv4L/JfeAoKD17fz+Etc8Gsg+L9xwQBlTEzMixcvOB9X3jx//jzqbfPmzWvWrCHHnDp1ilkyjiKYiopqaCKYPcCu2rZOyVBZQU9TxVBK01hZSV9OXktaSlXcxNPLbd4Ov6U3gte9Ct7wKnjj65CNHfDCIRv/KwSz2ez09PSTJ08Sq7tq1aq1a9di48qVK3PnzgWRsf/Vq1fe3t6E0RTBVFRUQxbBd3++Pm6GvaGDra7dWBUteRk1CUkVETkNaQUteTPPcT5FjROyj4WtvxGy4UkIF8GwwG9CNr5Jre3604GIbdu2LV++nNTSuXPnYIH7+/t7enrCw8OfPHnC4d2mg0eGL/7alCmCqaiovicE97zt8onysHc3txnv4jg5RF5ZWVpVTkpFQkRWSN1IVd/RdFzyUs+5VaPDksdn7Qd5g/HY0MlF8M7uP+eCf/rpp9mzZ5MBb21tbX5+frC6QHBmZuapU6eIL67g6U8kThFMRUX13SAYHFy+vtjcVcN9kqvZWEvrsRPklNWU9bQ1TXRk1WQUdWXljeRsA6Id/OdLquqPilgRsrHz4+NNSu2fQfCbN2/geclqx8g9Nja2ubkZ27t27VqyZAmpt8uXL2P/u3fvKIKpqKiGMoKbmhvMRqs7T3afFBxq42Fu7uKhZWSib2Osa6krqSSubqyobiFvPGa8i3esi9uUyfNrgjdx+Ru6ieeCa3u+FsEsFisvL+/o0aOM1V29ejU27t27B+aS5YhevXrl7+9PwhEUwVRUVEMWwa8722dEues7SFhO9PUIDjOyNTN3nWJk7aBlrmpgqyGtIqVppqhpqWkxbrLzeN/QqDne2buB4NBNXWGVnSGbOlO+HsGwumVlZWT73LlzwG5fX19XV1dkZCQTAp43bx5hNEUwFRXVkEUwm82u2r4qOH6Mubu8saubg5ermZOdhftUMzs7I1t1W1cjVR1lbUtFNXM1I7fpYdFJQeFzfHL2hGzqAoLDKztDK78awffv34+JiSFWF9j18/N78OABfPGCBQsOHTpEjqmuri4uLv50OSKKYCoqqqGD4AHOwLadWyf7Oydmj7N0VVTUkjN1NHEe52Hp4qproqdjrGLvamZso6NnJ6+or2A7I71m627/oFif3LowrgXuDt/cFVrZ9VUIfvfuXWhoKAkB9/f3z5kz5/jx49jev3//4sWLCXOvXr2KY0iPNIpgKiqqIYvgu/fuuIx1HjPFLmLu6IkzLPVMVeQ1VXTMbbRN9LUMNIwstTy9XEzstTUtpTQstEeHZa5ZVxUamei/oJEgmDxSd/W87/+i0wRh8/PzGxsbydMtW7YsXLiQw1uRHr6YzP/b0dEREBCAPf/lqVEEU1FR/asR/P79+4Bwbxtn61Ge5hFzJzt56nrOMNW3sDRwDNTW19O30LB103ZycdAxV1ExEpfVkfAISV+waEVozNyAhUfCKrvCN/cQBKcBwV/mguvq6kpLS0mdXLt2LTw8/O3btz09PdHR0b/88guHd5suLS2toaHhvz87imAqKqp/L4JRsMqatWb22vautnoWqk5eptbu2mZuGkqGhuNilsqpKBrbaJk4KVna2StqSqsYSSobyXpG5i5duTkkNsm/+DAvCtETsbknvLI7ffcXIRjGNjY2lljdzs5OPz+/1tZWsiL9nj17yDG7du2CTf5vQsAUwVRUVN8Bgh8/aQ2dOVVNT1pVV01ZW0XTWNnYydzExUpeR9vVP01Zx9DQQtPUUcvW2UFFW1bNRFbFSMl8YvSGqn0unj7eeQciePwlj4zdfxyIICvSk+WIyIr09fX1HN6K9Ngmc1GSFen/XC9gimAqKqrvBsE9b3sWlOR6TnXUMlLWNNCTU1VR1VcxdrLTsjCSkpM1HuVu5Tra3M7QwELHycNV10RFxUhK1VzNwT9t+YbdWgaWk7Iawjd3f0Rw9x8iGK4WVnfv3r3kaW1tLVkd+cGDBxEREeS2G9wx+EuW6aQIpqKiGrIIRpE2bFkfHh+oZ66mbaxiZGWkaqCnaqCiZKSlY24grySnYqSqrKdkZK6pZ6xlaGEkryapYSqnZ28wOm5peMoyRTUd74Xnwj9a4MjN3el73r3v/70cm5qasrOzYX45vBXpgdrOzk74YlDy2rVr5JjfX5GeIpiKimqIIPjCT1dj5kc5jrHUMVXRMVNV11PQszZT0lHUsTXXNNVRUlcSkRVW0pYzNNVUUJFW1VFW1pJX0pdSNdUcn7FjXFievKpGyOpfwqve4hFR1YO/GVwE/+ZpPnnyJDIysru7m/MxBAzzi2opLy/ftm0bOWbfvn1ZWVl/bV1RBFNRUf3rENzxpmNubn5AbICdq5mhlZaKnrycqpS5s4Whjb6OjZbNGA81AxMZVVlZNSltQ2UJORFFLTUNQyVpDWFNG6vxyautJsRJq+hFVr6K4PIXFO7G38zfdsFv376dPXv2zZs3OR97pO3cuRPbZ86cSUtLI7fd7t69Gxoa+ubNm7/2TCmCqaio/l0IZrMHVmxe7ek33dN7rPuEUXpmWoo6ciKyQga2Ot7hk4zsNIydHHRsHKVUJKVUxHWM1YSlRdQNtPWt1OV0JE3HuhuM8bGbGi+jYx295TXIG1b5OmxzR1R1T9bez7tgxuqSSqirq8vMzCQr0oO5ZF2Mvr6+sLCwq1ev/uUnSxFMRUX170Lw0eYW9xlTx3q7+YZNtXAwVFCTM7DSVNCStXYzdplk4TDO1NDawsR5lJCksIyShL6Znqyykrq+ovkofUUDCf3RlqZjvceFzVE1c47Z0g4E+y2/HrzxRVT128zdn5+y/ezZs7C6JAR8//79oKAgsiI9fHFLSwvxxcXFxVu2bPkWJ0sRTEVF9S9C8OMnT6PSV04InDA10DNrQaKDh5mds7mRlY6ClrT9WEPHCXq2HvpGNoayOtoiUuLSChIWDuaKavJG5pquk8317FTMxzjbTws1cLbQtHSJqX4Zubl7fNaRyOquyKruzC33evsH9+QF/kJCQojVfffuHbMi/Zo1a6qrq0m1NDY2zp079xtVEUUwFRXVvwXBLHZ/WvHKKQnLA2dOneTrMivZz9HdNDDay9jSQNdM2drVYFKojaOHuaO7k7KuppSCpLSCuKqugoS8iKGZht1YHTtPUxN3OxN3Jw0rJRsPn9ANj8PWv/QuuRK55W3kusfb953r/9+ruvX29s6ZM4dYXdTAokWLqqqqiC9OTU0lIeDW1tbAwMCOjo5vdMoUwVRUVP8WBJ+51Ogzd6lXVEFUUmBQ9LjZGTNcPG2mBrq7eTk6jzMfN8NxcpiL2ShHY0tTVW1VcVlhPJS1ZNUN5JW0JNWN5Y0ctOQNZOT0ZDVttI2cpgWt/jlk3ePg9W3RW7pT1l85snl9f+97/uw2bNhQWVlJzr2pqQk4ZrFY7e3tMTExz5494/BGasTGxl66dOnbnTJFMBUV1b8CwQ+etc0rjA8r2D1tZn7wrOlzUoNCEjzNnEwdxpqb2euP8rQwddKYEOylb+Mgo24qqaAiKSchLisiLiukqi8jrSqmrKOgY6GsqCOloCNj5O6qaRvgv/KG7/I7kTXdYavvrVuz7cjyIn4EA6zz588nIeCHDx/6+Ph0d3cDwUlJSWRFerjgZcuWfdWK9BTBVFRU3yWC3/ayCyvrAxJCgvI2ToiMn50eOi8nxD9mgr61qZGtpq2bvr65soqhjMsUJ10TCzffOG1ze3FZMVEZIVFpIVkVGXkNWXV9VS1T7iJyinpyE2cVGHomTV14EgiOqe5KKN1dk59WV7607+PEki9evIiKimJWpIfVvXDhArZhitevX0+OOXbsGPj4VSvSUwRTUVF9lwje23w3YemP4akzR/lGTg0LX7WxeF5OqHfIBGt3dz0zDRN7FXl1SWVdBXUzJU0DQ0uPMYY2VqJSwuJyooIiAsKSwpKKkvKqMlomcnKaCorGmk6hc80mZU3Oqw9f/yyy4n5WSvKugtSajesJT3Gy6enpZAk4aOXKlevWrcPOlpYWAPH9e65TfvPmzZQpU752RXqKYCoqqu8Pwbced2XV/JxWXuEf72Mz3icxKyOvZN6cjIiAyAAPXx+3CU6BMyfKqUnKqsko6ehrGRpaujrqmuuKSYtIyIkKiQ0XlRSRUpTQMlTWs1DWstDRG+XsEF7sEFg6bu7amC3PE4q3r0qO3FicW11dTRBcU1NTXl5Osj558uSsWbPYbHZnZ2d4eHhbWxuHFwKOiIj46aef/oZzpwimoqL6JxHc/bZn0Y5LKdtezCpZPCXIzSdmTsHS7NJVmX6Rk/3CfX1CZ/iGjvf0t1bSlNKz0DZ19NC31DewNpBSFheRHCkhLyatLCYsLiwpL2pipalrpqJipGw2dtK0ghMuoauMJsT6lTQUpKevSgpfVVa2ddtWIBhgTUhIIHOegX1+fn7Pnj3D00Er0jOMpgimoqIasghGvnUnD83b0JJYdSd5zVYLF+OIxOjE7IDFqzKdx1vajbGZkxbuH+OqY6MoIiWkY25s7jhKSU9eUVtGTl1GWFJQSl5cXFFITFpUSkFEx0hVVkNc2UhldIj/7C233SJXOQakuoWmrEqKXpI1v3ztutra3S9evIiJiSErb/b398fFxRHs7ty5c/ny5aQSLly4MHPmTBKOoAimoqIaygi+9eDB3OIF8WsuJK4/k75mjdsUh+yS1KS8yKKyDF0LdTNHs8jZEzx9TOS1JYUlhdX1tfQsjFSNVETlhERkRopIjZBXk5RUEpFWEpdWlNAzU5fREJfTllGzsfTLXW7rm+QeljE2cM6PRRmr15RvqKzevnNHVlYWWQIO57tq1Spide/evRsbG0vm/3316pWvry8JR1AEU1FRDWUEv+xmr9h/YWbhhsQNN+au3DW3OM1ponlA9Izk3Kiw+Olmowwm+3lFz55h4aSlaagiJD1SXF5U3VBNSk1SXkNOQVNWXF5ISlFUWGqEgoaUkrqCmp6spomKtLq8obOHs4+vnJGl5ZipESmLtlSUbaqs3rS5Kj5+JrMc0fnz5+Pj42F1u7u7Q0NDGV88f/78/2ZFeopgKiqq7wPB/WzOplPvF+y6NafiZELlg4y11dMjxzuMs8kuTo+Z7zPB381lvG3ErACfYE9dU1VJBTExOQkZNSlZNSkZVUldU10FDXlRmZHCEoIjxYZLKglr66kqaUuoGMhoWJjYTY80cpsupa6nYT5q1NQZVZWbqqpqCosWhISEEKvb0dHh7+//6NEjFotVUFDAMLeysrKkpORLqgLsHjReDhjlX0r5+fPn169f/5Jp1RgEo2zt7e38L+Ep6bZM9OLFC6RJxlJ/ofr6+viPR4LXrl3jzwUtENKE96e/ASqq/7sQfOo+O2vPq6I9VxI3XEjd/iwwOdHLz9UvcnrGgtmjJ1qOne7sMs4uIGqKjYuhqq68oLigiq6alIokNkQlhYQkBYeL/CAhIyokNlJCVlRVX0HPUE1ZT1JeW0LPytgzaubEhHxFPQtNSzfHca5bttZs2lw5duzYBw8ecHgrb86dO7epqQnb9fX1YC65NXfjxo3g4OA/XI4ITDx06BDM8qpVq8geOOjt27cj/Vu3bpE9Fy5c+PHHH3fv3g3Qnz59+g8RDLbu3bsXpVq8eDHZ2dnZuXPnTjc3t8ePH3+orlOnampqkKafn98fpsnhjStB05KUlMSUE/Ctrq7et29fUFDQwYMHObwBKTt27Dh79uzq1atPnjxJfwZUVP+3IPhh+0BePTt9+/2U9YdSNp7LqrkcNCfcN9o/Ljk4JsnPdaJD+Kxp0wK8jCx1LJ0NpFWlhSSEpJXExWRFpRSkRcQFR4gLCIsLikuKiEiKCIgOF5cT0dBWUNGTUNKVVdRTtptgb+rlL6Oho6Bj4jFxTPWPW7x9vAlzuYuBVlaWlpZi++eff46Li3v79i3xsMDl06dPv9BagmtlZWUM7Hp6ery8vABxsgdJkYEeQN7UqVPJXBPwm7W1tYyrbeGJccFw0EizqKiIvIpyIhdnZ2dQkjyNjo4mY/bq6upGjRpFmg3kC6Qyq4jCz165coW/nMuXL1+yZAl5OmfOnAMHDmDjxIkT5ubmeHXp0qVHjhxB4vfu3WOypqKiGuIIftvHWX1iIHUPO3X7y6S1R+dXXUtbXR2fFR+eFB44a6y1u5GNm6mzl7mxjY65vb6hjY6MuqyknKSErIimgbqkvISQuKCg2DABoeES0qICIgICIsNGigtIy4mp6EnKaUiqGClbuhlp2zsr6GjJamjNS503L2ke+MKsSB8REQFyAYjg7/379zkfV6QnePpCVVRUMAgmsJswYQKDYHCQXOzjsKioKJI1/m7bto2MAbl48WJ2djZZpJkJRJSXlw/ioIuLC0EwdPnyZRIugBeeNm0a83kB60gTpwCgZ2ZmkjQZrVy5kkEwikfaGFB7zJgxADf8r46ODt61bNkyZmUmKiqqoYxgZHPoxkDaHnYyELy7L6ny0vwfWxPzs5MKE3xnuQcnjvaLmuQ6yQHkNbTSDoga6zrJXt9Ce4TwCFhgFV1NURkRYUkgeLiYlKiCkrSYtAj4KzDyBwkpUTk1cUVtKTVTFbvxoxX0jeQ0lXRMzWJnxgUGBeK6nvO/V6THJT+zIj0oVlBQQHzlX4JgohcvXkyaNOnOnTv8wQFc+M+dOzcjI4MJE38hgomePXuGNEnLwfjlnTt3ZmVloRX5NPTMj2AiHDN9+nQy6gQlRGHGjx+vra3NjBWkoqIaygi+93wgax87lYfglN1vU3bczd52KyZpVsjsSV7BplEp431Cx9q4GY0a62RopeEfOcHMQUdSSVxEUlRATEBOy1BCXkwECBYdLiEnrqWnoqqtKKUgKigsICwihJeklMVUDFR07SysxgdJq8q5jZ/i6ur2yy+/cHgx3JSUlMOHD2Mbf/Py8sgpkxAw/520vwTB8Js5OTlPnjwZhEWY2bFjxy5fvpwh/pcjuK2tLTc398GDB7DY/J8X0vT29l61ahX/vbvPIhhvXLBgwe3btzs6OpDC7Nmz0SChJIA4fDH9GVBRDXEEd73nLGviWuAUHoKTa9sTK68VbDkzMTTYM8BhWqRt+sLwmPnBjp7mAZHeRta6431cR42xlVVVFJeVEJMXMbB1GCb8H0GRYYKiAhIKohp6irJKEmKyIwWFBEYKcW2yhKKYno2GuqWJ0ehx4orSimpau3btIlljA9gFbgC1yMjInp4eDi8+GxQUxG9Uv1DAJT/agGD+WDC8anp6+okTJwDHTZs28bOS+N+ampqNGzeSOudHMPjIn4uzszMQyXhqpHny5MmWlhYcxnxeyDQ1NfX169fw1yQiwZ/CihUrmFt8yBe5HzlyBClgJyx5QEAACZig/PPmzaM/AyqqoYxg9gBnx0V2+t6BtL0DHxH8eu7WtuRVte6B4WN9J08K84hJDnYe52hib+A+wcF6lJXHNCd1fXk5dXVB0REyqhLCUqIjRIYPG/E/AsLDpJXEtY2UZZUkxeWEpGTERUSEhKVGCssJaVqrqphYyGiqiMuLpnycdv3evXv+/v4ALlmmEzaQ83Gynrq6uq86CzhNwC42NjYmJmb79u1IBIYXZhM+FBb14sWLOAasBz1Hjx4NG1tZWfmh+enqKiwsJOgnceGzZ88yCN6yZUt8fHx0dPTWrVuB0c7OTqQ5bdo0pHnq1CkynTyTJtPJAakVFxeTXhw4pra2lqRJnu7duzcuLi4qKgplQD0A8UwK5Ibk9evXS0pKDhw4AHbTWDAV1RBH8NXHA5l72en7fkVw0l5WUu2r7PLtwcmZofNj/ONCgpMK7MaOlVSV1jZRt3WxsXY1k1WTEVeUF+L1RRMY+YOgiMDwEf8BgiXlxVR1FOSVZWSUxASFhsEIi8uJSKmKympJGjjYSilLO48eRe5NAWeBgYE///wztgEvZpnOPXv25OTkMN0JvrWQ6SCLSp7+N0MzBqX5aRZ/KBwPjn8awaCiohpSCH7VzVncOJCxd4AgOHUvOxn83dufU3snsagkcfHqyVG+s9LjYhbVukyeqGKgoWuiOdnXfexUV1EZUQlFmZFiIwVFRggI/yAgNHzEyGE8BItLKYqLS4oKSQwXFuUCWlpJQsVATlJFXFFXRl1bjYQXQFgYSdhDbDc3N8P2MivSh4SEDOo/8Nfr7VvOlSucy5e5DxjkAwc4vHpubW29zNOlS5cCAgKOHj3a1NREfGhvb+/Vq1cv8wnHNDQ0UEpSUVEE/0n1sznV5361wATBKXtZKXvepq7fHZAQE19cFpyeG5caMTVto5aZtrmTqZWzoZevq5ePh5issJyqgpyy7DCh/8ACDxvxw3DBHwSEh8soSotIiohJioyU+EFIbISYrJCYjIiEiqiIrLCUgjiz2nFdXV1GRgbO7tmzZ2FhYaRrxPv370NDQ7/5pTeqND+fk5zMKS7mPuzsONOmYeft27dRkmI+ZWVlCQoKHjx4EOUsLy+fM2cO/6ve3t5mZmb/qiWuqaiovicEn/mZnbUfFvh/ITh1Lytt+8/RhSsnRoYHpCdELtgck5kcvrBWzUjLxs3SzEnfZdJoTRN1RU0ZRU0FJXX5YULDhgkM+2H4/4DCI8UEhSVGisuIq2oqCcsIjBQTEJYUEJUSEVcQExQTmDlzJpkX+Oeffw4M5PZIw9nFx8czwxYWLFiwdevWb16pBw8iJw4JdNy8yfHy4kRHw8xGR0fDg/NHDwoKCqZNm3bixInz588nJyfzr9PR1tbm5+cXHh5Ov6NUVBTBf0aPX3MWNAxk7hvI2Mcm/E3bBwQPpOxjzd1wIn11Q2hapl/ivKwN+8LzN4YUbjWw0XOb7GjuYDR6ooOmsYq2iaqeuZ6IxMgRQsP/M/x/fhD4/34Q+B9wdqS4IHZKKUqKyo0UlRkpLi0kIiEyUmykta11d3c3h9fbITIy8vr168RaMsw9cOBAUlLSN6/RO3c4MTEcAtOODo6fH+fKFXZMTFFRERkczKihoSElJaWysnL79u0RERHEpxORBZ6bm5vxl35Hqagogr9a7/o4G09z+UsQDBeczuNv6j52yv638WXbstZuC8tZOTlxSd6mo3M33QnJWuYVYOUb42ExSt/KXUvPQkPPXEPH1EBUUlRYUlBAaLigsMAPgv8jrSguIiUMI8ztiKYgIiIzQkxKSEhUSFZellntuLS0dPPmzTivM2fOpKWlkVjqo0eP4Iu/+aw0PT2chAQO6euGik1O5tTXc168aDQzy8/P56/qZ8+e+fj4dHR0oKgeHh5kWDMjcLmsrIzNZlMEU1FRBH+1kOLR2wPZdQOZ+3kI3g8Ecx+poPB+dtqeV3NWNEYu3JK+5dr8yltF+19l1731mZUYGG83JcTR0kVPz0ZZRU9BVVfJ0MrUxtFKVFpISFxIQGgYLLAIgCs+UkhCUERaWFxOREZFdJjgfwRGCGzYsIGcyNGjRxMTE8mK9Ljwf/78OYcXAoYv/ubLEaEAy5ZxPg6948B9L1rEYbMf370bOX48v8l9+/ZtSEjIzZs3sb1o0SJY9UEDLlBaEpSgCKaiogj+av38ciDvwEBWHTuzjg3+ZuwfIAhOA3+xp+5tWu3jrG3n5q9rnP/jw/QD7wv2P/SZGRAcPy545iT3ybZWroaKWjL2o+3NHEyUtWQFxYaNFBshKDpCQHSYgMjwEaIjRogOF5URFpUVFpMfMVzwBwCLWN3W1lZ/f3/ADk+Tk5PPnz/P+bgiPf9AiW+lI0c4ubmk5wPn+nVORARM8bt37+Li4u7du8cchfIsXry4qqqK0Hb27Nn8/cng03EKzDRpFMFUVBTBX6eu95yVJ9jZ9Vz+8hA8wHtwt9PxqAeF+7P2/pJTdcgvf0/Szo6MA/3plbXeMW5zs2Omh44d7+3oNtlWTl3KZayLoY2WqLyQqLSwsOTIHwT/AxcsJCY0QkRgpLgA+CskOUJcTtDIxIisdgzbGBUVBaiRC/k1a9aQ8jQ3NyckJHzrFek5gGZ4OIf0dXv3jhMczLl5E7RduXLlzp07+Q88ffo0KQ98emhoKH/XYBwPC38EKP8oimAqKorgrxBrgLOnhet/+S0wHpm8PVngcv1A5gFW9o6WtM2nMvZ0YU9WQ39h1WbvKNfpIe4+YZ4+4e52Y4xk1SRUdeT1LDSEpASHCf1HU19NWGKksJiggJDASDFBESkhUTlhYWlBeWWZM2fO8GIAA8uXL9+wYQOxlvPmzSPMBZ29vb2/+eIUyCs6mkOsLpvNycjg7NuHzePHj2dnZ/Ob3CdPnvj5+cHqgrapqalkFsqPYYyBLVu2lJSU8CdMEUxFRRH8Fbr+lJNTDws8kPWrC2Zn7ufClzyyG/DoT608kr3jVtYBVlY9K6fhfXH10skh9n7hE0NifWZEuVq76cmpSUrICVs6mYzkzo4moGeiLSohLCQqOGzEMAHh4TDFsMDwxcyA3RMnTpAr+jdv3kRGRpLliHp7e+GLmdt030okBMxY3b17uQgeGAD9w8PD+ZfYQHni4+PJSOJt27ah8PyV39LSgpKTWYwpgqmoKIK/Wu09nNLDxO3C9g58QDDvb9aBD/zN4T565yz9cW7VPWxnHejPP9CRW541aryF8xgb/7Cp9p76BtZqcipyWobqavpKAqICYjIiolJCAsDvyGHDBblx4ZESI0aKC/jM8CED3p4/f+7v79/W1tbf35+RkUGWliDLdDLhiG+o48c52dkfegHDCIeEcN68ef/+/axZswZNYlleXk6we+3atYSEBP5hb93d3YGBgfwhY4pgKiqK4K+5FmdxtlwYyK77YH4zuUZ4AH8zDmCbmF92zkEegg+8m7/hdGZdb27DQM7B/rSNu+blh0z0dR01xiJ+brSth4GuiYaSmpKxjYG0suRwkeFC4iPEZUS5o5OFho0QFuB2DZYQMDY1IlYXFI6JiSHhiO3bt69cuZKcEa7xAcE/XI7ov9Xz55yoKA7p6wYDGx7O4WF39erVzDg9ovPnz6OcfX19XV1d0dHRjx49Yl7CKaSlpdXX13+aPEUwFRVF8Bfp9M8DOXUDJOBLYr48BLMz6llZH/g7gL+5Dazcht6Mve05B1l5B9n5h3r8ZgVEJY2JSJzsG+mZmBbiMdVGQlZMXEZMy0RdTFZEREpYVEpYTFpCSFRQUFRwuNCw4cLDxCRFmRXpKyoqgF0Ob0RcbGwsuZAn/QqePXv2bSuPxeL2AuatQsR1wUVFaAQ4vBXkkpKSPh3qBreOAmdnZw9aqrm2thY7P5sDRTAVFUXwH+vpm4EFB3/lLzfmwI08DPC2WTlc8vIsMPfByjnUn3uwP+cQK7+RVXL4Zeh875hUzylB9u5TLGeEjXb2slJWVxGVFlHTUxaVERUWHyklJy4iyQsEjxw2bOR/hgn+UFL6YbXj06dPk0HJb968CQkJIb2AydCyb74qJQpQUcFhrG5jI2f+fEAZZQgPD+fvBYziMeWBT1+2bBl/Mrdv3w4ODibj+iiCqagogr9a7/s5G06zs+o+doT4iOAPjwY23C7X/OIvHodY2YewzcprZC04ylpUf33GzDEB8a7+EV4T/O2dPA1HT7DV1NOSVZJR0pAHiEUkRsgoSUjKiQsKDxcQHi4oMnzipAnE6pLliMiK9Pn5+Uxfrurq6pKSkm8+F+W5c5ykpA8DkV+84EyfzmlvB21TU1NJf2RGKA+ZKB20nT17Npk4mAgnAv6SWYwpgqmoKIL/hBccONjSmU16QZA7bzz+8mK+PP/LjTZwKcwF8aEPj7xGduERVunx3gVbtockjktfGJ6aFzYl2DUoapqWsZK+qY6GjrqKlrKknJigqKCYrMTwkcOAYCExQU0tTbKiD6xuYmLiiRMnsL1///7S0lLC3JaWFkDtm/cCbm/njrzgLTzBDQGHhHB4Q92qqqrWrFnDX6WXLl2KiIhAeUDb2NhYMnnxxzAGq7CwcFCvYYpgKiqK4K/QhSuXMjZdy64jYYcBHn95Md+DH7DLC/jiMZB3cIDHX/wdKDjMKj7KWtz4srhiUXrxrIKyOb4RznZjLNwnjlIzUNLSV9PS1zCzMRaXFROTEVNQVxcUERQUFhgpIshEUTdv3kwWgLh//z6zIj0JAX/hivR/Xr29nJQUDpnVAbVXVsbhDb0D/WFy+fs5vH792tfXFz4dzUNRUdGgpZrr6+vT0tJ+f6p1imAqKorg39Sb7u5pkUGJ625yEVxHEDwABOc0sPJ5Vje/kcffxgGykUcejayiI/2rT/bUnLifXZy2qDwja+Ecj2lWntPHm9gaSSlLS8iJSylIOLpai8sLy6rIqOhoCwqP+EHgP7m5ucyK9OHh4WRF+pkzZxJrSVakb2ho+OZ1tmULZ82aDwORm5uBSUC5vb09LCxs0FC3efPmkWVDAV/+Zd84vFU+Z8yYwd9rmCKYiooi+CuEi+vlmzbaT5qcsb0ju57N8De7YQAWuOAwO/8wD8GN2B4o4G3n8W7BFR7tX3ny3eVHPeev/JRTPC8xK3Jmasio8ZZ+ETNsXM1kVZUV1eWFJYT1zbSklcVEpUQlFKSHC/7g5eVFlroAtmB1YS1R8oULF+7du5fzcU02YO6bh4CvXePMns0h6y7DbgcEcF6+RKbp6emkPzKjmpqa4uJiDm/miujoaP4bbmg8goODv2TxUIpgKiqK4M/rUNMhh4kuYwPCs8g4418tMNfwgrkgL0FwPhDcOPDBFB/pKz/RXd/y5u7Pj040n1pfvTqnNH1ikKu9h5Gtm5m1i5mz5zgVHaWR4kIG5roq2grC4kIqOmr/5//9Pw4ODv48eXp6kiv6xsZGOTk5Pz8/7MT1vre39zfvBfzmDSc0lMPrd8G9ETdrFoeHXf7+yB9BfS0iIqKHN00P+Ms/5gKHlZSUkGl6KIKpqCiC/wyCHz155OTpYOikbeLqlbz9eSZ3qDE78wAXweT+GxBcePijF+bhOPfwQN5h9tIT7+88733Z03f+4oW79+43Hj+6vW6L51RXGzcLs1FWBpb65o62FvZmWgY69q4WWsaqI8UEJWQlLSwtez8K/pHMywP/u3btWrLz7NmzJDT8DdXfz0lP5zBWt7ycs3Il53ND3UDewMDA+/fvwx2jVIOWaj5y5MigBTIogqmoKIK/ThuqN6gaqxg46ll7BaRsf515oJ87BJk72o17z41EHhaAwkd4RvgwCxTOOwILzGq8/b63r7+7513L9Ws973qONR/d+GNFUFTYWD9/GzdnYxsDGTVJFW1FYysDL+9R0qpyw0cOExYTBoKZrENDQwmC9+3bt3HjRrLz0qVLixcv/rZVtX07Z9WqDwORL1zgLo3R29vV1RUTE9Pa2socBexmZWXt+zhNT15eHj+dnz59Cs/eTrpSUARTUVEE/zkElyxbrGKgrGamr2U/If9AX/aBd9kHuKPgcg5yb7iBvIVH2EW8v+BvwRFWwVF2/lH2omN9rR19b9/3dXW/f/HyVXdP1/6DezILkyb4jLMf72brOkrTSEXPUkNGWdrMztBmlJGelcOwEf8ZLjjMwtLiH0bw3buc+HgOCXQ8f87x9SUh4JycHP65JaFdu3ZlZ2ejVp8/fx4WFvbmzRvmpffv38fGxjILZOCYd+/ekfXne0lwmadeHtlJUPsPEYw0kQIOxsagFL58WXtyY5MJo6NUbJ74SwXb3tnZ+eVpUlFRfUMELytfoWakJaujaj7GP2d/R1rNlez69zkNrJyDrPxGLnkZBAO+hbwHNtae6+983/+6u7fnbV9fb9/bdz37G3el5yd4ebuPnjja2MZUVVdJWVtFQk7abZzzJF8PY/vR3IU7R/xg+c8iGBiNiuKQadT7+jhz53J4w6Nra2uXLl3Kf+CdO3dCQkKAP1Bs5syZt27d4n91+fLl/NMGwQu7u7tPnDgxICDg0KFDZOfp06dXrVq1c+fOFStW/OHCRcCut7e3l5cXnPWOHTvIzsuXL+O9e/bsWbJkyZcQE03IunXriouLU1NTCbjH8+Tn54cTJMe0tLQsW7Zs9+7dRUVFdEVnKqp/QSDixy0G9qMk1RRVLEdNSKnwzSzP3P8O/M09yCIWeMHRAX4ELwCCm9gbzvf19LJevenr7WVzJ5bsel29u3xawHjHsaajJjgp6Shqm2ip6WoKSYp4TXWzdTdW1tEZLjhcUFTA0uqfQzDqp7CQw/R1q6nhlJRw2Oy7d+/OmjVr0FA3lI0sR1RRUTFomp6LFy9GRUXxh4BfvnxZUlJy/Pjx1tZW4kAfPnwI8AHfbW1tBQUFqCKC4PPnzzMfE15lZhnGNpiOFEjcmcPrGe3j4wOSwtXCoTPWGPXDmFwkS2Y14vAmr5g+fTrxvFOmTEGZ8SreSNIkBIedB+iR5uvXrzMyMr55nxMqKorgP1TVrgNWE+IUDWwl1UzUHL3jVl7M5lngvENc+OIB7BZzycvdKGzijkUuauqvvNjf847V/qafxSVw3+2fr4bM8omaNVvfVtXMxVrXXEfNQFNFR01KUcrEWmf0JAtZFTlxWVFhKUEr638uFlxXx+H1LSMOkxMWxunv/62hbsSKnj17Njk5eVAvYJBu0EQQQHBZWRlsL3hHXkpPT4cbbW5ubmxsJBEMguC9e/fCGpNQAPhIVgYhCF6/fj1SaGpqIseXl5fHxcUhBdhq/k7Kx44dW7hwIYiMki9YsIBBMEmBbIP+mzZtIqO9cQDSJN2WQXk4eqR5+PBhMgsHFRXVP4zgmr1NkxKWj49cYOA4dkLc4twD77NhgbmjMLiGl5C3iGw0sXgIZi86ztp6+X1nT9/rzl5u7LKvd/v+6sj585Jysz0DPfSsdO3cLTSNdIBdZS0lR3cbGzc9VT0lISlBYamR/5gLvnuX3Hbjbnd2clekf/gQNQZQDhrqhqcAaH9//7NnzyIjI2EYmZfIND1kajd+AbtwnaBqfX09QS0gGBERAb8JyxweHk7eyDPiAySwkJmZyb/QBg4A9AFKEBPHg54ow6RJk+CFb926FRISwg99ABTFRjsBHH96oteuXZs8eTIIi49m8+bNSAEZhYWFgdoJCQnjxo3DGcH44xj+u4tUVFT/DIK37W9yC8nwnl8mr2/sGV2W09DPHZHMnfnhA4IXNLF4CGYvaMKDi+CKs/1H7/a97u7r6ukdGGA/fPwoKX/ezKxi39jw4LT5pvYaxg5mOqaGOsa6EgpiTh42Nq56shoSIrJiQuKCVlb/hAsGvxISfl2OKCmJc/AgNg8ePDhoqBtZkR6Q6u3tTU1NBUD5whgDKOSyZcs+recnT5788ssvHG6o+Y2qqirIC3aTYDHQqaur29raysSCQWr46E/nwCTjO2BmtbS0kCAICwqTqIidnd3169eZgwFTVN3s2bP5b9wR3bt3D3CHVQde29vbybuQpqWl5c2bN7OysnBS5Ejk0kIm56SiovoHEVy9a7dn+FyrSdMV9QzcIorT9/Xk8oZgcM1vE5e8+FvEgy9vgxuFqL3We+4XLoI7e7iBiJ9uXg2ZHR00v3jGrPjw3HRzJz0DOycrFycVbTVZNVmPSU7O46wkFUW1jbWFxEfa2Nj83QhGtSBBXt8ynu2v4U4HzOE8evQoKiqKjNMjIrOdkTtvlZWVuK7nr1ISAv6sc8SRpPwPHz40NTUFW2GKi3i5wNiam5u/fPmSIBhEzs7ORlLwwitXrmRusuF4MvUluGlsbIw2oLGxcebMmeQtTk5ODx48YAqJZuPEiRPwwqWlpfwcB38XLVqExgAmF1a9rq5u4cKFpAyo9sePH8M1I02cFN6lp6dHZsqnoqL6JxG8/seq8WHRY/z8VU0sx8auyD7Qyx38doTreQl8i48NcBF8jFWEjWPY09/8c/+p+33PO/taO1h9/ay6pqaghKjk0popcSlRmX66pup6ts66liZaxtqKmopuExzsRltKKkioaCmJSYva2v3tCMbVek7Oh17AN25w50Xr7oZ//HSoG4gG8mL7p59+GjRGA0z08/MjU7t9KpxFeXk5mJiWlkbCGkg/OTl59+7dgOD27duROEEwvC1ZAY/NZuOsySqlhJIVFRXAbm5u7nbebPHIPScnZ9u2bUuXLkXlMLfOVq1aBf4O8HT06FFmzT2w28XFRVNTE6YbeAWC0bqgVIcOHcrLywPicTysPbaRPunRQXtEUFH9CwIRdfXugf5TIuNNPIIS11yFBeYhmLXgI38XHueSt/gYe+ExblCi9CTr1M/9dTf7Lj9iXXzY29HVW7O/3mXKtJC8quy1q4JiXVS0VceFJpnY6msaa4hICTt62Nq72ilpKstryCmoydrYWP2tCIZ5BHNJb4fubk5QELwicLZkyZJ9jC/mqampaf78+QAfihQWFsY/7Q6Ox1X/ZwOvjPBGXP7zL9mJd7W1tTEumyCYv38usbT8xyMF/pgv6ZLMP2c8gftvpfCp4LKfPXvG7/RJmvx9nKmoqP5JBG/ctntMmN+MubmOYSUJG+/lHuZa4AJe5JfnebnkLeKCGBtcEK843bfnet/2lt7aq/0n7/e1POrJW7UuMGlJ1o7L0emxE/1GGdg7+iYvNbHVUdNTHSk6wsrJysTWWNNQW99aW0NX0cHJ/u9DMC7zY2LI/L9cFwwvvGsXNk+dOpWVlcVvcsFKMtsZ6jAlJYXpZkBUVVVVVlb21V24kPvFi5yTJ8ljmbc3d6O6msPr3oC8mpubT35OMLmwz6R49+/fP/kbOnLkCE6EUPXixYu/ddjOnTtJnJqKiurfiOBN23fbT52YsGR75MorOQd78w7z+v9yIw8fQhBwwTwvzOVv8THWmvOsdRf611/oqzjX13Crf9ulF3MWlc9ceTxnx6Vxfk7OXlYBc3Omz8+1dTXVN9eRlJdQ0lCSkBNXMbbWNtPRNlC2s/+7AhEg5pIlHN7sa1wBvkDwwABoGx4ezm8DyeCLc+fOoQK3bt066Ar9p59+ioyM/DPTBu3Zw0lO5mzeTB4snGBWFkdKitPeDi+MHCsqKjZ/Tn5+fhMmTICBBTpjYmIqKys/PWbTpk1GRkarV69GPg0NDTDpn00KZl9UVJQimIrq34vgrXVHTT39fdKq8w69581/xsrnDsFgEQsM+PLIy0Uwd88x9qqzrJVnWMvPsJaeZtX8xCqrv5ywuLLwUEfhjhNuU+zGTLf1DIlx8ptu7qivoCEjrSytpqMmIiU2Njzb1NZERkHMxtb6b0IwCQGTOuFbkR604u9dwOFFV8vLy1F7LS0tc+bM4XfHuIQPDg7+dEX6P9bdu5y4OA5/lKCzkzs3m6vrQEfHihUrfmuJjdu3b0+ePJn0IYuPjx9U1F/DR9u2TZ8+HSAGXgfNn8kfhUhOTvby8uJf45mKiurfheDK7XuiireGlB7POdTHzALBBII/+N/jAwtPsIuOsxccZ4O8y0/3LznFXnKKBSOcvXFvTP6K4sMv5y0t9/Bxsx9nbTnBZ1JMrJapppy6lJSqpLKOsqKWhv+8AiMbfVFJIeu/JxaMZKOjySU/l4NhYRwey+Bwq6qq+CvqwoULMLl9fX2gWFRUFP8NNxyWmpo6qNfwF6mri5s7/707MjBv2zZOVNTJurrMzMzPhjU6OzsDAwPhu1ESVAIzqniQwGVUXXNz87p168Df35qtGJguKipCOhTBVFT/XgQvXr48KG3xrBV7cw72FhwFf/u5o5CbeLfjePfieAhmLzzBAn9B4bJT7KWnWEuasQEv3J+5vs4jKCZvz924/IJR3kFO08YHZW/yCJhmYGWka2agqKMkpykpqSRrYm9t4WQsqyRl/Te4YDL/77VrxApy2cc31I2ffU+fPvX19W1vb0fVZWRkDFqqGQgrKCj4MwGQBQtIv+NfBY4nJ+N/W2BgZGDgZ+dXQxlycnJ2794N621hYZGVlfXZ5Ds6OuCRYczReNjZ2Q2aP5PR1atXycp7ZWVlFMHfSPikiouLt2/fvpsn1PkfvgVfdVy77Nq1C8ejdf/9u6nQ48ePt27devr0aRxPOhHiC/z69ev9+/czwTEUA0lt2bLl1KlTdPal7w/BK9dttB43Lio7s7ChO7+JG4L4MBzjQ/zhw2PRCa4FXnhioOwU98FDcP/SM+/zqpsSyhuL97X4zowKydsYnL1o1sp9+raGuhYGxjaWRjaGWsYqsqqyWqYmOiZaCqryfweCKyq4d72IDh3ipKVx+vvb2trgdvn7OZB5G8hQt507d346TQ8Qxt+X4EvV0MBFML/JvX+fExiIHwo+oPjJk2Fyf+vHCQSjVPjVubu7/9Y0mATTHN5EbnPnzv2sm4ajDwgIuI98ORyK4G8nXI5MnTo1jicHBwdmqa1Bv0T+p7NmzcKFC45HO4rvP+nfQroY8h/PPD1z5szYsWORy4YNGwhz8Wni62pra8t8Q1atWnXr1q3W1lZPT89dvBvOVN8VgjdttvLycvOfnrv/JS8KPLCAuODjH0LAPP4OlJwYgAXGxpLmgSWnBhY3A8SsxSc640q2LjzcUbJ13/SZEenVxzIq6wOylpm6mBrZmFs721g4meqaaMurylt6TFE3UJdUlLBzsPu2CD5zhjCXu93Wxpk2jcMb6paSkjJoqBvMCLCLjZs3byYkJPDfcOvp6QHC/kwIGG+Ji+Pw9xuDzYmMhCVHRvip1NTUfPZ9d+/eBfGBThQVv1IyQ9Cn2rt3L9w66Vg2aPA0nwtn42SZ+AlF8LcTviHkvi424FWZHyAQefToUfIUHyU+go+XZ31kTSxsrFmzhrknjA+osLCQ4BjfQzhrZiTOZZ7IcE0mXzwdPXo0g+Dx48ffuHGDw5tXxM/Pj34u3x+C7SZMnBQXn1P3Iv8oq6CJNxD5GOkRwY08AMEl3L/s4hPs0pO/InjJqf7S/TfnVjQuPdw6My8/LDs/YcX26LI9IVmrjEaZWjpZOI+1MrLRsRhlZOds6zElQF1fRVRO2N7R4RsiGF/KsLAPIWAgNSSEw/tqVlVVrVu3btCK9CQEjCvBmJgY/j4DZHabP+Mmenq4C4Devs3vf7gD82DJBwbOnj2bmpr62SU28KsLDw/HZSxKuHbt2t/C9O3bt4FpNA/4NcbHx/8WpnFdzL/yHkEw7HxtbW1paWlFRQWx9q9evYKbRrUcO3bsS65eUUg0APhoVqxYQX78/f39J0+ehDvbtm3bH65eyhQGLR8umXGOyBQpPHz4EGW4/bHS8HGgVMgFzdVnG5h/oVAzy5Yt47+Li08Zp3D48GF8RmgyP72g2bFjBxmhwwhfj4KCApxyUVERfw90+IYlS5acP38erzI3KgYhmLAbBfD29kZLQFH4nSF455HzlpMCrSe7JK4/XXCklzsRDx5c+HLvxRXz4FtygoSD2SDv4pPgLxsgXnzszcKao/m776Wt3xuevWTemoMpm45l195NWb7R1MXSJ2zy6ImmZo4Glq56RtYGssrKUsqSGgbqdg7frF8w6JaUxLly5QP7lizhfBzqNnv2bH72gRcwubhwAwXwjT/4v+O28I9g5VfH1JDj8uWcQTfQmpo4iYmAOvwOIEtO9tMQMMpAsHvhwoXfWgkJv/OQkBCYnd9302AZMuKPnxAEg5swUwAcHBYuhJEIMN3Z2YnfLV5ilitFLvxDP1BspjCbN2/GRTEOAMR9fX2RwqFDh4BgVNSVK1cWLlxIvn74y9/hD+nzkxQX4Gjw8PmSqoDrRwpeXl6kgzMEHAM6yAXFxvl+F+P30OZVM4Gvj0I14luEU/i0ccKnM3/+/E+/YEeOHLGzsxu0bgCqiEyjiqYrEd+lzyGYXPqgYVu0aNEXLqNF9S9CcOP5+5PmLNZxshg/qzC/vmPBMXIjjtcpmNyI48EXG4tOshfzXDAQDBYvbHyWsOpAycmuzPW18zeeXXC4M3fn+cIDjyLSk6w9bHyixkbMnWxgrW1kp6mir6puYqugqaCkqWD/jQIROPd167h33p4+5T5AVXxfebOdTZs27dq1a0/5BCI3NTWhukg49cmTJ8xLYNyMGTP+zOAx/HKysjj8HwE8i78/6QUMsA5yPYzq6+vxW0VhYEtRIfj76TFk/kzSjw20Sk9P/2wLwT/N8SAEA5HEW507d87Y2BhknDJlClCOnzFqm+n6hquBnJwcQvDHjx+j2ExVMB3pQHlNTU1QEtzx9/e/e/cu6ZvBGEBcQ5AbU9yVuZcv52fK0qVL0fLduXOHv/y4dmYQzIxabGlp0dXV/XQeon+b8MGBs4PG8nB489XhY0U7h9Mf9MOEO0Yr+GkTi4NRP/ig+aeunjVrFmqYw1tVAB/ZZxGMytzDEz5WpiapvhsEb9p+aGrGj3YBma5RhUlVN4DgQl7/3+IPHSG4D8CXF4XguWBuCILrgvMbnmfs+mXx6d74FXuKm3qKm/sSVm7LrW3xnRk6aqLFtFD7yUEuOubq5o46hpbGVh7TNQzV5dXk7extvwmCOzs5BgbcyENEBPdhYsLhsQyX3q6urhF8mjp1akpKClwDvvQwHbDD/K8CT1eIj/4qPXnCCQ/n8N+7A2LCwji86DMcK5zjZ9+HS8vg4GBgFz8eNAbM9MGD1NDQQMr88uXLQYOn+VmQm5v7aT82gmC8l6yKNG/ePBKaBCWVlJRUVFRWr149qJdednb2gwcPwF/+LnokBWyAFLi4JhFzNG/S0tIwxfxFAiDS0tKAdfB30Chw0BmMgH3OzMxk/Bo/gplccMCf6Y7ytwuNhJmZ2aC+EPfu3UtKSgIi8SoavxMnTvC/ipaP8bNMIqjV48eP49xxWYBt5s5EeXk5PgtAFkAnSwegRYdRsLCwAOXJYWj/Jk+enJWVha8QmeyJ6ntCcOWOeu/MynnrWqLLT3kvqC84xotCHPsQ/CX8XXiC2y+YIJgXDgaC8bS/7BSr7FRf0cHni5pZC0/0Ri7fn15zKjIlbkqoR/DMMZauWpbOhhajdFX0NI1sHLTN1CQVJL/V6DjYJVhONpvrQ/HANk9VVVVkoQpG+D3ga008Gi6K4Rz5X0WRYJy/Luv+fk5s7OdDwDzSJSQkDJoagjE+cEMgPpkGE1ean00ev8DAwEAwDj9UXMD+VoeKvXv34kf46XeAuR2Hl3DJXFJSQha4A69RNjhZmM1BoDxw4AB2DlqriaSAxoB02yA5VlZWIpExY8aEh4fz983A5TMas0ETe5LeVMS1ubu743P5FMEkF5QH/P0uFvXAueCzG9Qowucy/h0HDLqvgBPHAfx78AHx3yvGlQr/xHhowteuXYuLGFKZeAk5oubxl9yF27x588qP+jP3kKn+WQSXV+/RsPNOXHcru/5F6o6Hhcf6i7j9f7nMLebxd9HJAR6FufyF+S1t5vVIa2YvPsUuOz2w5DSr9Axr4SlW8cn+hU1dRbuawxNnTgzyDo730rdRcxpramitoe/gajV6jLaVjqqWir2D7bdCcEDAr3EAPgQzi2wSwWUwCI6NjR008virEYwcV67k8OY2+1XHj3Pvy/X345cJZ/3Z9SnwYeE0ycRsoDDM6WcvuuGOg4KCrvH6OIPRqKXPfsoE05+9f8UguL6+HtAE17CBny5jxHARnZeXx48DODhc1YLRgwbdwaYB4igSNkCWGTNmkCmEYIeBUcbVkptRsGxwsqTkRKAMmX6TIJjphT0IwbhyB7NwDDaGdi9XfF6UmBTBnKr9Z9wjy7L2vZ5ZeTN77wteXwhW8YlfLTAQTMIRBMEkEFHGe3D5e7ofj5LTLBjh4mNvUsoWBc2OCU/JipnvZ2itZTNa39bFbNTUUN9ZWdau9tb2ps4ujkMKwc3NuGb+X72AX73iLsnx7BlQBVvajAM+J5hxMh8mLlejoqI+e6cOuMRlLLn8bGlpATR/y02HhYXxw+5TBG/duhXXy1OnTp0yZQq8f1dXV1xc3N27d7GBKmIK+erVKzQGBNkgZnZ2NgPWgwcPGhoakhRQYOyB5wKRkQKaEFxck68foAnzC8pzeHfzQGEmNg3ikH4OSBntCsCNxGGiR48eXVFRQTLFN8HIyAi54Moan87Q/sXiI2Ni6FT/9yJ484HL0eVXco/0JtY8iNt0h2eBWdxbcFzzO1DSPMCHYPavCD5NHqwlp7l2ePGpARjhwoOtIfOixwRM8ZsZk5QTHRA1zXOqnY2LkYnD6EnhCQZWesYWWi6jhxCCUXjAiP8GGoAVF8fhrUgEPIE4n72axln7+Pi8fPny9zGNy1UYUhyDI1Gwz4aAkf6iRYt+/PHH3yojQfCtW7dOfBRZKA/oRPqNjY3kbg8Rzr2trY15incxt+Nu377NpEDegqxRt0jh9OnTTJcsIJhcHRPh7fy3B58+fUoyJdUO4w8Pjutu/CXDrPnL+alD/HSypHc8ffnX5NPRaPjVfGHvNxxJwlY4Wf5LFv5tvIpLByT4Jf6dIpgimKu6i8/zDr4rONK/4Ghf0bHeohN9RSf6uczlxR9ICILEIoDaJSd5gYjTA4S/BMSLT8MO45jeoj1nI7Ky3IPDx0x1j0+OjkwM9phiZeKgrWloomNpr26gYmSi5ubuPEQQDLbOns0ZdAMNv6jlyzm8SSZhMz87/BT5RkdHk9jfzp07f2saTBhSX19f1A9+zGlpab91p/v48eNwx7/TFen3hmageJ+z1b8v/vv1Xyjg/k8EdvlrDxwvKSmJjIwcNIosPT0dQP+S1K5fvw57PmnSpEElQfsRHx//Jb8dNIT29vbw7EiEROTRmOFSICAggKHwoUOHamtrceESHh7+2c4tFMEUwZ9cEf/Cyj/cm3e4P5+7LkZ/TsPrgsPvFv4ahSD85SIY5hdGuPTUwOIPLpi19Ax7yRnW4jO8p8deziouC81dEpm3NCBq/MyU2MhEH5cJFjrmKvoWFga29romGnpGqk7ODkMBwcioooLzvxe355w/z70v19tLegF/Nh3Sq5f88OAWgenProSEUgE3ZG236urqtWvXfvbDRRbTp0//vWERT58+Gzeu19eXExw8+BEYyNHV5fDIDr77+/sHf4HGjh1L4rko4axZs77kLWhI1NXVSUAcePrCjJydnZcsWcKPY9TG+PHj+QEKek6bNo3/XuLZs2cZ297b2wtzzRyPluPBgwd2dnb8/hRVl5+fjyIx1dva2sq4eDJ5HpMgToF0r2b2gLz4CJycnEhrgacTJkwgfcVw+ZKdnU0RTBH8BQi+21XY0MUdF8e9EdcfXHaysLFnETcQ8QHBJc3cv6XNPASfGuAi+KMLBoLLQOGz3L+l+y+GZyzwTSmNL1xs6244JzNyRvhERw9LdUM1M2dXQ3t7cwcrA3PdUUMjFgzaJidz+L0nODhjBqCIT6GgoABu6LPvg/lFpvit4loVkP0tTFdUVJBCAgdz5sz5bAgYiURERPxeFzrAHYU8e5brdj99gFwyMsBAW1sbXDlK8vaPhGM8PT3JVEcLFy7cv3//2y8QbLi0tDRO4c6dO8A3+PWHb7l16xZYOagnH3byI/jp06coQEZGBj+Cr169mpWV1d3djQ936dKlzKQNTIvFj2AkVVNTA2rDxjK/Hbw3MzOTdJRGy4SPknG4QDDSPHfuHL5CjEPH58ggGAkiR/KNSk1N5b/JSRFMEfyb2tl4Oqv2SUFTf8Hh7vwjb8KXHF54rI/rgpu58C1pHiAPIBjMBXxLAWKC4DPspbxH2dn/n73zDogiWdf+X/feNUdUUBQByTkzwwSGmYGZIQ4555xzzlklSBQFAQVRBMxZQRCJigqiYMKc1qy7qzI43zv0LoeDgOi3uuL2e3o9TU91dXX1W796qrq6aiiv7UNS+bbEikOBBbtdQoNMbPXtvcy0TTUllYSUSSRNC2csnWpob7NSeDmBhJv2CAbaenj8+Rn0X4qL82FeYyN7eOAB4GmivgVbW1tgB/wK4uvUqVMT4P2st7c3MAs0GsARwo+LaVBkZWVlk+n07ds5HSPjesXdu2wLC3ZaGqu7OzQ0dEwWjWtALqBbQUEBUAna/mvXrp1KdyfcC2Syq6srPGioMKayYCjyyTjcGjIh/bgIhsyBxgGEBFyOGVHX19cXExMDj+Do0aNjSsRoBMNPcBdXr14FDo5GMFK3AdnBIeEZja78Xr9+DQ8X1DTEDPUQcspoBI/YjRs3IKmfvVkUwSiChxF87HTinruAYPvMo/7FraHbulOO/prRNJjZgkjgPxE8/AqOg2BkQ/ib3/ExH/gLKrj1VWz++rjK+rhtx2hGmh5BdkQdTSIdJya3Rg6nbBmYIqEqRzXS5ZfgxRPVpjeCoUxGR7P/GtPK/usy7OxsUEEg9CDOcXtm4eDIxGxwv9nZ2eM+L8gQpAsY9qElOxGmoQ0+0XBj9l/5yA4NZY9Lyd9+47xFvHSJnZNTFhIy0XjkMVZbWwtIunXrFihZqBim8gEh3AXQDfITwgMrxwyGncjg6UOSwA0mQTAy6QdITsirpKQkZE64v6T/YHh4uJ2d3aez3I1GMNwIJAliAK2tqakJgnf04wDUUqnUs//9lEEaI28I7969Ky8vj2D3UwQjXxiOXjYQRTCK4MmsfNcBpl9u0pHnskxXi9Bsx9Rai+T9axt+H0FwNqfzgTNBe87wazdkCETenwiGjZXfOZR9+le3mDj/TUdDM/OtXU10rTS841KUSHKKapJ4TXXnpBIJJTFVdVVRWYFv9XXc90EwxA/CEwRvfz/nWwxkO3OG81Xeb7+BSnJ0dDx8+PDV8Wzjxo0IdkGmGRkZ9fT0fBrmypUr/v7+yMdUdXV1vr6+wJ1Pg0EWAWLGHW78p0Hhd3VljyefOZabywbsfvzYlZ0d5uIyFTF7/fp1BwcHEIDAIKDPp19tjFvlAAqRr6JB/07UMhhj8HQgByDk5Ai+f/9+/7BZW1vD0xx58QUXzczMPHHiRHd3N2jhMUOtRyP47du38CAgBqhaGAzGwMDASPGBNIDSB88ELTx61RKIGZlOBM4C7CIVLSBYQ0Nj5BXlvXv3oKEA+vf27dsTzePxdyEYEvyl46a/Ypw13OZIXQKZD3+Ofo6fHkGuAge/CEff+kaGhm101kFVPToS+BWOjPmS6Evv4isRnF+yebU81WHtMUmKpYq+lRCW6rahKfMM6z9dEK0ggTnLFP2FYFbOn/Ad5m8Hq6BzKKfxIdMvKbaqJWpdqoOvLd1cy9TDQ9tcna6njtckBuRUyODE5TDiGnQsVZM8jREMV2EwOAiOifnPpqLCHh6kBbgBPRUzgY0UWijY0DAfNwykBxKAFC1DQ8OJoqLT6ZOMQuMM1QgP53QBj2vAxOHZM54+feo1wXjkT3sGgPgIpPLy8uqG57//rIGSRQZ7ALAmeuv4Se/IXVC1SIEfg2CIJCsri8lkVlRUjDygkydPQsJiY2MRUELygHojAySQWSJHCh7EUFhYqKurW15eDgRHDoJ8Tk9PNzMzO3ToEFJ8oIZbv349chb4RkpKytO/epwArOClIJyTk5MRpwLBCyJaW1u7pKQEEg/PFyoqmb8M4vx2CAY3hmICjjTFUg+1FGSOlpbWF02BDfkQGRkJd4e0aaASgqcPuYoMCIE2H2RFTU0NuDQy0hGaZZBFUOjgYU205ssYu3DhAjwXu78K7GcNHtmWLVvgkX12tvu/mny/7d+/H7TRSIcVMh0HVL1wXUTuQHMHMhNuDY4jj7ujowNxdZAOU5+x7ysRnLupUEBejWwbreuSpkw3F5bHWsTWZTUjCOaMf8hq4wx74AxBQ0Y+tLMQ/QvkhQ1Rwbn1N1L396ZsqUvNSnf0d/IMd7H3dbR0oVEYGAMrY0OPUFWyDNWIQDOgaFCI0xjBwJGgIPaYZ+/nxx7u9YMHCT460angBMgOqKSJ5oIAjRkVFYXsBwUFTfRAIYbJiveOHezhGxzHQBfb2rJfvICiFR0dPTJB2uSFcGSSeAgPFcBUYAr4g5yEQgIFAFTt6KHHk+gaeBwj8918qoKnWN5G//kVi64CRMZMOzlaK4GsBnn7NWu5/t0IfvHiBXiylZXVmKVm79y5MyL0oDWAfL6I3NerV6/wePxooMADghplpJaCGqVzeEj7iMGfUKkgCEawhTxcuC7s2NvbI9/ggD/D40Z6q9atW4cs6T3RG+kxBimEq5iYmIw+CHAfPZy8oaFhpCKERwzuBA2X0QiG2nF0r1Fra+tIPsDje/78OVQkiA+zOSs6bEZeosBZcF2I0NnZGWnY7dixIz8/H54yVNWIL0Hjdep++JUIzsrP5RIU4ZNRxhp4yKjri2G0DEIrEfhmtw5xtj+HALPy/nr/NhrBBZ2sgrNDhS3PcttfuUZGuAV56Fnp2vpa2fo4GdtSMBoylv7Bhq6uZD0tpr0FVkNdXYOAIvgbIri3l9MFPO4EY+/fc8bMDS8UDSJ6io4FjyYxMRFKKWQLaK6RIj2JgcdbWlo+fvwYzoJH+VkxiPACHsrosXccBG/eDO189pMnU9ouXmQPpw1Y82RqBikc6UQGkTjFs1paWpBEAgKmeAoU9RHd/Td2RAC5xiAYch75uBG4U1VVVVlZOaaLgEAgjEYwMiYEGhawA1kBnBo9lhnSDM8OZCCCYFNTU+RNBniCkpISVFQaGhrIcHUoxaKioqCvgYzQ+oHnCCyeekXV09MzBsEQVXx8/JUrVyBhe/fuLSoqGl0RPnz4cAyCkQ4okLSQG5BIaNmMeU0yGsGguJEOJaiTIENAv8vJySHvNiAGSAnUsmpqasgVQUE7OTlNEa1fieC8TUX80opLhURlabZyOj7MkNKwHdcyOQjmdDsMj38YGg3fvHZWfvswfIG8nA0QzNp49n1ByyuvqEhHHy+KsX504WYTdwemJY2irxazpU6DybDw9LBwslAiqlO1NFEEfysEI+/ZRi8bOtoKC9lbtrAnnTno054BZOoJ0AUhISETLec8RsyCuyMuDv+mpqZOxS1BX/v5+Y0uZhwEx8ZyJr2Lj//85uvLFhSE5EIMKSkpERER8Z+z2NhYDAYDZRtBABSz+CkY6D4JCQmkrxPUPbQkPnsKtBskJSXHzEkN+QkEQRAMsU2xTf1ZBCN90+BCyNT4n+b8GASPUBg4C/fydNQgH7hBkISQTnBpBMHa2trIZ5xQqcAdgf+AQgRXhB1gvZCQEOBbQEAA+SIUjiQnJ381ghF1HBcXB7HBVcb0/H6KYCRLIalQtMHlPs3PEQRDnhgbGyNvhuESqqqq4NViYmLIdChQo1CpVNDgWCwWqb1A5kPapvhh0VciOCM3R0ieJEGyMYvcnrD3blr9y/Wn32UN8xf5/niU8v2YN9z5C9swfIc2nv248Ryr4BwL/i1pfZGQmeToH+wam7r24AWXKFdXP2uGiVZkcZ2GiYVTeARJC2fqFWNsboki+JsgGLwkKYkNvgU7n25QeAIC4J6heQW4AbYOfc6QSeKRqSfKy8uhSENJ+OxZSIcahIRWrYeHB4iLz56CjNUboxMvnjt3XFqaPYUFMTmjPsLD2XQ6+/FjyBZwnqkUGNA7gGAgIChHUPej6TORQSkF99DR0UG+r4E7/WyJQ9bHwuFwoxfCQHwP6gBILbAyKSlpZF60/38EI+0JPT09pHP2swhmD8/xpK6uPuZj+j179uzevRuQBGUE+AVPB1QwchdAQGTKabgLOAIEb29vV1ZWBhZDlnYMv4SAIxBmikQaF8FIzz6NRvu0sIyLYGSUIZlMHjPn/acqGJwNGTAOWYHH48FRZWVlke+b4HYQFQwIRrgPGnzqSwd87Uxp5VXyVDunlEOJBx5lnGFltA4NS2DOyN/8EfL+Z/zDcP9v52DhOQ6Fi859LOpiFXK2D0WNN30iA2z9YqNL92U03PSMdrZw0NY21vdMynUIT6cam1i7OsZs3m1pbYMi+Jsg+PBhtqoqOzCQk8Ixm78/W0cHCAURhoeHQ/kMmoKB6kEmcrtz546UlBSo1M+eAvkJBRX0CFwIdiwtLadyIWjPjplRl9PMX7fu41Te+0EWbdvGmRo0MfFWRwckYCrfT8MjhnJYXV0N+g4y/NMJ18eFKehraF97enqCC4G8nQroL1686O3tnZ+fPwbBYLt27ZozZ86CBQt8fX2/ruQC7CCHR58L1ACHB+hDvQL39ekkG2P6gpHXj6GhoaAHQbdWVVWNxAZHHg1bcHBwVlYWVD/r169HxnhAK8rGxgZp5SBdE1CRwOns4bVlkZk54acxaZvEuru7QZmO0eZQB4CfQzISEhLGTEH14MEDOp0+BsGQkrS0NEjnyOoEYxA8MmUoPHTkqx9wbPBSpC94RGqA6Ia6RFdXF+mayMnJmXpn0de+jispV2R4BJd1pzf+ntnCGv4cg9P/wGFu++jBZx//RDDoX5C9nM4H4O/Q5q7BTV2DmzvflDX25VRWh6RtLj9zL/NIr0ewI54mo8XUd08qNPaOVaPrukWtS9hSZ/8XiVAE/80IhkoeYAR+8+l26xYn2cOxhYSEQDvr1RQMQiIvvu/duweNu6mcAs8OCgCSHC8vL5BOUzkLyurY6RSAyGPmn5u4+HI+k/njj9/j4rwsLEavATixp7zz9/cHCXnixAmojUbmeJvckOWsQPohc/xPRTW/efMGHvrNmzehzHOgAFe5eJEzonx4G2xrU+Djm/u//3sVuPbXwf9sUP1Mevvg1UBGiB9QPtKnBAcBhcjtQMmCZzFSIQF5ISQQB5x/5E0XUAyaLEgZBOoBgkdmEEUMKieoekGwg8/AMwL3BqUJVEK+4Yb94uJiEMtANCQNUHaAg1Cc161bN5VuK/bw959AcKgRR69A2N/fD3Ei70UhG9PT00d+ggYc5Ke5uTkU7ZGWE1wXcgMpy/AvpHPkJ/gTCgt4Y2JiIlLXggNAhFBJwKNHNDv4LaQBbgeSjXxf3tXVBRUnHIGKZ8yUrX8/grfWVChQmIFbzq8HCTzM30zOLBAf80cp3xEEgwTm8Pcc6N8h+HczB8Gs6p53ufvOVtT3FNadqtx96MjVP9L3tHoE2JJ1CBpGluv2dqZXt9p6+KyrPFp5uM3e0QlF8DdB8IED7Jqa8a8NgAsJQTIHVPAU5yEC4iAIhnbfJPc15kX2SEjA3FTe3SENw/9CMBQeeHxQyCGdk2/Qfre1BTHDGhxMtLIqKy19NAUrLCyE4g15W1dXB+1cKKufPQWeF5AX+Xga2vJQMj97CmRaREQEMirgTwSDCoPmCOTPX1u1r2+QoeHQqCN/boaGoFc/O1KF9ZeNPjhGFI/8iYx0RGy0fh99+qcDjUeugsSDDJUdGTECBz8M25iLAo6nPm539I2MxDPFGxl9cMxo5TGnj7nxMTcyXLIHxwxw/vTIt0JwceVGQVk5y/jd65sHQQVntg5lcWaB4Aw+Q0b+jow8Q8Y/DOtfFiB487mh4i5Wyfmhttvvi/ecKtnbnlt96nhT4/l779KqD2kx8RRLFwOX0Oz62xFFB6wcPdqu3G26eNPc2gpFMIrgyRCcnc02MeGM6/jspq+PrNB6+/ZtFRUVkO2hnzPIVWjDAiMgbz09PaEFGjoFo1AoSIu7vr6eSqVO5RRwJA8PD6QAcxC8ZQvnneF/vwIFOTbOFEvIkoPD3sL6yK5/9vHY0++xVT8c+jDsbgO/f6cr7nv8seXF8JKvbPbp5198+v6R01kfXt5sfdZ38ou2J9373j68zP5b7SsRXFhauEpaxiOjIbN5uBei9c+xEEgXxH9GnnE2zvgHgO+mc6xNw/p3y/nBim7WxTtvdxxt3rTvTFHtyZr9+y8+fO+eEI3XVk/f3R5dVl987rfEbY2ZW+q6b789ceG2kbkJimAUwZMhGGj1383hCa20lD1MxsePH0O+TcX/4XFbW1sjuglucMJpPP/bUlJSrg4vTNXW1jbFnsFLly4hK+xxkrlpUzcvL1tPD9zr8xuNBu1/dmAg3EzZvaG4a6zNd4e+9eZzmUXqYL0fYr8cZDv1sDZ9+ytuvDMk0Ty48+EQ3ObuR0NBV77sNovuDIk0DVY94NRwDzurbhyMv99SOvXtTmNBS6L4y4H2HwLBOUX5OB1zn9yGzJYPGa0sznDg4VmA89r/6nk4O1TY8RFh8cZOFvB3c9cQILj04uC2blZV9+C+Ux11xxpD0vM37jy+/0TT4Yv3cQycpKrCul3NW7vfl194X3T0QuuVx7tPXqxpuW5gzEQRjCL4MwieYA77yRE8NTd5930Q3NvbO4LgLRs3dikocCb4f/ny8xtQ+MMHQPCj92y1NpZbL8vj22/AX/deFqjg7IEhxtnvcUXLiyyT86yDT4ZefGCTO1gul77sdIMuFq5tsPbREEjgzixi306f/l3+U9+6i00vFpu8uXfxh0Bw3qaNeja+dpGbk/dez2n9PauFtaGVhXwCN4JdDoVhhzMKDRA8VMyRwENVPR+2dg/u7P49t6ziWOOZdaV7j52/29xzPW/7AYaxFobBDMsv2drN2nrh3dYjp5o7L9Qe7czZc1rbQBdFMIrgfxuCzykrsyeeVv+/zMMDQfCzD+zgvqGP7O9htt0s3ytDgx/ZxXeHTj//Htfsfv3Rvpt19NePv7HYkf1DH75wQv8Dj4c0Owf3PYbTPl7dHfqlV/+158Clcps3D3p/CASXVFR7xeQHJpf7pe+Mq+jMOf16Qxsrr2Mwr32482G453fjOVYhgLhzML/1D4Bv8fmPQOGayx8qeliVnS8qDx7JL688fvlZ2+331U09YYkJJg4mIbkVIXllVR2Pq9oe1u7bfehkfdvVpyVHz5pYoH3BKIJRBE+K4MuX2bGxgGC7bta+xx+/w6bYwtr/mOMeJXeH1t4c+g5XzL01BOL35SAHwe6XWHWPvuyisdeGQAi/44D7Y2+F0689B79ou3Ew7lK53dDg+x8CwfUtPVFZNXG5uyMzdwakVgblHs46/RuHvx3A38FCkL1nhzad5fA3p/lNQevvJV2DgOCS86CCWVXdrPLOZ8cv3qlu6Op//K7t1h8He16s25hn5h2Ye7Anr/bktrqjucWVldtKDjedP33tbXJRmZElimAUwX83gh89ioqI+FIEQ1Z/KYJbW1u/AsFZ6ennMZipItjWlvMd+Z07oEnPv/rY+uJ7bDsfDrGGfe3R++90xWO/Dl16MzzK4iNHEX/p6bUPh67/9tcQ5nsXXw10fNH266WDfzy7zf677SsRfKi+LTJrR2xubVxObVR2VVBqZfap1wVtQwUdHP5uBP6eG9rc+b6w5XX+iUfFnX+UnPtQfJ5VepFV2T209/Ifh/r/aBv44+ztd0/ffLj88EN935sdh08UnbxSeOz6prLK3bU1yYkJPi6ue+sv7Lvwa3LxdmsXLxTBKIL/ZgTv2RM1vJzS1BH89OlTMpn8RQgeGhpau3btxo0bvwjB8Ey9XV3fm5hwpjmtqPj8pqLCntoEN3+jfWSzp9cVP/6Qd/yVCK7YtTc4tTxqQ3Vcbl30hp3R2XWFzS/zOj4Udgxu5AxB4wwBTqo755lauWl3c3z5yZKz74q7PmzvZsHWce9D+8D7K4/eXX7w/vGL93d+fb95b1vp4fbi+ms7T105fvRQekKcm4Ozrb5h3clzB8/dLmnosfMIQBGMIvjvRPCNG4/NzKIiI6eOYBaLBXdHo9G+CMHNzc1MJvOLVPCbN298fX0Hbt7k9C10dk5p++9FQFCbRvaVCN5ctj0gsTgmtzYmZ1dMVnXMhhrfjJpN7W8Kz34YVsGsgrbXgSn5huauielZNKZNztFbW7o+VHUP7egZvPJ48NqjdwPPP1x59OHOs8HrT1m5249nbKzMLqnbf+T4po15NqaWTpbWjkYmJ8+c67v/YlfXY3sUwSiC/0YEHznC9vV93Nn5RX3B1dXVRUVFX9QX3NLS4uHhceTIkS9CMOTGQRSpKII/48bba6x84mJz6xLzd8dk18Zu2KlONbIMWF/Q8KDo7Ieic4MZtW0pa7OMDY0N9HQMtbUjCg+Xnx+s7Bmq6x28eH/w0avBrjsfztz60Hn33dFr74prmwvT0mI9fVOiwi0cPWPi0zzs7S1MrLo6u56+/nDy+qCTJ4pgFMF/H4KhgX/kyBe9jlNUVAwODh4cHJw6ghMSEgwNDS9fvvxFr+PU1dXT09NRMKEI/owdONGm5xAckbkzIa8uLq8uZsMOug6TpKVn4RGbfXhgU9ur2KwtW0rKmQwtPbqWEV0rasOubRf+ABV8qO/DmYF3vY8GD/UP7u37sLf/fc3lwR3HLlRlrE3z8faxt9U2sTpyrN7VxtbM0qGttfPe0/cNNz54+KAIRhE8GYJZxcUfzMzYwcGf32g0zhxpLNaTJ08oFErwFAxSJScnd//+fWTGInd396mchcFgSkpK4JSOjg4DA4OpnGJvb6+pqTmVOYNQ+7cj+Fhjl2tYVsyGXdGZO2Ozq2Oyt2tp6+lo69Ppek7hG+I2H9xUvqtq21Z9bZqeFkVXi2xq5Vp8on979+CRqx+OX/1woP9D7RVW3ZXBuisfanoHjzZ2783PSPf1CnF2UMLgGpuabYzN9XUNTjW1dt9913jjvYe3P4pgFMETIXhoaCgzMfHc/v1s0Kef3SAbhxkHZz148ODeFOzOnTsjmf/y5ct7UzM4BVmG7v3794DvqZzS19c37nSRqKEIHmsHTzT5xm6Izq6Oz90dnbUzJLVYi6atzdDT19PVN7E2s3U/sPfAtrJSbS0KnUyia9GMdHTtvaOqLrzdc2Ww9vKHususmiuDG/edzaisr774uih30568dele7uGuzjKyilu3bbdkmhhqap5saO4Y+OPM1RcOLu4oglEET4Tg/fv3T/FaqKH20/QFVxD1TCIzq+Nyd8dm7wpN2USladMBwtpgunoGxntr9pZvKdHWIuvSNL38IvRpmhaWtmlbj9f2/l59hVULIL70xssjRINmnLX1qKeVTaqfb5qfV7S3l7ikQkp6lrWJKVOTfqK++fj5e9Ye/uoa03n5zp8AwQEBX4rgu3fvfgWCPT09vxTB169f9/X1/bolJFBDbboiOG9Tnoa+QcT6nbEb6kALByYUUrUYNAadwWDo6Ojq6BkWFpSUbi5iaGroaWmGRK/ToVFsLa2jkjPTy49WX/pj1xVWRulhF0MLRUWshjrDRpvpZm4V7OblauciKiFPouqZG5tbmNlU1+7Xt3Ll5V+FJ+BRBP9jCL56NVxO7osQjKzQs379+i9CcGtrKxaL/SIEw4MAao+suogaav8WBGflZcvisCFp22JzaiOzdvjH5lK1aAyOcWQwTdcwPilzc2GOFpmop0n284ukU9TNmAYBASHJmZuqLrzc1fs+OjzFz8JSUFhKWlZNXV7VhqHj6R7k7x0mJ6coKCpNJGkZm9sZWzgsXy2wgn81joiuoPwPIRju1Ns73Mxs6gi+ePHizp07k5KSvkgFP3782GXYpo5gcAOgPLKcDGqo/bsQvGnLFklVVZ+E4ojMqrB1ld5R2VpadBqNRqcz4F9NHSP/8ORN+TkUEp5BUSfh8ToUdXNDPU8PD5/AsJw97XWX38RFJYXY2YlJq/KsFiFIKxgqK/t4hAT5RxFwRHlVNUUcUYdpxS8kyi8qRrB1pRuik1X+EwgODmanpbGPHw8PC5s6goG/ISEhAwMDU0dwenp6cHBwT0/PF/UF79ixA1n8HC3GqP3rEFxUUko3d4nMqo7J2RWxvsojbD2FQtECDNO1aVqadG0DB6/I3KwsPFZZXk6WSiLo0smWZiZhEdEePgF+EWkF+9uzNxQFWNmq4agiEvJ4KXlAcKBrQGBwvDpOXYVANrF1E5NS5OHl4ZOQtsjcQtHTRxH8rRC8a9f4a3dCJhMI7HXr2MOv4x48eDA0BYOUQB38cNgyMjKmckp/fz8Oh4M8Zw+/jnv58uVUzjI2NobMQZbqQg21fx2C8zZucgvbEJFZHbNhV+T6KtfgNAqFSqVyKKypqUljME0dApOTUhh0TVkFjJSklDoRb2lpHRW3Ligixsvbz8ErzMcvxMvQmEbWVVMjU5RUDZRV08ITfAOjpMUk1Ci6Kur05atWcK9cLqKiahi7VoNGQxH8TRB85gxnqYXAQNjeuLreNjFB9jmbtzdnLZxhTZqbmwt3HTgFI5FISM/A06dPrayspnIK5J67uzuyHkxkZKSfn99UzsJgMMhaZKih9m9EcOHmYtfA1PD1VTHZOyPXVjoFJHIITKUCgqkAYy09PSvfwOAIkMYYAg2DwUlIyRnoMyOi1waERnM6/JwcDZkGTvqGhpb+VAKDTiAzsdjU8GjfgDAlRRUG00pQRGT1Gj4uXh5BGUkFho66JhVF8DdB8H9y4p2Hh8fNmzf/c4jFYk+tT2C0vX79+ks96v37918xngHVv6j9qxGclZvHL64UlLLVM3JDUFyhg1+8ugaZoE6m0YDBVCpNX9faz8kzQEdbT1mNroLBkWlMEwPD+NSsuOSM0LBIBwcbHFbVmErTto2g0831dCyYRLyXiUVIWIyJhaOMgoqg0GpeAd7VIgIrBVcpUXCa2gwUwd8OwXBKdnb2/v370fKAGmrTA8Gbt+5QpJqHplfSzTxwDDsH3xg1vLqkvCpVU1ODpEGh6zMsvU1sPeg0bXUtc4I6RZWoY2VulZK1KSk9JyomITQySlUVS8HgGfZRehZ+ukYO2hisO5URHpFq7x6wSpCfl28Fn8gqUXmJlQIrsLpYkiY6LvgbIri+vj4tLe2Lln1FDTXU/kkE7zrcqmERBgh2icw1dI508I3FEijCshh1dZK0jBxJS49m7qFn4aKtrUfWtsATqUSaqYW5TXJWedL6jYEhkQHBYRgVNUVJeW37WD3rAG19G2OCRridW+vZvvbzl+RUlHkF+cRkhcRVpJfzcYsTxDU0NVAEfyMEP3782N3d/eXLl2hhQA216YPgY10aFuFhgOCYTcausQ5+seqaTBWKvjqJJCQmSaTqUE3ddc1daHQdgC+RRKcx7Swt7CJSiuLWF4fFpQcERaphCJIiUtoWgdpGrtp0Ex0V/N6aI5d6rz5//tI3JFRUTkxUcvUaaWGeVdxYqrKODh1F8LdA8Lt37wIDA/v6+tCSgBpq0wrBx7s0LEPC0iqdozcxXWLtfWMIWsYqWsZkClVOBUeg6tLMvRgmTgxdI3WGNU5di8IwMzW18o5Ij1y72TMsNTIhQ51IFhcVJ5ANaHRzOo4a4hm0/0CDsYXT6cbGA0eOKxGVJKT5VgvxrVi9UtuA890ziuC/HcEQEm5q586daDFADbVph+DzJPOw0PQKh+jN+s4xDr7ReC0zZU0TEpkqIa9K1NTTMvVkmDrRtY0INCs1kqaGtpmBgaFXeGpkWrF7aFpoXKY6kSK8RkQdq65JojPw1P0H6nVMXYUV1AMDAu/ev69vbiIpL7RShG/lGgETaxsddFzwN0Aw3GNERMSHKa5OhhpqqP04CN6x/4yGkV9I2jb7iEJ9hyhHv2i8pokqlalBpsqo4IlUXU1jNy0jOy0tBlHLEIPX0GLaGhgae4elRiRv9AxOC4vPIRCowgLCWBkFnAImIiypbt8JUTV9ARklWQXZ+/fv+QZHymJVBCXWEOn01OxCBydXFMF/L4KRD4Jff/mwM9RQQ+2fR3B20VZprF5Y2nYNEx+ambejf5QChiour0bSoEgrYQkUXU0jV01DWzxWRVpGTkVJhaZnrm9g4hWSGBCZaeceGRafSyBqCfGvwUgr0Em0TVt2ZeVvFlchci1fvpKPt7Hh1OayShkcVUpZMSkz/1zvfXdPXxTBfyOC379/Hx4ePlGEqKGG2o+O4MKyajm8QXh6JcnQjcx0dvCJUMCoi0oqEIgkQQlZHFmHYuhMM7KlErFYFUW8iqKCgoKlhU10Sl5gdKaNa1hoXA6eoLmGXwAroxgRmW5uYx+fkr5SQIBrydJVAoIlW0ovXOqVJeqExadeufnk8s0XXt7/dgTn5+f/jQiGfKuoqEBnV0ANtemK4I1b62SIhiHpWzWMPShMF3vvCEU1ipiMqroGRYWoidPQIQOCDW001bEkNWWauhqFoGJnY5+2YWtUaqGrX0xwdAYOTxHkE8SpkTMLyqUVlELCw3hWLONevszCNTA9I//V69cbt+64+/DZrQdv7jx5GRDw8y5cVFGROfGkjgiCWSyWm5vbZxH87NkzJpP5WQR3d3eHhoaiXcCooTatEVwtRzAMTttGNHShGrrauIfIq1JEZVSxOKK0Ig6rwdAwdKbomdM08JoEFRpJTYuAtbNxSNuwLWXDtsT1xRGJG7A4jdWrBQNi0rV0DUgUanBYGPeKpdoG+mFrtwdFxD95/OSPd+9fvn537c7zdx8Gf1oEDwycxeMzMzImR/DevXtxONzkCAZMJyYmMhiMyRH84sULSO3Tp09R10cNtWmM4KLyanmiYWjaNpyBg6aRu5VrgDxGQ0xaCYPFKSir4cg6JKaTho6ZJhFLJ2G1SVgaEWtr45CcvS0pu2JtTmV8+iYsXkNYRGJ9bjHPiuU4AtHRxYWHlzuvqMzSLdrVK+hS7/VXr367ff/li9d/vP7tna/fz7h2XF8f29397JEjk3dE9Pf3+/n5wd1NjuDa2lqA7OQdEfv374+MjOzo6ED9HjXUprkKLt2hQGSGpW/FaFtrmXhaOPvKKGLFJOVUMKqi4pI4DW0NAyeKjpkWCUdTV9PEK2lr4OxtnVOzK+LWlsakbIpMyMOokXAknbVZeQsWL1YnkZgmxitXr0hem6ely9TWt2jpvPDw6ds7D1/fufds4O5zb5+fEcH+/uyjRyfvCzYxMYHL3blzZ/LXcaampr6+vpC2yRFsb28Pd4F2AaOG2rRH8PbaQ+bOYaGp5bo2fna+iaYO3vKKynLyigqK8oKCq3EaDLKBowbDiKKO0yLhKaCFyQQrc+vg6PXugYkGZk4Wtt4KimrBEWuZxqYLuBZp0WgamlRJaWHfgAgKlUKh6Vy/eff2o9fnLtxsbO3p6X807UdEODiwi4vZkNqRjUJhJyezh4bgQtbW1nAjpaWlWz8xMTGx48ePs4eni0xOTt46nmVkZMjIyDx8+BCCubm5lZeXjxvMzs7O0tISmRMSNdRQm94IPnj8jFdkdlBSmVdEpl9cnrGthwaJpEHSwBPU1LDKOBKdrGdPYhgpyktJigkrysnKSUsYGTD9QuM9g+IY+sZm1i5S0irOroFqeNxCrsW6enokKhmDlXN2cfXydvMNCH788EX7uasVOw8fONHW3HHVyXk6r6AM8be2QnL/a9u4EVlK/eXLl4cOHUpISHBwcDj4iVVVVSFx3Lx58+AEVltb29jYiAQDTT1RsC1btqALpKOG2k+C4BOnu0JSSkNStoallgUlbzaydiMDgElEIhFHBAoTaeraNiS6IVZFTlREWFxcVExM2JBpGByV7uEfraZB1zW2wRPpekwTZYzqvIULDI2NCRpEEdHVLq4OrW1t/kHhN248zN+0I2dTRUX1keo9x+0cnKcxgj9ncDseHh7Pnz9H3RE11FAET8mON18IAfgmlYakbwtJKzOwcFZXVwcEE/BqsGGJNDzdmqhloKYsLyYuJiUtISMrY2BgHBC51s4tWEPXlGFkb2bpQlDXUFZVnTt/nqWVFZ5EwGBld9VUd5ztXpdduGVbXVRCZmpGkatHsL2Tl7Gp+c+K4Pfv30dGRnZ1daG+iBpqKIKnrIKbLwKCg5NLQ9IAweV65o4EAoFIJOBwangcFkPQwtEt1WlMNVUlCQlxaWkJeQV5poGxR2CijVsIkWGkY+rq7BmqoKwsp6gwd+5cK2sbHBGbkBg+cOfhlm27AsMSQ6JSgyKTYYfJNKVr6zN09H5WBO/YsaO4uBh9RYYaaiiCv0QFn74QnFIalFwWnLYtKKVMx9Qej8cTCHicGhaLUVUlaAKCCZr6WFUlaSkpBQV5ZRWMgb6JrUeEmZOfGllH28TZ3M6DoaMjKLRm3ty5jo5Ont5uV68N3Ljza2xytq2zn7tfmE9wjKWN02KuJQsXL6ZQp/PCRRPbxYsXAwIC0FdkqKGGIvhLEXw+OLksMLk0OHVrcGqZrqkdIBiPwwOBVTEqWHU6jm5BoOqrYVRkZeUU5BWwODydrmvtFmrq4CuH0VBS09QxMHNzd1+ybMn8BfMCgwLPnb94+eqDk41dptZulg6ejh5+Ll7BRCJl5qw5M2fOwGKxPx+Cnz175ubmhn4lgRpqKIK/HMFN5wOTSgKSioNTyoJSSvVM7dRwOCwWh8GoKikpYoh0NZo5gayDxajIKyorKapi1PAaFE0LlxAzR39hCTkxCXkSWcvHx3fxksXcy7l31e7tvnynqa03Kb1AU9fUzNbFxtnT1tmLb/WamTNnzZg5U1VV9SdD8NDQUGRkZHNzM+qCqKGGIvirEJxYHJBYHJRcGpC0RcfYRlJKWlpaFv4TWCOkSqBhtExxZG3AspIKVkVZTQ2HJ2pQTRwCNHUthcUkMXgygUR2cHQCBAeHBp+9cLOt8+q67BJP/ygyg2lu52pp52ZoZrVoMdf8BfPlFBUJBMJPhuCamhoMBoNKYNRQQxH8NQg+1tjlH1/iH18cmAQILmEwLQSFRSSkZETFJVYLrFEh0FQ1TdXIDJyaqoKSqqKisrKKCp5EJdJMKFr6oIs1tY3UCOoGTKYWnXrqdEdT6+Wikp3eAdGO7oEGprbmtm5m1o7aeoazZs/CYLDu7p46Oro/E4L7+vr8hw1FMGqooQj+GgQfbewKiOMgODi5OCBhEyBYUlZeSkZORFyCj19QhUhToRhjSHQ8HqOCUZOVl5WTlyeoU3EkLRNTKzJFy8beXUFJ2cbWZv/BIyebujYW7wwIinVyC7B28AL9a2rlZGxuiyeSZ8+dY2lp5ezgrKOt89Mg+PXr156envfu3QsJCUERjBpqKIK/BsGHT7Z6hGR6RueRGGaWHvF0AwtVAlFGXkFYTHwV/xplPE2VbKymwVBWVlLB4Kg0mrauAZagrqtvYGvvQiCSnV19sDjssZMnT7dcrNl7Ije/1Dcw0trBw9zG1dTS0cjc1tDUWkxCmmf5CiUlZboWHeznQDDkdlJSUkNDA+yjCEYNNdS+EsE5eRtJ2rauYZkqWHVz91iagYWCGk5KTl5IVIyPf40iVlOZbIwhapqaWTk4e9k6uNo6e2lokHEEkomVk7IaITA0Nr+g4Hz39UPHWmMS1lvauJpYOJpZu8C/Rma2hiYWTBOLNUKi/AKC4uLiSkpKNBrt50Dwnj17cnNzkTxHEYwaaqh9JYI35OXQDF29o/ONjS1tfVK09M3kMTgJaRkRTl+wkDyGqqxhpEygWFo7a+kY6xpYmlk7Y7FYLQZTz9ReGUdem1Vyvvd229m+tIyNTm4B2gamTDM7Iwt7QzNbprEl09DMwMhs2TIeGRkZLFZVQVGB+lOMC+7v7w8KCvp9eMq0169fOzk5vXnzBnXBf9DgOT74nN28efP3MbPcfTP77bff4HJjvGsiY7FYf8uI8vfv39//yx4/fjzJXP7gruDnEObJkydDQ0PIQcgc5CCiJyDxj4YNHe3+bRFcWFKsbebjFZnPNLK0912rpWeipIaXlJZBVLC8KkWJaKCMp4KwpemZwq96xjaqagSGromugYUiRr3u2IW2i7c3l1Y7ewRZ2XmYWTkamtszTa31jSz0Dc0Mjcz0mSbLli2Tk5VKSozX1dUjk8nTHcHv3r3z9fW9ceMGUniioqLQeXv/WYMnEhMTA0/Tf2KztbWVlJQENn2fJN25cwcafJOs6QcpGUFkVVVVWFjYV1wF6pXRpf758+dpaWkEAqGurq68vBxUwqlTp8Y98fr1697e3gwG4/jx4wBu5ODdu3ehPQclFJkrCv50d3dPSkp69eoV6mPfEMFbtm3XswryiszTMTR38MvQ1DXi5ecTFRXnFxJZwccvq6qBoZqR6YZGFo7WTr62Tj4mZo7KauoCa0TFpeRV1elHWu8cONEeFZtmaedmYuHANLXRN7HSMzTXZZrqG5qaW1jrGxjyLF+uqqLk7uaOx6uDTWsEA3PXrVt37Ngx9nB38K5duzZv3ow63z9o8ByTk5P37t37cWIDN7OysqLT6SD6vlvCoJ4e43ujLTExEXF+9vDsTl839R343hipe/bsWU1NTUTY3rp1a+XKlRPdcnFxsZub25iD1dXVFhYWI38CwUcSidq3QnB51S4Du1Dv6DxtIwt7/wwSw2gF/0phMSkpeSUskaJjaMMwccbiKfpMa11Da1U1irikghKWNG/BAnEFVUvn4CONvQUlO/2DYowtOOJXzwjga66jZ6Krb2xkamFhyUEwN89yNTVsXGyCJpVGIpGmNYIBvmvXrkWyuq+vLzg4+LfhmSpR+0cMasTc3Nxt27ZNEgYZuNLc3AxMHJdHDx8+rK2tPXHiRFNTExLn0aNHwU9AIYKTgLQsKChob2+HX/fs2fPixQs4UllZCUoT9OPVq1dBb4JgBKkIvtE8bBDDCIJhHwJDhHAErgJ1NhyBMMLCwpBsCACXqKmp2b9//whDAXwQHikabW1tZWVlPT09cLC+vn5MysGTJ0EwNM7U1NQQDQt+DqUMIgGFi3jvVBAMgVEEf3sVXFHFtAtzCV6HJdPsAzKsXAIkFJS0DcwYesYEEk1BGa+AJckrqkhJy4lIKqjiNChauhgCbdHSZeIK+PD43E1baoIjk5kmtvrGVrqG5gx9IzhRW9dQl2libmkNDDZgGi1dukydQMzLzQ8LjyBTKNMXwffu3fPy8oIijXT2ISPSUM/7pwwcHvjr6uoKnOqc2Pz9/Q8dOgRUGhfBz549MzQ0vDNs0O6GOCMiIiBCcA8AJTTDgbOgWAMCAt68ebNx48aioiJg6I4dO4BfEGd/f39KSsq7d+/gXNiHwBUVFUiVgCAYIoSrg18hfGQymRAGnIdIJN64ceP333+HAA0NDQ4ODhDg5MmTqampEBuUC2dnZ0jb48ePAaNwHBxVX18fagsIP/iXFRYWQgzIPlL84RJKSkqAztLSUmNjY6S7DCw6OhqSATFD/MiXnGMQjJyOIvgfQHBp5XZDuwgH/1QRWRWHgAxtYwe6obUagSKvoKKCJ+PIAFyKhJS0uKS0tp6FugZdQkpWSh6zlGflKkGp0IjUlLX5aZmFds5e2gamDH1jmo4BXYeprWdowpHAVubmFoaGRou5FtFpWgDW7JwNNNp0HZQGvg7hR7qAoXBO1NGG2vcxYJm6ujo0SjImttDQ0MDAQAQx4yIYpKu5uflI2QGHlJaWRv4EtUsgEOBIXl4ewBeO7Ny5Mzk5GRGVIDbv379/4MABQDN4BYASieHSpUtUKhW5HOJ78C+C4GvXrhkZGSG6lUwmQ8yIXO3q6gLgwg6AGFkbG44DQEF3A6xpNNrLly/hoKmp6eXLlyFVQN7cYYOUQ2GBHUghVCGjVTAY3DiEhINv376VkpICCQ+sB+dHVm8Zg+DW1lZIM+hxMzMzFMHfFcH5mzYZ2UfaB6RJKBMdAzOoDBMiRVdFFaeojDGw8jKwDsSR6DKy8jJy8soYdWERMd5VK0ENr+IX4ebm93D1j45fl5C6wdreja5rRNNmajH0aNogfM2Av5aWlsZGhnp6enx8q3IAvzl5e/bsn6bjgiFvc3Jy9u3bh/wJCc7MzBx5lYzaP6WC4XmNvE0a1/r6+hISEiZBcHt7u4GBAfIowRuhiSMnJwdqEf6EwCQSCfAHgEN6/EcQDAZyOCoqCvFbOFFZWRkZOYBI3dF9wRcuXEAQ3NvbC9cajWAALqR/BMGgteESSB0PkUBUgGAGgzEawVPviCgoKLC2th4uHO+gLkEYDZdDVsYajWBICRQ6yCJIKtQlIySBCgZ9F/fNEZxdUGDsEOUYuFaByHAMzCTT9RQUVVRUsAoqWKZNoI6Zh7IqAfgLfikpLcm1FOQvr5g8ZqWA+EpuPs6S9xFJ0fHrrexcaQzgr4EmTU9Hl2lqbg4ENjExdXZ1NrewEheXaKg/WVmxY9+ewwyG9nREMLTdoOwhfXwDAwNeXl5IKUVtuiMY3CA+Pr6iogJCghNCMNDF69evv3XrFvx74sQJgLKfn19wcPCLFy8gpKur67Nnz5AeZAqF8vjx4z879LZsgdOvX78OTX5ALXgRyEnAHPgMUMzR0fH27dtAbSKReOXKFQgfHh4OsnTXrl2Q/vLycgAuRPXgwYOQkBDgLKAZJDykDYoDHo8/ffo0nA7ypbKycvQQsTEIhqQCduEScBbcCAhbeXn5np4e8HlwYEgYqPWqqqqbN2/eu3cPNDJcFI7DtUBxg5QekRoQCTj5kSNHjh49is5//c0RvKFgo4lTrFPQOhWKvmPwBjJNX0kJI6egIq+gIq2Il1cmysgoiUtKyspKq+FVFy5aJCgiLqVKmcu1in8pry3T2sHJ18bew9zakUrT06Tra9H1jIxMLCwszMzMXVxdqqprEhLTFBSVykvLCvKLCvM306dhRwQkEo4jSgTadGgX8HREMAhDeNzjvo6Dn4BK165dG8EZ0BBAiTgn1LW3hw1cBdlBBhfD1SHYSKGDHfAKuBwiG8FPIOTdu3cRQQohr169Cuzu7+9HooXYYB+CQQA4EQIjQ8vhCISECgA58enTp/AT+CS4H+xAyNFtrzEjIpCkgtqF8MhQELgvSBLi5BAV7CP1B8R2878NecOB3Aj8CXIY0oDy93sgODMn19Ql3iUkg6ht7BSSS6ToysmrSsuryMurSErLCotJ8K5aybuSV0hwjYKi/EKupUQaE0eznLeET3TpajtdCxqdicGqG5vbkTV1qHQ9bV19qPzNTM2dnF2qdu68defe+vUbpKWlC/IKdlRUOjm4TLuv4yCAv78/+C5SVrOzsw8fPox627RDMChTaLt8t08zvo89f/4cpeS0R3DWhlxT10THwLXKGnrOoTk4DW0pWWUpOSVRCelVfILLeLhXi6xaI7JGVFhYQIB/tYi8EtlkGZ/kQu41sitF7AwspaXlVvDy6RtZaFDpWnRdAybT1NTU2cV1a2Xlrdu3Dx86aW5mo6Co4OzkuremmkhUp9G0phGCIUtBaCDdc2ANDQ2pqalIdwRq0wjB0AB3d3dH3yyh9kN2ROQVmnskW3unqjEsnUKyMERNCSl5EXHJJTzLlnEvX76SV1BSUERCTHCNAMhheYo9j7DqMt41y1aKCfMKGhuYc3FxzZk7j65jSKXSdXT1jIyNbO3st5SVD9y6c+RQo4Odh4YGRV5eXk/PoGLrDgxWbXohuKurKzw8HOl9u3//vqurKzoKeNoh2NPT08PDA5rVaI6h9iMiOK9oi4Vnqq3/OhPXMNvADDlVAhfXMv41Qrz8Kxcv5eJexSsgKbZacM3yVfz8EkoiqkZCytqSCrgVq4T5BIR19M1mzZopJSVJ0dSmA4YNDa1tbDZtLr45cOvA/hMOdq40LRoGo6KgoODm5lFbt9fc3IrBYEwXBD98+BCkE9JDN3pEGmo/DoL19fWhmbJlYktJSZGQkEDegKGG2o+I4B27D9v4rgf4WvqvswzME5FRnj1nroCw8LKV3IuWcq3gXy0oJc0rILxGEiOqoDWPW4xg5GNm572cewW/kIQ6WZubmwckhq6+kYGBoYW1VfaG3GvXbuzdfczJ0ZPOoKsT8UpKigoK8mvT1+2sqk1MSKPTpweC4dfo6OizZ8/+WVHl5dXV1aFO9qMZPM2jk9revXvb29vRjELtx0Vw3aEmU6+1Jj45xn4FZr55kkqE+QsXrRYSWsK7lItnGZ/QGmF5+TWSKisE5Bdxiy3gFtCyi7NyDl3Bzb1GSEJeWY13xUoTYzNDQxMzc4v1GzZ0X7q8Z/cRO1tXQK0GiYBRVebn55eWkU5PXRsaGJqelkUhf8eZ0oaGtnt4TITge/fu6enpjYtgyElgd2lpKZKlTU1NycnJ6Chg1L6p/fbbbyPeiDrbvwnBR9pNfPKN/YpMfQrozqkSqhoLF3OtERVdwb98laCAoKTEGjllnjUK85esmL+Ed7WkmrHvBk0dyxXLV64WEJaUlRcU5Cfg1Q2YhqlpaRd6Lu/csd/ezpVBp5HUiVgVpVUreRcuWCgsLJyemhrk5xPkH0YgEL8fguvqtuvojItg8HVPT09zc/NxEXzx4sWgoKCRLmAQy+gA9R/drl5lV1d/Ztu8mf0dp+n5ImOxWCkpKUlJSVCKnz17Bs759u1b9Kn+KxBcc/ickXeRkWcO3jhMRttPSp25YPFSUSmpFat5VouICErL8wjLz+cRnT1vwdLlq0mGPrp2kSv51nAv5+UTEBIRl1TBKFPIGobGJmfPnSvfusvKwpHBYGhoqKuoKvHy8s6cOXP27Nmw4+HmQaNoGOgY4nC474Tg/n52QMD2srJPEVxUVJSfn19TUzNuR8Tly5fd3NyQhAGFQ0NDJ5lyELUfwm7cYHt6QmuF3do64RYfzxYQYA9/GPZjWnNzMzgklOLff/+9urp6ktl+UfupELzrcCfNIV2e5i1OcsKZxMpqucxfvFRASIibd+lKURk+ceX5PGJzuFbOmD1HRFjexjeDX0Rx4aLFCxcvWsUvKCohHRYegSfgbO0cizfvtLJ2omnRgL8YVWURCelFXMsAwTNmzFi6dGlkZOSOigplBRWsGvZ7INjMjO3tzb59e9y+YEdHR5AbAN9PEezs7Ozq6joy/y/o5R07dqC+9UPbgwdsV1f25B/LnD7NdneHp/upCn7z5k1TU9ODBw+uXr0KdS38ef36dWQHqYP7+/t7enrgX+Rjh97e3s7OTvj18ePH4Cdw4ujYIEBfX19raysSycj7WxC5EMOlS5fg35FOhlu3bkHMECHihOCZCILv3r0LSXr//j0cP3369MDAwLVr16BlhozGgQDwJxJVS0sL+pXQtEdwyY7D4hqOklRnJT0/nGmMrLb/Yp7VgkIiawT5BWTUlvBJzVrMO3sR9wIuHikpNQfvhAWLuebMmzt33hw+fgFRUcmgoBAyhUIkalpw9K8OWYOooiLPYGitXCM5a+68X2ZwbOGihZ5eXlnrc1fzCWCx3wzBVCq7tJRdVsbZpKXZw3ORbNu2LS4urmyUQWWAx+NfvHgBKsPMzGzz5s2jf1VTUwOBjORke3t7dHQ02iv3Q9uzZxy2Xrs2WZiLF9mOjmzwNF/fTxEMkhP8ELwCwJednY1Mxr9z587169fDr4BIJycnoK2fnx/yWg/AR6FQurq6Dhw4AGE+HWvc3d0tISEBcATCQswnT54EdwLXqqurg8B79uxBXkVAbOvWrYOYweGjoqIAuCMIfvToETQWnzx5AgdjY2M9PDxu374NbomcCJICDt65cwe8F1iPjtKZ9gguLN8jx/BQMQrEm4fjrRIkyF58wrKSUrIkAmmVmPLcpfyz53PN5Vq+aMUaEUklI0vXRUuWLFi8aPacWWZmJvLyip4e3gEBATKy8iQNDQIBh1OT9/VyUlTBL+JZNWPmjF/gfzNnzFswT0dHT4dhuGzZMgwG800QDPd+8yanKCLbsWOIIn716hWom2ujDLwWGaIE2QV+PObX2tpapAEIBcDLy+v58+eoY/24Bk/KyIiD16ysCTcgqbk5+/59jj+Mh2CwhIQEaPizh+fzjYiIYA9PrANNJUQFnz17FqRoaGgoQBAJD36ira1dWFg4bol79uyZuro68iKhoaHByMgI1CscQfQyMg0Q/GpiYgKuiFyCTqdDnCMIhlp/ZHb50tJSIDXs7Nu3D1lZo6amBqoKCGNvb4/y96dQwVVHVIyCsWaReKs4gnWCPMmWZ6WgjIKyrCJulThmzqIVM2bPn8/Dz8Unyr1KSBVHXiMswcPLq4pR3ZC1Xg2L8/Pxj4mO4V3JKyEpKScvGR3u4+LozMXDN3/h4hnDGnjW7FkLFy+UkRaXkJAWXLOawfg2c0T8rQalAmQRtDdRr/qhDTBnacnu6+P0BU+0QWMoPv7PSnpiBIM4RRAcExMzrJsvIgjevn07wPft27fAXwAfMikP1NwpKSm2trbItCGTIPjEiROmpqaAYGh4IT0G0PwCBEM1DwgGsg/XIx80NTVBCkyEYKQ4jCAYsJuWlnbo0CFgMeoCPwOCS2tOqplHKxlG4C1jSaYBa8TlF3FxCYjLgezlFVGcNY9r1txFi1aIcvEK8/KLCgqJr14jsWQZT3pqSuW2SipVMz01zcLUgmf5clFR0XXpCWuTkwSFJBYsXjp7ztyZM2fMmjsX+IvBKFpbGsvKSmVnpDja2/3gCIZsrKioKC8vR13qRzdweBcX9qRfx3EAPTxHxEQIBj66urpmZmaCPs3IyACffPPmzc6dO/X09KANFBcXV1BQAF4KVbKvr+/hw4eR6dWhdQXH7ezsPtWhgGBZWVlQuMBQiK25uRk8qqSkZNOmTcDfzZs3FxcXQ7CWlhaIE8LU19fDzh9//AEuZ2ZmBqffvXtXTU2tvb0dWRMvMDAQ6gAoFHA5uG5fX5+zs3N8fDyo446ODnSOiGmP4LK6U6rGEco6vuom/gRtG1Ep6SXLeQXElWfOW8S9WmTWvAXzuPkXLhdZyLWCd7Xg/MVcEjKKyiqY3btq4xIzNTS1tpaWGXKWJuKRlZEqzMmg0/QWLeWZO2/BrNlz5sybu4R7mZ6e1p6a7TsqyrZXFJ86etDJ3v4HRzA0QkH4oO+j/yUIBiXb1NQEChRcEXAJ+wBB+BMk6sOHDwGCcAT2gX2wA5huHzZwj1u3bsHx3t7eTxFMJBK7u7uPHz8+8rIOyuaVK1fAzyH8SDm9f/8+MB1gzWKxQPkiF4JTrl27Bjvgh1A9NA0bVAbIr5AkIO/evXthH2KzsbFBJpBCbRojuHx3o5pRkCrJjGTgIKNKFRaXEZXDLuDinTV33uJlvPOWrli8WnL2Yt6Zs+YsXb78/2b83zJu3qSEpLy8MjOHQIa+SVXldi8vj2Xcy9yd7ZNj47lXCMydtxDwO2f+vOW8y729nY8dqj115MDp44cbjh5oOXbE1cb2R0YwiBHQOFNZxx61aYbgwUG2m9t3GBfc1dUlIyPzjXppAdagf48ePQp0vnfvXkBAAEhm1BGmuQquOUYx9cHiaUtX8EupUFRwZCEpFZDAv8yYtXjp8iWrhJYJyM2Yt2DGrFlz58//3//7XxUMdkNuibFtkIVTCFXPsrCguGr7dq4lS0IC/JSV1RcuWjJ3LkB4npi4UHpq7JmGo80nj56pP9reWH/6+JHmfXucrW1+WAQPDg6GhYVBAlBn+tkQPDTELipil5Swv/H4FmSy3Z6entu3b3+jS4BeBpnc1tYGrEdGzqE2vRG8vfYojmIksHzl/AWLhKSwgqLSyznjyebPnDNHRlaRh1+Si098/qIlS3mW/TJjxqw581LSMgwsAxhm3mZOgSRts02bymt21S3l5qZr6S7h5p03b97c+XOVVRXKSvJbGo6eaTje0nCiteFER2NDa/3xtmNHXJwcf0wEIyvSI+N+UPupEBwfz/k0LjOTPWq9CdRQ+1EQXLS5TIxvlSL/qgWLuFaLys3jWrFSRHbWnAUCYhJEdfIKAelFy/l4VwksWrZs5qzZmgztoMj1KjQHe49IC9dwRzf/9LQMC3PLRVxcS5fxzl+0eMmypSQNtf17q1tPHT9Tf6ytqb7l1MnW+hMdTQ1tDcfbG066ODv9mAju7+8PCgoa86UGaj86gp2d2b//Du3zCbfeXjaFwqEwutAUaj8mggs2ZFMlxPFCgsuW863gF5+5gFtQCrNg6XJ1hj5RQ2PZKqGFXMvFZVS4efmWrViekJKhommvbeFj5hBs5Rrh4R0YGRqGUVaZv2DBvIWLeFbxOjha7a2r7Gw+1XbqZMfphvZT9e2NDUDe9lPHz7U09nZ1eHm4/4AIfvXqlaen5/3791E3mmYIdndnR0WxY2Im3Hx82NbWbHSWZ9R+WARXFJdYqmExa9asFJCcvZBn5kIeITmCpCqRYmCKJRC4V6wGRSwspbKAa6mppbWRlb+ilr2hdZCFa5ijV/jW8tLggBACjjB33rxly5eFRwbsrqk6dewgMBdk79nmRuBvW8PJ5uOHL7Q23b125fWTh75eXj8agoeGhlJTUxsaGlAfmn4G2hZU8CTbq1dstMMUtR8ZwTXl5fryUiKCIgt5BOZw8c5evEISQ9UwMFcj04TFpRYuWvo/v/zCLyS5RkTM1jlQnmJDYnrqW/lau4ft3FHTcOSgl7uvjIzcggXz3Vxsd++q2FO9o/7IQSDvuTNNZ880AYg7mxtuXul++eDek4GbvR0d7q6uPxqC9+7dm52djY6vnN6CGKrSj5/Z3g2xWRM85GvXriFDzcYcHxwc7OvrQ0YdPHz4sLe3d9otWwUJhrv77OtBZDDc9evXb9y48ejRo4luE/QK5MatW7cGBgZevHgxchwK8sCwISX6+fPnsA8X/Vet8vW1r+OKCtQkhJevEZ+7hG/2ktVzl/IpU40kldSX8qxatIR75uzZv8zkvIUzMrPB0W0VNR0oTGdzp6DY5PVnW860N9WrKClx8yyja1H21ew4WLfr0J7dDceOtHHI29hxuqH3XMev9wee3rvTd+5c56lTN3ov+/v7/1AIvnnzpre390+2quO/kL/b7g+F9bOirk64wa8m51kP3o1TRjo7OxMTEwMCAq5evTrmJ3CMhISE8PBw9vA0OmQy+YeathSZsmfyMO/fv8/KyvL19R1TtYwZ0dzR0UEikeLi4g4dOlRdXR0cHDzu0ExA6rFjx8TExEpKSkYPvIPYnJycbGxskGivXLliaWm5Z8+eyZeVQhHMsbKNuYriEotXic9ZtmbeMkEBWTyGZjp3Mc+sOfPnL1jwy8yZ//M//yuvoKzFdFRjOCpr2jn6xHgHx58+BTr3dOfpBn1dKpVCPLyv9tSRg03HDjceP9x6uqGt6WRPZ+uDgeu/3r3Vd7Grs7Gxs+FUd3v7uz/+CAwM/HEQ/Pr1ay8vL7QLeLrzd9fDoayBobcs9u9D42+vBtlBV1j4tsEn4wFh3bp1J0+eBAk8bglqaGhAEPzbb79ZWFh8EYLHRPh1JfTTs0aOgBodU1jGvQTUMaOlD1K15OXljQkG0Ny/fz+yHx0d7TWqz3B0zH/88YeQkNCdO3fGnJ6WlhYZGTnyZ0FBwb9tiquv/TSjMF9ESHypkPL8FeJcfFJ4fXtxZdL//PLLjJkzZ8+dA/8/e848HQNbBZKZnIa1lpmXs3fM1q1VwN/zrWc6mhpKNm84dnBv66kTLSePnzl57OyZxnNtp29f7X3x6N7Ald7O043tpxpgAwn8dPj7+h8HweAfmZmZR44cQSk2rfl75NehpOtDgxP7PvyUfnNo6/2hgCusTxEMFDMzMwN2tLS0tLe3R0VFQSO6u7s7LCwMocwYBEPrG3RiRkYGyE+AUVFR0YkTJz4tetC6gp82btwIvo003rdv315RUdHY2AhC8uHDh/Hx8eB7+/btg2BPnjwBWQpaFUoBaEw4cvnyZYR6p06d2rJlS1lZGVJSHj9+XFpaCgEgKlCpIDx1dXV37tz57NkzuAoEhl/Ly8tHegNqa2uR9V++CMEgTRwcHOASyHHQKJAAiASyCJI0RQQXFhaiCJ6SlRTk8wpJLRTBzV8pLY7T0TJzXr5a6JcZ//d/v4ACBgn8PyuFpUk6dnIaVio0RyOHEO/AuOb6ExwJ3NzY1drcfbblXOtpYHFr/Ym2Uydv9HY/f3D/7tW+i+2tHU2n2hrqOxobzzY13rhyGUnej4Ng8Fd0Rfrpbs3PP/peBrB+fMOacCu6M5Rza+jDR/a4CIaWMrS+oekNhAW80un0e/fuvX37lslkXrx48VMEv3z58sGDB3g8/vbt24CY9evXP336dEycwD59fX0IAD8ByiFaa2trpIMV6Lljxw5Q3DExMUFBQXCh3bt3gx9C6di7d6+mpiaUiL6+PmjRs4dXzPLz83v37t2FCxdCQkLgcubm5shsxVCOALuVlZUBAQEQP8RcX18fHBwMgSFAaGgoMgkn7MO1qqqqkI4IiOHDsMFdQCn78JchyYa7gxOBvLa2tpBOpGgAcCHx/f39EKGrqyuQdwyCkWmUUQR/PYJzNmzgEVVeKITjE8eTzdzI2oYLFy1atJhrxqxZgOEZs+eJKmspUa3kybZ0Ux9dC+99e/afPd3UdeZMe1ND15nTF9pazracbm+s7+lofXx74NGtgcvnzp1tboINxG9L/cmOxlN9Fy8M/vWYfxAEQ/Fwd3d/h44Vnc72+xBbuWXQ8iLLoWfCzfQ8y72XxfrI0cvjIhhhBwhbBMfGxsaAYGAHSMJxEYx0RAD7EhISgJUnT54ct+/CyMhopDw2NzeDVh2p+E1NTZHej5KSEjZnNvnTCB9BILu5ucFZIHVpNBoc8fHxAQTv2bNn165dQDSAuKSk5Oh3hvATpA0BK5wL+3AERDEo3CtXrhCJRASjCMrZw9MfBw8biGIymYzsQyWBLJI0ooJBpCspKSFlE/Q4XBTqCYgZqoqBgYExCIYWA9KHDrURklGIQQsARfCULCs3f7Gg0pI1WGUVGpVpraZOnjNnDveKFQu4lvzvL7N4Vospks1k1C0IOg4ME7fktbltoGpPnwYEn28/c771NPD38vlzDweuPxq4cb2n50JrG8AXNDL823aqvqOpEbTwm1Fz+v0ICAbygtN/+u4FtWnXCwF4fT9pMe9/+zH5+hAS+LMIRmbxBwQPDg4aGBhMgmDQoYCw/Pz838Ybcdzb26ulpYWwEpgFNKRQKMifIHUBrAiCt2zZMgbBIAtGIxgolpKSgsR59+5d0KGKioogftnDIxAAhcgMlk+ePGltbc3Ozh4pOHBR4DWJREJSC7cw5nXc5B0RcHeysrLnzp2DuwMcQzzIl9Ag6kE+j0YwpBYuirwShNoIRDqCXUD/9u3b/22jjL7204xNZSvECYu5JbXUaDgNurSc4tx580Wk5bh4VsxfxC2N1ZIlmqvQbOy8wn3CEhpOnOg83dzR2NjZ1HSurbn3fOeju7ef3rt35fzZns72ns6OrjMtAN+ulubOplPtjQ2tDSdvX78++nI/AoJzcnJGXjug9i9HMLTivby8QN8h/Qm5ubk1NTXQqGcwGAUFBYAw8EZk4Yz29nZ9ff2WlhbkREBYaWnpuBcFDG0cNqDqgQMHAOhA26qqKkBhUlISEBPcHpgYFRUF0QI6oaV///79rKwsgODNmzehOGhqagK4AXbR0dHw57Fjx0A+s4fnawexCdHW1tbCr9evXweggz7t7+8HXMbExIBjHzlyBNIPNIDAILQh2fHx8ZDy0WssfYpgCAa1DhAf2A3pDw0NhbP+X3tnAtXUmS/wc96MdakLSsfX5fRNOz2nPfOmOi61+nRcahlLFTujVSjUreprSy2iPQ8VferU+lDc4Fi3VtHjQ8AKg0FC9rsvuQlZICCEsBgRkVrXgCgQ7PuHPBlHkCoCQvj/zj05N8mXLzf3fvnln+/e7//BDwbIF+qEnQCh9IkTJ0DB8HM1duxY+ETw0WB3gaC932J4VWxs7PHjx6FkYmJiyxxyqODW2Rl/aNDzI4b95vW33hg9buLU377yu0FD/N4YNX6g37AxE6b8KTBsxJTgDxdHLIuIPnAoQaBpI8tJFA0KrigruVJZ4bTbTRyfzTH52dm5BsksCJ6uCQiBKZ2eJApzcxr+eWD+U1cwNF/4GuB0RKjgf9RzrzezuScXDAXy9V6q2Pzs3XuAXOCPFAiu7UlVwIn353QHY0IA2/xGLattibckVHJ/rF1XV3d/PVDt/XMtP1AYthN+Y+AWHr+/zcNHO3jwYMud0FwtFIa/iZfvJZaDN4WfqIdt8P31wEtsNlvvHOjfTgVv27VvgP/r/i+OeO3Vf3/jDyP9nxs+2M/v1d+P+s0LL017f/74P4dO+WDp8hXRq9f8TZOlEimPgo0MaxX1pWcLwLm5ksEscLmSZDMac/SiieOMLJShDTRlEcUal+uBt3u6CoZYIyIiAmek74UKvlb/8/I8t+uJE/WAm9asWXP48GHvnBc9ddfdvXv/wArkaSp4+64Dg4b//rnfjn7uhVdfeOnlYf7+zz478PmXXhk1fvLb0z+c8P6CD8IiPo1Yn3TipEgxEsVks5xnaeoOzhH1eUaDzSjZDEZYPArmeQh+JZoyMvSl1uZ2fYoKrq+vj4qKysvLw7bS2xQM5o0scJ+t7piuSbfbjVkikQ5U8P6hL7057N9GDBv+4vB/9WSk7NPnmRdf/t20mSGTAsMCQz6f/VH4+s3b1AqlnmaMLGvieLi1GsRcCRYpRxJzJL0NYmER/OsJkCWKFgjCnpfX2OjuVgo+cuRISkoKNpTepuCNjsboIrd4HQegI91SwbF7Dvq/PHrw8FcGD/EbNNjPM+XmgGcnTnt/fMC8yUFLZsxZHvxJpEyWwRKknmUMDGtkGYsoWMC8omAVhVyDHkRsFvhsAdTMGGiG1xHWpoFwrb7d01KwIAibNm3CRBA+puBPbO7Cmrsltx66aK80vsk1qH7C4450VwXvjPvO/+VRAwb7Dxw05Jm+/fr26/eHkaOnvhfyp1mLJr6/ZMqsxdt27aV1hEDTYpOCTQKbIwk2kz7PIFlFLldPW3jRJHBCU15KPU1BFOwdCNd9FOydkb7lJfRIT+d4RePB820tu8saoQwKGOm+Ct4df2joC6/1HzAQ/Psvv/rVUP9h88KWTQ4MHT9j4bgZC+d/EqlSqjiCFGjGyHMmTvCceTPorXreqhfyRG2OQHquiOAZkSZFmhJIsqSg8OeHb0nXK7i+vn7Dhg0WiwWbSO+MlNG/SLdWcMz22IFD/Pr2G9CnX99f9/n15Hf+PC0wZOrsJeMCwv5j5uL9h47SGi1HkiLDWES9SeBzPP2/Uo7IWkU+h8/I0Qs2o/5SeVm+xaSnWbOor28zN1IXKxj2SWJiYnPliK/SUHu9ujK/7eWG09hwx4X7CuleCt4a8z/9+/fvO6D/oCF+fv7DA2YGT5318biA0AmBi5aujD6TLqN1EALT4FarKJkl0WYE/zIG6rSB0Rk5TY5BctrtP1aczzOZRIK++ksz1Haxgm0229q1a3tVxrxeiPtOdbEs2qnddZ6If9hiT12ljxl15+aldtRvNBqPHj168uRJ3NVIp0TBffo+M2Dg4H79B44cO+mdmaHjZ4S9FbBg6gdL9u07qFWqOZqRWMYsip5rHkTRqhdtTLqZVZoEJlsUco1GiyA5i+wmQXQW//LE3V2pYJfLtWzZMu9bIL5KY31tSebGm05jG2VuXysvSPrP/P9dUl/92I3h9u3bc+fOPXfuXHp6enV1tSAIuM+RjlTwtwe+e6b/gEGDhw0b/nxAUEjAXz8Z+27Y+Pc+jv5bbOLxJJ1ay1OkiRdMggDyzZUkK89Z6WQTz5t4scBqMXKikWVsRoPNbGk56cBTVLDb7Y6OjjaZTNgyfNm/DXXn1Nuv2ok2ytRV/1R4ckVNld1xem2rCvZe59vQ0NA8+qu2trY5hdPVq1dnz54NdxsbGxMTExMSEry5b+Cu9yXQ7GEdVuBuc+I9uAsvAX031+luwvtCWMGLc1DB9xR88PBgv+cGDhwyYUrAu7MXvPVuyJh3Qxd+HnXgYIJaodQqswSayvYoWLSIYo6ot7IqM6Mw8kKeyZxvMucYpeKC/KuVlXcebeKJrlEw7IqUlBT4tmBD92Xu3i2Rb4bwtsp8qsqS2vpiTi1I/txVboXCrSoYwtvU1FSbzbZnzx5ojTU1NXFxcTzPEwSxf/9+0KhSqRw3bpxcLr9w4cKSJUtWrVpFkiS41WAwBAUFnThxguM4aMkKhUIURXjWm78G6jxy5Ag07C1bttTV1d24cQOqXbhwIax/8803u3fvxiGaqOD/J+7bA0OHDn/1tddnz1s0avKcCYELA4M/W7dxW3LKKUqnZUmdnuNM+iYF6w1WWCFTzDxImS+05cKDFc6Syxcu3q5+1Blqu0bBdrsdZ6T3fQO7621HQi7bzvyUr3jYUiEcKVNu9fq6VQWDbYODg8GzZrMZhPv999/Hx8d7nwoPD4dnr1+/HhgY6D2dAC0TCnifhUh5+vTp3jnZwK3erJXr16/XaDQ/N52EsFgsDodjxowZTqfz56Yrc6Dx79q1Ky0tDSMDVPA/iP/2wKDBQ+cGhwXNXz52emjgvM9Cl67eui1epVQyOh1PkgaBNwqc2XM5hGgSSSudbuL4XJMxz2yFVlbhLCuyFTx61psuUDAEMvDluXTpErYJn4+C7amRje62ur9uXXY4NTvbUDBEoxDhRkRETJs2raioKDo6GqJX71OrV69OTk5uqWBoYC6XC37gZ82a5U0duXjxYmi3sLJhwwawOXwToT1D2FtSUgJloFpvFwR4eeLEiT06uQTS8QresWPXmyNHh0esHTftw7ffWzD344i/hH1xIimF0GoZLaFnGAMnGHnRzDHZHJfLZVg5jZFli/JsRk4oLSq66Cy/U/sYwWZnK7ihoQH+6LEsiw0CFfwoCj59+jQ0P/jugIi1Wq1Op4uKigLhgmQhtgWHVlRUNCfePXr0KIgVTAp/s0DNAQEBFy5cgMIhISEQL0Pb++qrryDIhUcmTZpUXl7uLZOZmQkhdmFh4Y4dOyorK4OCguDuo5w4QXqFgnfvifs0PPKdwJBRU+cHzF0+M/izleu2aBQqUq3lSRo8axIkIyeaGKVFZEyMwsRxeZ4uYFNBbm6RLb/2kbsgukbB8EWCP5KYixIV/ICC795tdKSvaalgaG9JSUmpqakymcx7zk0URVBtQkJCfn4+FDh58uTmzZu9se21a9f27t2bnp4OJeFnftOmTbAOxb7++msoX1xcHBMTs2/fPtA32BziZWjY3tnhQOWxsbGge6hw//7927dv/8WZj5HeouD0DPm8kOUjJv1lzPSP5i9e+dGylbLTckqtYXSkxHAGljdwnIFjJCrTIvBmkTNzwrkih8VgdDqKf7r42H/2O1XBZWVlK1aswKuAUcEtFXy9VCjN2tLYUPeQmh6c6vhh36Y2nmp3SaRXK/jkKdnoiUF/nBo8/YOlX0ZtOpxwXKdQgYIFmjEwvEnUg4JFisrmWLOgz2Z5s2QssxeetVquVFbdffxgs/MUDH8VV65cWdFahkyklyvYdcFafGaD+04N7jOk2yn42PFToyfPfTvg44Wf/deRY4lalVKrVDJagqdoEycYWM7AsBLo2JMjGO6yRkEsKcyvKCm7ef1GO96ukxSMM9Kjgh+m4ILkzx3pUfU1V3GHId1Rwd8d+2Hk5Hkzgz/dsj2O0Og0SiWp1nI6Ss+wEPwaPPJlDQyXLUoGmjVy/DmH3VlcfNFZ3r6t7CQFa7XaHTt2YBdwb1Nw3rEF59TbzmliH7Y4ZOvM385o37hkBOkKBR889sP0vy6N+u+tmRlZGqVKJVdQTSfiDBzvGZQhCLBi4EVQsJHhigsKLzrP28w57gZ391FweXn5ihUrah9tbAjiS9ReKaupKmxjcVXk1l45hzsK6b4KTjiRvmrdNzJZpkah1ChUhOdEHNGUmlIw8HDLCxQDCrZKRiPD221nTbxU7Wr/rC0druBbt25FRkaW/PM8zQiCID1DwRkKXcopmVqhVitUOhUsao6iBYaVWFgYkWH0DGvgODOvt+gN2bxUVVH5JFvZ4QqOj4/HGekRBOmpCs7LtyvlaqVcpclSkxodrSN4GszLChQt0rTocbHn0jROQ2RzYmFu/hNeZ9OxCmZZNiYmpjk3CoIgSA9TcHFRsUauUstVigwFodYyBOlVsOd0HE0zWgLWWS3FqHVmQbr9xP2tHajg8vLyiIgInMsWQZAerOBSUPAZpfKMAixM60iWpASPf3mepCSWZXQEoyOVZ7Ikmrt8qerJt7KjFNzY2AhV2Ww2PPAIgvRkBTtKNXJNlkzuUbCWAAXzFM3qSJFmwMI8QWXKZBALlxYUdchQnw5RMGzJoUOH0tLS8KgjCNKzFVziKFWeUakylaSaYAiKB/NSNEdACMzxFKWUZRBqtVlvqLuXwbo7KFgUxY0bN+IhRxCk5yu4qAQU3BQCg39ZUDCjIw28qGc4UqUilWo9y1253GFz/zy5gi9fvvzFF194kwQiCIL0bAUXF5WoMtWgYJZgQMEUQfKk56I0WqPTZnlGKjvsjg7cyidUcH19/bp163Jzc/F4IwjiGx0RnijY0wuho2mCYilaoCAAplRn5KDgbEHf0NDQTRQMHzApKQlKYgIqBEF8JwpWy9VNHcE0RzEMQQoUq8rMIlRqSqN1dfQMV0+iYLPZDCEw5rpGEMSHFGwv1ip0lI6idSRHUDzDEkqtJlOhkSucpWUdHm+2W8EulwvK//jjj3ikEQTxHQU7CotVmSpaR0H8S2sJQqXRqbTaLKU129QZicfap2BvF7B3ei4EQRDfUXCpo1SXpSVVOp70jIWzmEyEJ00Pe7tzEo+1Q8HwuZKTkxMSEvAYIwjiewouI5QEpdaxOpIhKZfrZmlpaeXFi520le1QcGFhYVRUFOaiRBDEBxVc4iilNBStoTLTZfm2vNqaW3fu3O68Sw4eV8E3b94MDw/HLmAEQXxTwWUlZaSGPJOakX7q7yYxu9ZV06lzTzyWgt1ud0xMDMMweHQRBPFRBReXpf1wWnZKppSrOR3runGzU7eyVQXL5fJWFZyRkbF3716cjghBEJ9VcFFBUXLiD1kyhSJTZT9b1NmjHloqGELdqKiolgouLS398ssv73RQbgoEQZDuqOCzeQWn0zJAwSwtdOxAuEdUcGZm5qxZsx5QcHV1dXh4eFVVFR5XBEF8WcEFeQWyVJlarrl+7XoXbOUDCpYkKTIyMi0t7X4Fx8XF7dy5U6PR4EFFEMTHFVx4tjAjVeawF3dN4oX7Fbxo0aLQ0NDz588/cDpuzpw5oGCcjghBEN9XsP1sIU9zXea7pUuXbr3HmDFjVCoVPAgBb1hYmPfBiIiIoKAg7AJGEKRXKNhZWlbtcnXZVlZUVBTfg6Iob+/zrVu3mh/MyclxOp14OBEE6RUKbqhvwH2HIAjydBSMIAiCoIIRBEFQwQiCIAgqGEEQBBWMIAiCoIIRBEFQwQiCIEhL/g/eSEy+lqaUcwAAAABJRU5ErkJggg==)\n",
        "\n"
      ]
    },
    {
      "cell_type": "markdown",
      "metadata": {
        "id": "KKsh0XHZRGRE"
      },
      "source": [
        "---"
      ]
    },
    {
      "cell_type": "markdown",
      "metadata": {
        "id": "oNI-kcNyRGRE"
      },
      "source": [
        "### **2.1 Setup Model VGG3**\n"
      ]
    },
    {
      "cell_type": "code",
      "execution_count": null,
      "metadata": {
        "id": "9XH3vlZ_RGRE"
      },
      "outputs": [],
      "source": [
        "# setup model architecture\n",
        "model = Sequential()\n",
        "model.add(Conv2D(32, (3, 3), activation='relu', kernel_initializer='he_uniform', padding='same', input_shape=(32, 32, 3)))\n",
        "model.add(Conv2D(32, (3, 3), activation='relu', kernel_initializer='he_uniform', padding='same'))\n",
        "model.add(MaxPooling2D((2, 2)))\n",
        "model.add(Conv2D(64, (3, 3), activation='relu', kernel_initializer='he_uniform', padding='same'))\n",
        "model.add(Conv2D(64, (3, 3), activation='relu', kernel_initializer='he_uniform', padding='same'))\n",
        "model.add(MaxPooling2D((2, 2)))\n",
        "model.add(Conv2D(128, (3, 3), activation='relu', kernel_initializer='he_uniform', padding='same'))\n",
        "model.add(Conv2D(128, (3, 3), activation='relu', kernel_initializer='he_uniform', padding='same'))\n",
        "model.add(MaxPooling2D((2, 2)))\n",
        "model.add(Flatten())\n",
        "model.add(Dense(128, activation='relu', kernel_initializer='he_uniform'))\n",
        "model.add(Dense(nClasses, activation='softmax'))"
      ]
    },
    {
      "cell_type": "markdown",
      "metadata": {
        "id": "rOVqrRIgRGRE"
      },
      "source": [
        "Display model summary."
      ]
    },
    {
      "cell_type": "code",
      "execution_count": null,
      "metadata": {
        "colab": {
          "base_uri": "https://localhost:8080/"
        },
        "id": "MC4vF9E0RGRE",
        "outputId": "33413139-3c84-45f8-8c81-342755f5b79f"
      },
      "outputs": [
        {
          "name": "stdout",
          "output_type": "stream",
          "text": [
            "Model: \"sequential\"\n",
            "_________________________________________________________________\n",
            " Layer (type)                Output Shape              Param #   \n",
            "=================================================================\n",
            " conv2d (Conv2D)             (None, 32, 32, 32)        896       \n",
            "                                                                 \n",
            " conv2d_1 (Conv2D)           (None, 32, 32, 32)        9248      \n",
            "                                                                 \n",
            " max_pooling2d (MaxPooling2  (None, 16, 16, 32)        0         \n",
            " D)                                                              \n",
            "                                                                 \n",
            " conv2d_2 (Conv2D)           (None, 16, 16, 64)        18496     \n",
            "                                                                 \n",
            " conv2d_3 (Conv2D)           (None, 16, 16, 64)        36928     \n",
            "                                                                 \n",
            " max_pooling2d_1 (MaxPoolin  (None, 8, 8, 64)          0         \n",
            " g2D)                                                            \n",
            "                                                                 \n",
            " conv2d_4 (Conv2D)           (None, 8, 8, 128)         73856     \n",
            "                                                                 \n",
            " conv2d_5 (Conv2D)           (None, 8, 8, 128)         147584    \n",
            "                                                                 \n",
            " max_pooling2d_2 (MaxPoolin  (None, 4, 4, 128)         0         \n",
            " g2D)                                                            \n",
            "                                                                 \n",
            " flatten (Flatten)           (None, 2048)              0         \n",
            "                                                                 \n",
            " dense (Dense)               (None, 128)               262272    \n",
            "                                                                 \n",
            " dense_1 (Dense)             (None, 10)                1290      \n",
            "                                                                 \n",
            "=================================================================\n",
            "Total params: 550570 (2.10 MB)\n",
            "Trainable params: 550570 (2.10 MB)\n",
            "Non-trainable params: 0 (0.00 Byte)\n",
            "_________________________________________________________________\n"
          ]
        }
      ],
      "source": [
        "model.summary()"
      ]
    },
    {
      "cell_type": "markdown",
      "metadata": {
        "id": "zniUBByFRGRE"
      },
      "source": [
        "---"
      ]
    },
    {
      "cell_type": "markdown",
      "metadata": {
        "id": "Pztu_R09RGRE"
      },
      "source": [
        "### **2.2 Compile the Model**"
      ]
    },
    {
      "cell_type": "code",
      "execution_count": null,
      "metadata": {
        "id": "rvsY2wXMRGRE"
      },
      "outputs": [],
      "source": [
        "optimizer = SGD(learning_rate=0.01)\n",
        "model.compile(optimizer=optimizer, loss='categorical_crossentropy', metrics=['accuracy'])"
      ]
    },
    {
      "cell_type": "markdown",
      "metadata": {
        "id": "diPhDVWPPvgZ"
      },
      "source": [
        "### **2.3 Fit model**\n",
        "- Train the model on the training data. For faster training on the Google Colab, please use the GPU runtime.\n",
        "- Store the training history in a variable name `history`."
      ]
    },
    {
      "cell_type": "code",
      "execution_count": null,
      "metadata": {
        "colab": {
          "base_uri": "https://localhost:8080/"
        },
        "id": "RbqFzl_pMN7M",
        "outputId": "ad7808fc-4d51-49a8-94d8-ba2f993a0eb0"
      },
      "outputs": [
        {
          "name": "stdout",
          "output_type": "stream",
          "text": [
            "Epoch 1/100\n",
            "782/782 [==============================] - 9s 6ms/step - loss: 1.8436 - accuracy: 0.3407 - val_loss: 1.9236 - val_accuracy: 0.3377\n",
            "Epoch 2/100\n",
            "782/782 [==============================] - 4s 5ms/step - loss: 1.4582 - accuracy: 0.4795 - val_loss: 1.3867 - val_accuracy: 0.4965\n",
            "Epoch 3/100\n",
            "782/782 [==============================] - 4s 5ms/step - loss: 1.2826 - accuracy: 0.5411 - val_loss: 1.3551 - val_accuracy: 0.5202\n",
            "Epoch 4/100\n",
            "782/782 [==============================] - 4s 5ms/step - loss: 1.1528 - accuracy: 0.5907 - val_loss: 1.1810 - val_accuracy: 0.5837\n",
            "Epoch 5/100\n",
            "782/782 [==============================] - 4s 5ms/step - loss: 1.0430 - accuracy: 0.6327 - val_loss: 1.0779 - val_accuracy: 0.6226\n",
            "Epoch 6/100\n",
            "782/782 [==============================] - 4s 5ms/step - loss: 0.9625 - accuracy: 0.6631 - val_loss: 1.1481 - val_accuracy: 0.5980\n",
            "Epoch 7/100\n",
            "782/782 [==============================] - 4s 5ms/step - loss: 0.8859 - accuracy: 0.6894 - val_loss: 1.1897 - val_accuracy: 0.5943\n",
            "Epoch 8/100\n",
            "782/782 [==============================] - 4s 5ms/step - loss: 0.8188 - accuracy: 0.7157 - val_loss: 0.9933 - val_accuracy: 0.6539\n",
            "Epoch 9/100\n",
            "782/782 [==============================] - 4s 5ms/step - loss: 0.7585 - accuracy: 0.7357 - val_loss: 1.1940 - val_accuracy: 0.5869\n",
            "Epoch 10/100\n",
            "782/782 [==============================] - 4s 5ms/step - loss: 0.7029 - accuracy: 0.7549 - val_loss: 1.0900 - val_accuracy: 0.6349\n",
            "Epoch 11/100\n",
            "782/782 [==============================] - 4s 5ms/step - loss: 0.6500 - accuracy: 0.7726 - val_loss: 1.0691 - val_accuracy: 0.6440\n",
            "Epoch 12/100\n",
            "782/782 [==============================] - 4s 5ms/step - loss: 0.5966 - accuracy: 0.7923 - val_loss: 1.0525 - val_accuracy: 0.6485\n",
            "Epoch 13/100\n",
            "782/782 [==============================] - 4s 5ms/step - loss: 0.5504 - accuracy: 0.8082 - val_loss: 0.9997 - val_accuracy: 0.6751\n",
            "Epoch 14/100\n",
            "782/782 [==============================] - 4s 5ms/step - loss: 0.4975 - accuracy: 0.8281 - val_loss: 1.4612 - val_accuracy: 0.5827\n",
            "Epoch 15/100\n",
            "782/782 [==============================] - 4s 5ms/step - loss: 0.4506 - accuracy: 0.8430 - val_loss: 1.0286 - val_accuracy: 0.6891\n",
            "Epoch 16/100\n",
            "782/782 [==============================] - 4s 5ms/step - loss: 0.4145 - accuracy: 0.8536 - val_loss: 1.0854 - val_accuracy: 0.6796\n",
            "Epoch 17/100\n",
            "782/782 [==============================] - 4s 5ms/step - loss: 0.3657 - accuracy: 0.8703 - val_loss: 1.4265 - val_accuracy: 0.6416\n",
            "Epoch 18/100\n",
            "782/782 [==============================] - 4s 5ms/step - loss: 0.3257 - accuracy: 0.8850 - val_loss: 3.1838 - val_accuracy: 0.4432\n",
            "Epoch 19/100\n",
            "782/782 [==============================] - 4s 5ms/step - loss: 0.2963 - accuracy: 0.8999 - val_loss: 1.1591 - val_accuracy: 0.6920\n",
            "Epoch 20/100\n",
            "782/782 [==============================] - 4s 5ms/step - loss: 0.2480 - accuracy: 0.9137 - val_loss: 1.1658 - val_accuracy: 0.7010\n",
            "Epoch 21/100\n",
            "782/782 [==============================] - 4s 5ms/step - loss: 0.2132 - accuracy: 0.9261 - val_loss: 1.4697 - val_accuracy: 0.6649\n",
            "Epoch 22/100\n",
            "782/782 [==============================] - 4s 5ms/step - loss: 0.1844 - accuracy: 0.9357 - val_loss: 1.2879 - val_accuracy: 0.6977\n",
            "Epoch 23/100\n",
            "782/782 [==============================] - 4s 5ms/step - loss: 0.1590 - accuracy: 0.9448 - val_loss: 1.3107 - val_accuracy: 0.7040\n",
            "Epoch 24/100\n",
            "782/782 [==============================] - 4s 5ms/step - loss: 0.1316 - accuracy: 0.9547 - val_loss: 1.3639 - val_accuracy: 0.7134\n",
            "Epoch 25/100\n",
            "782/782 [==============================] - 4s 5ms/step - loss: 0.1141 - accuracy: 0.9610 - val_loss: 2.2740 - val_accuracy: 0.5992\n",
            "Epoch 26/100\n",
            "782/782 [==============================] - 4s 5ms/step - loss: 0.1032 - accuracy: 0.9649 - val_loss: 1.4957 - val_accuracy: 0.7060\n",
            "Epoch 27/100\n",
            "782/782 [==============================] - 4s 5ms/step - loss: 0.0842 - accuracy: 0.9717 - val_loss: 1.5874 - val_accuracy: 0.7025\n",
            "Epoch 28/100\n",
            "782/782 [==============================] - 4s 5ms/step - loss: 0.0693 - accuracy: 0.9774 - val_loss: 1.6485 - val_accuracy: 0.7076\n",
            "Epoch 29/100\n",
            "782/782 [==============================] - 4s 5ms/step - loss: 0.0644 - accuracy: 0.9802 - val_loss: 1.8257 - val_accuracy: 0.7024\n",
            "Epoch 30/100\n",
            "782/782 [==============================] - 4s 5ms/step - loss: 0.0596 - accuracy: 0.9805 - val_loss: 3.0162 - val_accuracy: 0.5928\n",
            "Epoch 31/100\n",
            "782/782 [==============================] - 4s 5ms/step - loss: 0.0475 - accuracy: 0.9863 - val_loss: 2.9526 - val_accuracy: 0.6263\n",
            "Epoch 32/100\n",
            "782/782 [==============================] - 4s 5ms/step - loss: 0.0613 - accuracy: 0.9830 - val_loss: 1.7230 - val_accuracy: 0.7036\n",
            "Epoch 33/100\n",
            "782/782 [==============================] - 4s 5ms/step - loss: 0.0444 - accuracy: 0.9868 - val_loss: 2.1632 - val_accuracy: 0.6748\n",
            "Epoch 34/100\n",
            "782/782 [==============================] - 4s 5ms/step - loss: 0.0205 - accuracy: 0.9945 - val_loss: 2.0177 - val_accuracy: 0.7114\n",
            "Epoch 35/100\n",
            "782/782 [==============================] - 4s 5ms/step - loss: 0.0037 - accuracy: 0.9997 - val_loss: 2.0744 - val_accuracy: 0.7251\n",
            "Epoch 36/100\n",
            "782/782 [==============================] - 4s 5ms/step - loss: 0.0012 - accuracy: 1.0000 - val_loss: 2.1535 - val_accuracy: 0.7263\n",
            "Epoch 37/100\n",
            "782/782 [==============================] - 4s 5ms/step - loss: 7.1684e-04 - accuracy: 1.0000 - val_loss: 2.2175 - val_accuracy: 0.7258\n",
            "Epoch 38/100\n",
            "782/782 [==============================] - 4s 5ms/step - loss: 5.7272e-04 - accuracy: 1.0000 - val_loss: 2.2657 - val_accuracy: 0.7262\n",
            "Epoch 39/100\n",
            "782/782 [==============================] - 4s 5ms/step - loss: 4.8561e-04 - accuracy: 1.0000 - val_loss: 2.3022 - val_accuracy: 0.7267\n",
            "Epoch 40/100\n",
            "782/782 [==============================] - 4s 5ms/step - loss: 4.2737e-04 - accuracy: 1.0000 - val_loss: 2.3350 - val_accuracy: 0.7275\n",
            "Epoch 41/100\n",
            "782/782 [==============================] - 4s 5ms/step - loss: 3.8175e-04 - accuracy: 1.0000 - val_loss: 2.3636 - val_accuracy: 0.7272\n",
            "Epoch 42/100\n",
            "782/782 [==============================] - 4s 5ms/step - loss: 3.4573e-04 - accuracy: 1.0000 - val_loss: 2.3881 - val_accuracy: 0.7272\n",
            "Epoch 43/100\n",
            "782/782 [==============================] - 4s 5ms/step - loss: 3.1676e-04 - accuracy: 1.0000 - val_loss: 2.4114 - val_accuracy: 0.7270\n",
            "Epoch 44/100\n",
            "782/782 [==============================] - 4s 5ms/step - loss: 2.9195e-04 - accuracy: 1.0000 - val_loss: 2.4311 - val_accuracy: 0.7275\n",
            "Epoch 45/100\n",
            "782/782 [==============================] - 4s 5ms/step - loss: 2.7048e-04 - accuracy: 1.0000 - val_loss: 2.4500 - val_accuracy: 0.7268\n",
            "Epoch 46/100\n",
            "782/782 [==============================] - 4s 5ms/step - loss: 2.5307e-04 - accuracy: 1.0000 - val_loss: 2.4677 - val_accuracy: 0.7276\n",
            "Epoch 47/100\n",
            "782/782 [==============================] - 4s 5ms/step - loss: 2.3797e-04 - accuracy: 1.0000 - val_loss: 2.4846 - val_accuracy: 0.7274\n",
            "Epoch 48/100\n",
            "782/782 [==============================] - 4s 5ms/step - loss: 2.2417e-04 - accuracy: 1.0000 - val_loss: 2.5000 - val_accuracy: 0.7274\n",
            "Epoch 49/100\n",
            "782/782 [==============================] - 4s 5ms/step - loss: 2.1179e-04 - accuracy: 1.0000 - val_loss: 2.5145 - val_accuracy: 0.7270\n",
            "Epoch 50/100\n",
            "782/782 [==============================] - 4s 5ms/step - loss: 2.0147e-04 - accuracy: 1.0000 - val_loss: 2.5286 - val_accuracy: 0.7272\n",
            "Epoch 51/100\n",
            "782/782 [==============================] - 4s 5ms/step - loss: 1.9181e-04 - accuracy: 1.0000 - val_loss: 2.5413 - val_accuracy: 0.7268\n",
            "Epoch 52/100\n",
            "782/782 [==============================] - 4s 5ms/step - loss: 1.8297e-04 - accuracy: 1.0000 - val_loss: 2.5537 - val_accuracy: 0.7273\n",
            "Epoch 53/100\n",
            "782/782 [==============================] - 4s 5ms/step - loss: 1.7471e-04 - accuracy: 1.0000 - val_loss: 2.5655 - val_accuracy: 0.7268\n",
            "Epoch 54/100\n",
            "782/782 [==============================] - 4s 5ms/step - loss: 1.6748e-04 - accuracy: 1.0000 - val_loss: 2.5772 - val_accuracy: 0.7266\n",
            "Epoch 55/100\n",
            "782/782 [==============================] - 4s 5ms/step - loss: 1.6078e-04 - accuracy: 1.0000 - val_loss: 2.5880 - val_accuracy: 0.7264\n",
            "Epoch 56/100\n",
            "782/782 [==============================] - 4s 5ms/step - loss: 1.5468e-04 - accuracy: 1.0000 - val_loss: 2.5999 - val_accuracy: 0.7270\n",
            "Epoch 57/100\n",
            "782/782 [==============================] - 4s 5ms/step - loss: 1.4890e-04 - accuracy: 1.0000 - val_loss: 2.6093 - val_accuracy: 0.7268\n",
            "Epoch 58/100\n",
            "782/782 [==============================] - 4s 5ms/step - loss: 1.4351e-04 - accuracy: 1.0000 - val_loss: 2.6186 - val_accuracy: 0.7267\n",
            "Epoch 59/100\n",
            "782/782 [==============================] - 4s 5ms/step - loss: 1.3862e-04 - accuracy: 1.0000 - val_loss: 2.6295 - val_accuracy: 0.7270\n",
            "Epoch 60/100\n",
            "782/782 [==============================] - 4s 5ms/step - loss: 1.3403e-04 - accuracy: 1.0000 - val_loss: 2.6379 - val_accuracy: 0.7272\n",
            "Epoch 61/100\n",
            "782/782 [==============================] - 4s 5ms/step - loss: 1.2971e-04 - accuracy: 1.0000 - val_loss: 2.6477 - val_accuracy: 0.7282\n",
            "Epoch 62/100\n",
            "782/782 [==============================] - 4s 5ms/step - loss: 1.2569e-04 - accuracy: 1.0000 - val_loss: 2.6561 - val_accuracy: 0.7262\n",
            "Epoch 63/100\n",
            "782/782 [==============================] - 4s 5ms/step - loss: 1.2196e-04 - accuracy: 1.0000 - val_loss: 2.6650 - val_accuracy: 0.7272\n",
            "Epoch 64/100\n",
            "782/782 [==============================] - 4s 5ms/step - loss: 1.1830e-04 - accuracy: 1.0000 - val_loss: 2.6719 - val_accuracy: 0.7272\n",
            "Epoch 65/100\n",
            "782/782 [==============================] - 4s 5ms/step - loss: 1.1500e-04 - accuracy: 1.0000 - val_loss: 2.6805 - val_accuracy: 0.7273\n",
            "Epoch 66/100\n",
            "782/782 [==============================] - 4s 5ms/step - loss: 1.1179e-04 - accuracy: 1.0000 - val_loss: 2.6878 - val_accuracy: 0.7271\n",
            "Epoch 67/100\n",
            "782/782 [==============================] - 4s 5ms/step - loss: 1.0890e-04 - accuracy: 1.0000 - val_loss: 2.6943 - val_accuracy: 0.7270\n",
            "Epoch 68/100\n",
            "782/782 [==============================] - 4s 5ms/step - loss: 1.0596e-04 - accuracy: 1.0000 - val_loss: 2.7023 - val_accuracy: 0.7272\n",
            "Epoch 69/100\n",
            "782/782 [==============================] - 4s 5ms/step - loss: 1.0329e-04 - accuracy: 1.0000 - val_loss: 2.7088 - val_accuracy: 0.7275\n",
            "Epoch 70/100\n",
            "782/782 [==============================] - 5s 6ms/step - loss: 1.0067e-04 - accuracy: 1.0000 - val_loss: 2.7158 - val_accuracy: 0.7273\n",
            "Epoch 71/100\n",
            "782/782 [==============================] - 5s 6ms/step - loss: 9.8198e-05 - accuracy: 1.0000 - val_loss: 2.7231 - val_accuracy: 0.7269\n",
            "Epoch 72/100\n",
            "782/782 [==============================] - 5s 6ms/step - loss: 9.5983e-05 - accuracy: 1.0000 - val_loss: 2.7299 - val_accuracy: 0.7276\n",
            "Epoch 73/100\n",
            "782/782 [==============================] - 4s 5ms/step - loss: 9.3701e-05 - accuracy: 1.0000 - val_loss: 2.7359 - val_accuracy: 0.7273\n",
            "Epoch 74/100\n",
            "782/782 [==============================] - 4s 5ms/step - loss: 9.1604e-05 - accuracy: 1.0000 - val_loss: 2.7417 - val_accuracy: 0.7274\n",
            "Epoch 75/100\n",
            "782/782 [==============================] - 4s 5ms/step - loss: 8.9533e-05 - accuracy: 1.0000 - val_loss: 2.7481 - val_accuracy: 0.7265\n",
            "Epoch 76/100\n",
            "782/782 [==============================] - 5s 6ms/step - loss: 8.7616e-05 - accuracy: 1.0000 - val_loss: 2.7551 - val_accuracy: 0.7270\n",
            "Epoch 77/100\n",
            "782/782 [==============================] - 5s 6ms/step - loss: 8.5804e-05 - accuracy: 1.0000 - val_loss: 2.7614 - val_accuracy: 0.7267\n",
            "Epoch 78/100\n",
            "782/782 [==============================] - 5s 6ms/step - loss: 8.3982e-05 - accuracy: 1.0000 - val_loss: 2.7652 - val_accuracy: 0.7269\n",
            "Epoch 79/100\n",
            "782/782 [==============================] - 4s 5ms/step - loss: 8.2256e-05 - accuracy: 1.0000 - val_loss: 2.7720 - val_accuracy: 0.7267\n",
            "Epoch 80/100\n",
            "782/782 [==============================] - 4s 5ms/step - loss: 8.0613e-05 - accuracy: 1.0000 - val_loss: 2.7786 - val_accuracy: 0.7272\n",
            "Epoch 81/100\n",
            "782/782 [==============================] - 4s 5ms/step - loss: 7.9081e-05 - accuracy: 1.0000 - val_loss: 2.7831 - val_accuracy: 0.7267\n",
            "Epoch 82/100\n",
            "782/782 [==============================] - 4s 5ms/step - loss: 7.7483e-05 - accuracy: 1.0000 - val_loss: 2.7880 - val_accuracy: 0.7265\n",
            "Epoch 83/100\n",
            "782/782 [==============================] - 5s 6ms/step - loss: 7.6074e-05 - accuracy: 1.0000 - val_loss: 2.7939 - val_accuracy: 0.7267\n",
            "Epoch 84/100\n",
            "782/782 [==============================] - 5s 6ms/step - loss: 7.4669e-05 - accuracy: 1.0000 - val_loss: 2.7996 - val_accuracy: 0.7273\n",
            "Epoch 85/100\n",
            "782/782 [==============================] - 5s 6ms/step - loss: 7.3284e-05 - accuracy: 1.0000 - val_loss: 2.8037 - val_accuracy: 0.7270\n",
            "Epoch 86/100\n",
            "782/782 [==============================] - 5s 6ms/step - loss: 7.1945e-05 - accuracy: 1.0000 - val_loss: 2.8088 - val_accuracy: 0.7270\n",
            "Epoch 87/100\n",
            "782/782 [==============================] - 5s 6ms/step - loss: 7.0688e-05 - accuracy: 1.0000 - val_loss: 2.8138 - val_accuracy: 0.7273\n",
            "Epoch 88/100\n",
            "782/782 [==============================] - 5s 6ms/step - loss: 6.9465e-05 - accuracy: 1.0000 - val_loss: 2.8196 - val_accuracy: 0.7273\n",
            "Epoch 89/100\n",
            "782/782 [==============================] - 5s 6ms/step - loss: 6.8306e-05 - accuracy: 1.0000 - val_loss: 2.8240 - val_accuracy: 0.7273\n",
            "Epoch 90/100\n",
            "782/782 [==============================] - 5s 6ms/step - loss: 6.7077e-05 - accuracy: 1.0000 - val_loss: 2.8292 - val_accuracy: 0.7270\n",
            "Epoch 91/100\n",
            "782/782 [==============================] - 4s 6ms/step - loss: 6.6049e-05 - accuracy: 1.0000 - val_loss: 2.8328 - val_accuracy: 0.7273\n",
            "Epoch 92/100\n",
            "782/782 [==============================] - 4s 6ms/step - loss: 6.4996e-05 - accuracy: 1.0000 - val_loss: 2.8379 - val_accuracy: 0.7272\n",
            "Epoch 93/100\n",
            "782/782 [==============================] - 4s 5ms/step - loss: 6.3940e-05 - accuracy: 1.0000 - val_loss: 2.8419 - val_accuracy: 0.7269\n",
            "Epoch 94/100\n",
            "782/782 [==============================] - 4s 5ms/step - loss: 6.2913e-05 - accuracy: 1.0000 - val_loss: 2.8461 - val_accuracy: 0.7272\n",
            "Epoch 95/100\n",
            "782/782 [==============================] - 4s 5ms/step - loss: 6.1948e-05 - accuracy: 1.0000 - val_loss: 2.8514 - val_accuracy: 0.7274\n",
            "Epoch 96/100\n",
            "782/782 [==============================] - 4s 5ms/step - loss: 6.1020e-05 - accuracy: 1.0000 - val_loss: 2.8556 - val_accuracy: 0.7271\n",
            "Epoch 97/100\n",
            "782/782 [==============================] - 4s 5ms/step - loss: 6.0097e-05 - accuracy: 1.0000 - val_loss: 2.8599 - val_accuracy: 0.7272\n",
            "Epoch 98/100\n",
            "782/782 [==============================] - 4s 5ms/step - loss: 5.9202e-05 - accuracy: 1.0000 - val_loss: 2.8641 - val_accuracy: 0.7273\n",
            "Epoch 99/100\n",
            "782/782 [==============================] - 4s 5ms/step - loss: 5.8325e-05 - accuracy: 1.0000 - val_loss: 2.8675 - val_accuracy: 0.7271\n",
            "Epoch 100/100\n",
            "782/782 [==============================] - 4s 5ms/step - loss: 5.7480e-05 - accuracy: 1.0000 - val_loss: 2.8724 - val_accuracy: 0.7268\n"
          ]
        }
      ],
      "source": [
        "EPOCHS = 100\n",
        "BATCH_SIZE = 64\n",
        "\n",
        "# Train the model\n",
        "history = model.fit(x_train, y_train, validation_data=(x_test, y_test), epochs=EPOCHS, batch_size=BATCH_SIZE)"
      ]
    },
    {
      "cell_type": "markdown",
      "metadata": {
        "id": "z7H1lxNTP2nb"
      },
      "source": [
        "### **2.4 Summarize Learning Curve**"
      ]
    },
    {
      "cell_type": "code",
      "execution_count": 9,
      "metadata": {
        "id": "NyHd-qCxQF8Y"
      },
      "outputs": [],
      "source": [
        "def summarize_diagnostics(history):\n",
        " # plot loss\n",
        " plt.subplot(211)\n",
        " plt.title('Cross Entropy Loss')\n",
        " plt.plot(history.history['loss'], color='blue', label='train')\n",
        " plt.plot(history.history['val_loss'], color='orange', label='test')\n",
        " # plot accuracy\n",
        " plt.subplot(212)\n",
        " plt.title('Classification Accuracy')\n",
        " plt.plot(history.history['accuracy'], color='blue', label='train')\n",
        " plt.plot(history.history['val_accuracy'], color='orange', label='test')"
      ]
    },
    {
      "cell_type": "markdown",
      "metadata": {
        "id": "uj1wmCoDQfdl"
      },
      "source": [
        "Plot the accuracy of training and validation sets over epochs"
      ]
    },
    {
      "cell_type": "code",
      "execution_count": null,
      "metadata": {
        "colab": {
          "base_uri": "https://localhost:8080/",
          "height": 469
        },
        "id": "_cpswzCTPs-R",
        "outputId": "b4f8ba09-8020-40e2-f0c5-0b543f4ac8a3"
      },
      "outputs": [
        {
          "name": "stdout",
          "output_type": "stream",
          "text": [
            "> 72.680\n"
          ]
        },
        {
          "data": {
            "image/png": "[encoded data removed]",
            "text/plain": [
              "<Figure size 640x480 with 2 Axes>"
            ]
          },
          "metadata": {},
          "output_type": "display_data"
        }
      ],
      "source": [
        " _, acc = model.evaluate(x_test, y_test, verbose=0)\n",
        " print('> %.3f' % (acc * 100.0))\n",
        " # learning curves\n",
        " summarize_diagnostics(history)"
      ]
    },
    {
      "cell_type": "markdown",
      "metadata": {
        "id": "DviHaRzyPZZm"
      },
      "source": [
        "### Conclusion for the based Model.\n",
        "\n",
        "The Learning Curve graph shows it started overfitting approximately 15 -18 epochs. Then, the Test Loss began to increase. So, This Model is definitely overfitting."
      ]
    },
    {
      "cell_type": "markdown",
      "metadata": {},
      "source": [
        "-----------"
      ]
    },
    {
      "cell_type": "markdown",
      "metadata": {},
      "source": [
        "### ResNet50V2 Model."
      ]
    },
    {
      "cell_type": "code",
      "execution_count": 10,
      "metadata": {},
      "outputs": [
        {
          "name": "stdout",
          "output_type": "stream",
          "text": [
            "Epoch 1/100\n"
          ]
        },
        {
          "name": "stderr",
          "output_type": "stream",
          "text": [
            "2024-04-16 04:49:13.170923: W external/local_tsl/tsl/framework/cpu_allocator_impl.cc:83] Allocation of 614400000 exceeds 10% of free system memory.\n"
          ]
        },
        {
          "name": "stdout",
          "output_type": "stream",
          "text": [
            "\u001b[1m357/782\u001b[0m \u001b[32m━━━━━━━━━\u001b[0m\u001b[37m━━━━━━━━━━━\u001b[0m \u001b[1m31s\u001b[0m 74ms/step - accuracy: 0.1481 - loss: 2.2699"
          ]
        },
        {
          "ename": "KeyboardInterrupt",
          "evalue": "",
          "output_type": "error",
          "traceback": [
            "\u001b[0;31m---------------------------------------------------------------------------\u001b[0m",
            "\u001b[0;31mKeyboardInterrupt\u001b[0m                         Traceback (most recent call last)",
            "Cell \u001b[0;32mIn[10], line 27\u001b[0m\n\u001b[1;32m     24\u001b[0m model\u001b[38;5;241m.\u001b[39mcompile(optimizer\u001b[38;5;241m=\u001b[39moptimizer, loss\u001b[38;5;241m=\u001b[39m\u001b[38;5;124m'\u001b[39m\u001b[38;5;124mcategorical_crossentropy\u001b[39m\u001b[38;5;124m'\u001b[39m, metrics\u001b[38;5;241m=\u001b[39m[\u001b[38;5;124m'\u001b[39m\u001b[38;5;124maccuracy\u001b[39m\u001b[38;5;124m'\u001b[39m])\n\u001b[1;32m     26\u001b[0m \u001b[38;5;66;03m# Train the model\u001b[39;00m\n\u001b[0;32m---> 27\u001b[0m history \u001b[38;5;241m=\u001b[39m \u001b[43mmodel\u001b[49m\u001b[38;5;241;43m.\u001b[39;49m\u001b[43mfit\u001b[49m\u001b[43m(\u001b[49m\u001b[43mx_train\u001b[49m\u001b[43m,\u001b[49m\u001b[43m \u001b[49m\u001b[43my_train\u001b[49m\u001b[43m,\u001b[49m\u001b[43m \u001b[49m\u001b[43mvalidation_data\u001b[49m\u001b[38;5;241;43m=\u001b[39;49m\u001b[43m(\u001b[49m\u001b[43mx_test\u001b[49m\u001b[43m,\u001b[49m\u001b[43m \u001b[49m\u001b[43my_test\u001b[49m\u001b[43m)\u001b[49m\u001b[43m,\u001b[49m\u001b[43m \u001b[49m\u001b[43mepochs\u001b[49m\u001b[38;5;241;43m=\u001b[39;49m\u001b[43mEPOCHS\u001b[49m\u001b[43m,\u001b[49m\u001b[43m \u001b[49m\u001b[43mbatch_size\u001b[49m\u001b[38;5;241;43m=\u001b[39;49m\u001b[43mBATCH_SIZE\u001b[49m\u001b[43m)\u001b[49m\n\u001b[1;32m     29\u001b[0m summarize_diagnostics(history)\n",
            "File \u001b[0;32m~/.python/current/lib/python3.10/site-packages/keras/src/utils/traceback_utils.py:117\u001b[0m, in \u001b[0;36mfilter_traceback.<locals>.error_handler\u001b[0;34m(*args, **kwargs)\u001b[0m\n\u001b[1;32m    115\u001b[0m filtered_tb \u001b[38;5;241m=\u001b[39m \u001b[38;5;28;01mNone\u001b[39;00m\n\u001b[1;32m    116\u001b[0m \u001b[38;5;28;01mtry\u001b[39;00m:\n\u001b[0;32m--> 117\u001b[0m     \u001b[38;5;28;01mreturn\u001b[39;00m \u001b[43mfn\u001b[49m\u001b[43m(\u001b[49m\u001b[38;5;241;43m*\u001b[39;49m\u001b[43margs\u001b[49m\u001b[43m,\u001b[49m\u001b[43m \u001b[49m\u001b[38;5;241;43m*\u001b[39;49m\u001b[38;5;241;43m*\u001b[39;49m\u001b[43mkwargs\u001b[49m\u001b[43m)\u001b[49m\n\u001b[1;32m    118\u001b[0m \u001b[38;5;28;01mexcept\u001b[39;00m \u001b[38;5;167;01mException\u001b[39;00m \u001b[38;5;28;01mas\u001b[39;00m e:\n\u001b[1;32m    119\u001b[0m     filtered_tb \u001b[38;5;241m=\u001b[39m _process_traceback_frames(e\u001b[38;5;241m.\u001b[39m__traceback__)\n",
            "File \u001b[0;32m~/.python/current/lib/python3.10/site-packages/keras/src/backend/tensorflow/trainer.py:329\u001b[0m, in \u001b[0;36mTensorFlowTrainer.fit\u001b[0;34m(self, x, y, batch_size, epochs, verbose, callbacks, validation_split, validation_data, shuffle, class_weight, sample_weight, initial_epoch, steps_per_epoch, validation_steps, validation_batch_size, validation_freq)\u001b[0m\n\u001b[1;32m    327\u001b[0m \u001b[38;5;28;01mfor\u001b[39;00m step, iterator \u001b[38;5;129;01min\u001b[39;00m epoch_iterator\u001b[38;5;241m.\u001b[39menumerate_epoch():\n\u001b[1;32m    328\u001b[0m     callbacks\u001b[38;5;241m.\u001b[39mon_train_batch_begin(step)\n\u001b[0;32m--> 329\u001b[0m     logs \u001b[38;5;241m=\u001b[39m \u001b[38;5;28;43mself\u001b[39;49m\u001b[38;5;241;43m.\u001b[39;49m\u001b[43mtrain_function\u001b[49m\u001b[43m(\u001b[49m\u001b[43miterator\u001b[49m\u001b[43m)\u001b[49m\n\u001b[1;32m    330\u001b[0m     callbacks\u001b[38;5;241m.\u001b[39mon_train_batch_end(\n\u001b[1;32m    331\u001b[0m         step, \u001b[38;5;28mself\u001b[39m\u001b[38;5;241m.\u001b[39m_pythonify_logs(logs)\n\u001b[1;32m    332\u001b[0m     )\n\u001b[1;32m    333\u001b[0m     \u001b[38;5;28;01mif\u001b[39;00m \u001b[38;5;28mself\u001b[39m\u001b[38;5;241m.\u001b[39mstop_training:\n",
            "File \u001b[0;32m~/.python/current/lib/python3.10/site-packages/tensorflow/python/util/traceback_utils.py:150\u001b[0m, in \u001b[0;36mfilter_traceback.<locals>.error_handler\u001b[0;34m(*args, **kwargs)\u001b[0m\n\u001b[1;32m    148\u001b[0m filtered_tb \u001b[38;5;241m=\u001b[39m \u001b[38;5;28;01mNone\u001b[39;00m\n\u001b[1;32m    149\u001b[0m \u001b[38;5;28;01mtry\u001b[39;00m:\n\u001b[0;32m--> 150\u001b[0m   \u001b[38;5;28;01mreturn\u001b[39;00m \u001b[43mfn\u001b[49m\u001b[43m(\u001b[49m\u001b[38;5;241;43m*\u001b[39;49m\u001b[43margs\u001b[49m\u001b[43m,\u001b[49m\u001b[43m \u001b[49m\u001b[38;5;241;43m*\u001b[39;49m\u001b[38;5;241;43m*\u001b[39;49m\u001b[43mkwargs\u001b[49m\u001b[43m)\u001b[49m\n\u001b[1;32m    151\u001b[0m \u001b[38;5;28;01mexcept\u001b[39;00m \u001b[38;5;167;01mException\u001b[39;00m \u001b[38;5;28;01mas\u001b[39;00m e:\n\u001b[1;32m    152\u001b[0m   filtered_tb \u001b[38;5;241m=\u001b[39m _process_traceback_frames(e\u001b[38;5;241m.\u001b[39m__traceback__)\n",
            "File \u001b[0;32m~/.python/current/lib/python3.10/site-packages/tensorflow/python/eager/polymorphic_function/polymorphic_function.py:833\u001b[0m, in \u001b[0;36mFunction.__call__\u001b[0;34m(self, *args, **kwds)\u001b[0m\n\u001b[1;32m    830\u001b[0m compiler \u001b[38;5;241m=\u001b[39m \u001b[38;5;124m\"\u001b[39m\u001b[38;5;124mxla\u001b[39m\u001b[38;5;124m\"\u001b[39m \u001b[38;5;28;01mif\u001b[39;00m \u001b[38;5;28mself\u001b[39m\u001b[38;5;241m.\u001b[39m_jit_compile \u001b[38;5;28;01melse\u001b[39;00m \u001b[38;5;124m\"\u001b[39m\u001b[38;5;124mnonXla\u001b[39m\u001b[38;5;124m\"\u001b[39m\n\u001b[1;32m    832\u001b[0m \u001b[38;5;28;01mwith\u001b[39;00m OptionalXlaContext(\u001b[38;5;28mself\u001b[39m\u001b[38;5;241m.\u001b[39m_jit_compile):\n\u001b[0;32m--> 833\u001b[0m   result \u001b[38;5;241m=\u001b[39m \u001b[38;5;28;43mself\u001b[39;49m\u001b[38;5;241;43m.\u001b[39;49m\u001b[43m_call\u001b[49m\u001b[43m(\u001b[49m\u001b[38;5;241;43m*\u001b[39;49m\u001b[43margs\u001b[49m\u001b[43m,\u001b[49m\u001b[43m \u001b[49m\u001b[38;5;241;43m*\u001b[39;49m\u001b[38;5;241;43m*\u001b[39;49m\u001b[43mkwds\u001b[49m\u001b[43m)\u001b[49m\n\u001b[1;32m    835\u001b[0m new_tracing_count \u001b[38;5;241m=\u001b[39m \u001b[38;5;28mself\u001b[39m\u001b[38;5;241m.\u001b[39mexperimental_get_tracing_count()\n\u001b[1;32m    836\u001b[0m without_tracing \u001b[38;5;241m=\u001b[39m (tracing_count \u001b[38;5;241m==\u001b[39m new_tracing_count)\n",
            "File \u001b[0;32m~/.python/current/lib/python3.10/site-packages/tensorflow/python/eager/polymorphic_function/polymorphic_function.py:878\u001b[0m, in \u001b[0;36mFunction._call\u001b[0;34m(self, *args, **kwds)\u001b[0m\n\u001b[1;32m    875\u001b[0m \u001b[38;5;28mself\u001b[39m\u001b[38;5;241m.\u001b[39m_lock\u001b[38;5;241m.\u001b[39mrelease()\n\u001b[1;32m    876\u001b[0m \u001b[38;5;66;03m# In this case we have not created variables on the first call. So we can\u001b[39;00m\n\u001b[1;32m    877\u001b[0m \u001b[38;5;66;03m# run the first trace but we should fail if variables are created.\u001b[39;00m\n\u001b[0;32m--> 878\u001b[0m results \u001b[38;5;241m=\u001b[39m \u001b[43mtracing_compilation\u001b[49m\u001b[38;5;241;43m.\u001b[39;49m\u001b[43mcall_function\u001b[49m\u001b[43m(\u001b[49m\n\u001b[1;32m    879\u001b[0m \u001b[43m    \u001b[49m\u001b[43margs\u001b[49m\u001b[43m,\u001b[49m\u001b[43m \u001b[49m\u001b[43mkwds\u001b[49m\u001b[43m,\u001b[49m\u001b[43m \u001b[49m\u001b[38;5;28;43mself\u001b[39;49m\u001b[38;5;241;43m.\u001b[39;49m\u001b[43m_variable_creation_config\u001b[49m\n\u001b[1;32m    880\u001b[0m \u001b[43m\u001b[49m\u001b[43m)\u001b[49m\n\u001b[1;32m    881\u001b[0m \u001b[38;5;28;01mif\u001b[39;00m \u001b[38;5;28mself\u001b[39m\u001b[38;5;241m.\u001b[39m_created_variables:\n\u001b[1;32m    882\u001b[0m   \u001b[38;5;28;01mraise\u001b[39;00m \u001b[38;5;167;01mValueError\u001b[39;00m(\u001b[38;5;124m\"\u001b[39m\u001b[38;5;124mCreating variables on a non-first call to a function\u001b[39m\u001b[38;5;124m\"\u001b[39m\n\u001b[1;32m    883\u001b[0m                    \u001b[38;5;124m\"\u001b[39m\u001b[38;5;124m decorated with tf.function.\u001b[39m\u001b[38;5;124m\"\u001b[39m)\n",
            "File \u001b[0;32m~/.python/current/lib/python3.10/site-packages/tensorflow/python/eager/polymorphic_function/tracing_compilation.py:139\u001b[0m, in \u001b[0;36mcall_function\u001b[0;34m(args, kwargs, tracing_options)\u001b[0m\n\u001b[1;32m    137\u001b[0m bound_args \u001b[38;5;241m=\u001b[39m function\u001b[38;5;241m.\u001b[39mfunction_type\u001b[38;5;241m.\u001b[39mbind(\u001b[38;5;241m*\u001b[39margs, \u001b[38;5;241m*\u001b[39m\u001b[38;5;241m*\u001b[39mkwargs)\n\u001b[1;32m    138\u001b[0m flat_inputs \u001b[38;5;241m=\u001b[39m function\u001b[38;5;241m.\u001b[39mfunction_type\u001b[38;5;241m.\u001b[39munpack_inputs(bound_args)\n\u001b[0;32m--> 139\u001b[0m \u001b[38;5;28;01mreturn\u001b[39;00m \u001b[43mfunction\u001b[49m\u001b[38;5;241;43m.\u001b[39;49m\u001b[43m_call_flat\u001b[49m\u001b[43m(\u001b[49m\u001b[43m  \u001b[49m\u001b[38;5;66;43;03m# pylint: disable=protected-access\u001b[39;49;00m\n\u001b[1;32m    140\u001b[0m \u001b[43m    \u001b[49m\u001b[43mflat_inputs\u001b[49m\u001b[43m,\u001b[49m\u001b[43m \u001b[49m\u001b[43mcaptured_inputs\u001b[49m\u001b[38;5;241;43m=\u001b[39;49m\u001b[43mfunction\u001b[49m\u001b[38;5;241;43m.\u001b[39;49m\u001b[43mcaptured_inputs\u001b[49m\n\u001b[1;32m    141\u001b[0m \u001b[43m\u001b[49m\u001b[43m)\u001b[49m\n",
            "File \u001b[0;32m~/.python/current/lib/python3.10/site-packages/tensorflow/python/eager/polymorphic_function/concrete_function.py:1322\u001b[0m, in \u001b[0;36mConcreteFunction._call_flat\u001b[0;34m(self, tensor_inputs, captured_inputs)\u001b[0m\n\u001b[1;32m   1318\u001b[0m possible_gradient_type \u001b[38;5;241m=\u001b[39m gradients_util\u001b[38;5;241m.\u001b[39mPossibleTapeGradientTypes(args)\n\u001b[1;32m   1319\u001b[0m \u001b[38;5;28;01mif\u001b[39;00m (possible_gradient_type \u001b[38;5;241m==\u001b[39m gradients_util\u001b[38;5;241m.\u001b[39mPOSSIBLE_GRADIENT_TYPES_NONE\n\u001b[1;32m   1320\u001b[0m     \u001b[38;5;129;01mand\u001b[39;00m executing_eagerly):\n\u001b[1;32m   1321\u001b[0m   \u001b[38;5;66;03m# No tape is watching; skip to running the function.\u001b[39;00m\n\u001b[0;32m-> 1322\u001b[0m   \u001b[38;5;28;01mreturn\u001b[39;00m \u001b[38;5;28;43mself\u001b[39;49m\u001b[38;5;241;43m.\u001b[39;49m\u001b[43m_inference_function\u001b[49m\u001b[38;5;241;43m.\u001b[39;49m\u001b[43mcall_preflattened\u001b[49m\u001b[43m(\u001b[49m\u001b[43margs\u001b[49m\u001b[43m)\u001b[49m\n\u001b[1;32m   1323\u001b[0m forward_backward \u001b[38;5;241m=\u001b[39m \u001b[38;5;28mself\u001b[39m\u001b[38;5;241m.\u001b[39m_select_forward_and_backward_functions(\n\u001b[1;32m   1324\u001b[0m     args,\n\u001b[1;32m   1325\u001b[0m     possible_gradient_type,\n\u001b[1;32m   1326\u001b[0m     executing_eagerly)\n\u001b[1;32m   1327\u001b[0m forward_function, args_with_tangents \u001b[38;5;241m=\u001b[39m forward_backward\u001b[38;5;241m.\u001b[39mforward()\n",
            "File \u001b[0;32m~/.python/current/lib/python3.10/site-packages/tensorflow/python/eager/polymorphic_function/atomic_function.py:216\u001b[0m, in \u001b[0;36mAtomicFunction.call_preflattened\u001b[0;34m(self, args)\u001b[0m\n\u001b[1;32m    214\u001b[0m \u001b[38;5;28;01mdef\u001b[39;00m \u001b[38;5;21mcall_preflattened\u001b[39m(\u001b[38;5;28mself\u001b[39m, args: Sequence[core\u001b[38;5;241m.\u001b[39mTensor]) \u001b[38;5;241m-\u001b[39m\u001b[38;5;241m>\u001b[39m Any:\n\u001b[1;32m    215\u001b[0m \u001b[38;5;250m  \u001b[39m\u001b[38;5;124;03m\"\"\"Calls with flattened tensor inputs and returns the structured output.\"\"\"\u001b[39;00m\n\u001b[0;32m--> 216\u001b[0m   flat_outputs \u001b[38;5;241m=\u001b[39m \u001b[38;5;28;43mself\u001b[39;49m\u001b[38;5;241;43m.\u001b[39;49m\u001b[43mcall_flat\u001b[49m\u001b[43m(\u001b[49m\u001b[38;5;241;43m*\u001b[39;49m\u001b[43margs\u001b[49m\u001b[43m)\u001b[49m\n\u001b[1;32m    217\u001b[0m   \u001b[38;5;28;01mreturn\u001b[39;00m \u001b[38;5;28mself\u001b[39m\u001b[38;5;241m.\u001b[39mfunction_type\u001b[38;5;241m.\u001b[39mpack_output(flat_outputs)\n",
            "File \u001b[0;32m~/.python/current/lib/python3.10/site-packages/tensorflow/python/eager/polymorphic_function/atomic_function.py:251\u001b[0m, in \u001b[0;36mAtomicFunction.call_flat\u001b[0;34m(self, *args)\u001b[0m\n\u001b[1;32m    249\u001b[0m \u001b[38;5;28;01mwith\u001b[39;00m record\u001b[38;5;241m.\u001b[39mstop_recording():\n\u001b[1;32m    250\u001b[0m   \u001b[38;5;28;01mif\u001b[39;00m \u001b[38;5;28mself\u001b[39m\u001b[38;5;241m.\u001b[39m_bound_context\u001b[38;5;241m.\u001b[39mexecuting_eagerly():\n\u001b[0;32m--> 251\u001b[0m     outputs \u001b[38;5;241m=\u001b[39m \u001b[38;5;28;43mself\u001b[39;49m\u001b[38;5;241;43m.\u001b[39;49m\u001b[43m_bound_context\u001b[49m\u001b[38;5;241;43m.\u001b[39;49m\u001b[43mcall_function\u001b[49m\u001b[43m(\u001b[49m\n\u001b[1;32m    252\u001b[0m \u001b[43m        \u001b[49m\u001b[38;5;28;43mself\u001b[39;49m\u001b[38;5;241;43m.\u001b[39;49m\u001b[43mname\u001b[49m\u001b[43m,\u001b[49m\n\u001b[1;32m    253\u001b[0m \u001b[43m        \u001b[49m\u001b[38;5;28;43mlist\u001b[39;49m\u001b[43m(\u001b[49m\u001b[43margs\u001b[49m\u001b[43m)\u001b[49m\u001b[43m,\u001b[49m\n\u001b[1;32m    254\u001b[0m \u001b[43m        \u001b[49m\u001b[38;5;28;43mlen\u001b[39;49m\u001b[43m(\u001b[49m\u001b[38;5;28;43mself\u001b[39;49m\u001b[38;5;241;43m.\u001b[39;49m\u001b[43mfunction_type\u001b[49m\u001b[38;5;241;43m.\u001b[39;49m\u001b[43mflat_outputs\u001b[49m\u001b[43m)\u001b[49m\u001b[43m,\u001b[49m\n\u001b[1;32m    255\u001b[0m \u001b[43m    \u001b[49m\u001b[43m)\u001b[49m\n\u001b[1;32m    256\u001b[0m   \u001b[38;5;28;01melse\u001b[39;00m:\n\u001b[1;32m    257\u001b[0m     outputs \u001b[38;5;241m=\u001b[39m make_call_op_in_graph(\n\u001b[1;32m    258\u001b[0m         \u001b[38;5;28mself\u001b[39m,\n\u001b[1;32m    259\u001b[0m         \u001b[38;5;28mlist\u001b[39m(args),\n\u001b[1;32m    260\u001b[0m         \u001b[38;5;28mself\u001b[39m\u001b[38;5;241m.\u001b[39m_bound_context\u001b[38;5;241m.\u001b[39mfunction_call_options\u001b[38;5;241m.\u001b[39mas_attrs(),\n\u001b[1;32m    261\u001b[0m     )\n",
            "File \u001b[0;32m~/.python/current/lib/python3.10/site-packages/tensorflow/python/eager/context.py:1500\u001b[0m, in \u001b[0;36mContext.call_function\u001b[0;34m(self, name, tensor_inputs, num_outputs)\u001b[0m\n\u001b[1;32m   1498\u001b[0m cancellation_context \u001b[38;5;241m=\u001b[39m cancellation\u001b[38;5;241m.\u001b[39mcontext()\n\u001b[1;32m   1499\u001b[0m \u001b[38;5;28;01mif\u001b[39;00m cancellation_context \u001b[38;5;129;01mis\u001b[39;00m \u001b[38;5;28;01mNone\u001b[39;00m:\n\u001b[0;32m-> 1500\u001b[0m   outputs \u001b[38;5;241m=\u001b[39m \u001b[43mexecute\u001b[49m\u001b[38;5;241;43m.\u001b[39;49m\u001b[43mexecute\u001b[49m\u001b[43m(\u001b[49m\n\u001b[1;32m   1501\u001b[0m \u001b[43m      \u001b[49m\u001b[43mname\u001b[49m\u001b[38;5;241;43m.\u001b[39;49m\u001b[43mdecode\u001b[49m\u001b[43m(\u001b[49m\u001b[38;5;124;43m\"\u001b[39;49m\u001b[38;5;124;43mutf-8\u001b[39;49m\u001b[38;5;124;43m\"\u001b[39;49m\u001b[43m)\u001b[49m\u001b[43m,\u001b[49m\n\u001b[1;32m   1502\u001b[0m \u001b[43m      \u001b[49m\u001b[43mnum_outputs\u001b[49m\u001b[38;5;241;43m=\u001b[39;49m\u001b[43mnum_outputs\u001b[49m\u001b[43m,\u001b[49m\n\u001b[1;32m   1503\u001b[0m \u001b[43m      \u001b[49m\u001b[43minputs\u001b[49m\u001b[38;5;241;43m=\u001b[39;49m\u001b[43mtensor_inputs\u001b[49m\u001b[43m,\u001b[49m\n\u001b[1;32m   1504\u001b[0m \u001b[43m      \u001b[49m\u001b[43mattrs\u001b[49m\u001b[38;5;241;43m=\u001b[39;49m\u001b[43mattrs\u001b[49m\u001b[43m,\u001b[49m\n\u001b[1;32m   1505\u001b[0m \u001b[43m      \u001b[49m\u001b[43mctx\u001b[49m\u001b[38;5;241;43m=\u001b[39;49m\u001b[38;5;28;43mself\u001b[39;49m\u001b[43m,\u001b[49m\n\u001b[1;32m   1506\u001b[0m \u001b[43m  \u001b[49m\u001b[43m)\u001b[49m\n\u001b[1;32m   1507\u001b[0m \u001b[38;5;28;01melse\u001b[39;00m:\n\u001b[1;32m   1508\u001b[0m   outputs \u001b[38;5;241m=\u001b[39m execute\u001b[38;5;241m.\u001b[39mexecute_with_cancellation(\n\u001b[1;32m   1509\u001b[0m       name\u001b[38;5;241m.\u001b[39mdecode(\u001b[38;5;124m\"\u001b[39m\u001b[38;5;124mutf-8\u001b[39m\u001b[38;5;124m\"\u001b[39m),\n\u001b[1;32m   1510\u001b[0m       num_outputs\u001b[38;5;241m=\u001b[39mnum_outputs,\n\u001b[0;32m   (...)\u001b[0m\n\u001b[1;32m   1514\u001b[0m       cancellation_manager\u001b[38;5;241m=\u001b[39mcancellation_context,\n\u001b[1;32m   1515\u001b[0m   )\n",
            "File \u001b[0;32m~/.python/current/lib/python3.10/site-packages/tensorflow/python/eager/execute.py:53\u001b[0m, in \u001b[0;36mquick_execute\u001b[0;34m(op_name, num_outputs, inputs, attrs, ctx, name)\u001b[0m\n\u001b[1;32m     51\u001b[0m \u001b[38;5;28;01mtry\u001b[39;00m:\n\u001b[1;32m     52\u001b[0m   ctx\u001b[38;5;241m.\u001b[39mensure_initialized()\n\u001b[0;32m---> 53\u001b[0m   tensors \u001b[38;5;241m=\u001b[39m \u001b[43mpywrap_tfe\u001b[49m\u001b[38;5;241;43m.\u001b[39;49m\u001b[43mTFE_Py_Execute\u001b[49m\u001b[43m(\u001b[49m\u001b[43mctx\u001b[49m\u001b[38;5;241;43m.\u001b[39;49m\u001b[43m_handle\u001b[49m\u001b[43m,\u001b[49m\u001b[43m \u001b[49m\u001b[43mdevice_name\u001b[49m\u001b[43m,\u001b[49m\u001b[43m \u001b[49m\u001b[43mop_name\u001b[49m\u001b[43m,\u001b[49m\n\u001b[1;32m     54\u001b[0m \u001b[43m                                      \u001b[49m\u001b[43minputs\u001b[49m\u001b[43m,\u001b[49m\u001b[43m \u001b[49m\u001b[43mattrs\u001b[49m\u001b[43m,\u001b[49m\u001b[43m \u001b[49m\u001b[43mnum_outputs\u001b[49m\u001b[43m)\u001b[49m\n\u001b[1;32m     55\u001b[0m \u001b[38;5;28;01mexcept\u001b[39;00m core\u001b[38;5;241m.\u001b[39m_NotOkStatusException \u001b[38;5;28;01mas\u001b[39;00m e:\n\u001b[1;32m     56\u001b[0m   \u001b[38;5;28;01mif\u001b[39;00m name \u001b[38;5;129;01mis\u001b[39;00m \u001b[38;5;129;01mnot\u001b[39;00m \u001b[38;5;28;01mNone\u001b[39;00m:\n",
            "\u001b[0;31mKeyboardInterrupt\u001b[0m: "
          ]
        }
      ],
      "source": [
        "# Generate ResNet50V2 model.\n",
        "from tensorflow.keras.applications import ResNet50V2\n",
        "\n",
        "EPOCHS = 100\n",
        "BATCH_SIZE = 64\n",
        "\n",
        "# Load the ResNet50V2 model\n",
        "model = ResNet50V2(weights='imagenet', include_top=False, input_shape=(32, 32, 3))\n",
        "\n",
        "# Freeze the layers\n",
        "for layer in model.layers:\n",
        "    layer.trainable = False\n",
        "\n",
        "# Add new classifier layers\n",
        "flat1 = Flatten()(model.layers[-1].output)\n",
        "class1 = Dense(128, activation='relu', kernel_initializer='he_uniform')(flat1)\n",
        "output = Dense(nClasses, activation='softmax')(class1)\n",
        "\n",
        "# Define the model\n",
        "model = keras.Model(inputs=model.inputs, outputs=output)\n",
        "\n",
        "# Compile the model\n",
        "optimizer = SGD(learning_rate=0.01)\n",
        "model.compile(optimizer=optimizer, loss='categorical_crossentropy', metrics=['accuracy'])\n",
        "\n",
        "# Train the model\n",
        "history = model.fit(x_train, y_train, validation_data=(x_test, y_test), epochs=EPOCHS, batch_size=BATCH_SIZE)\n",
        "\n",
        "summarize_diagnostics(history)"
      ]
    },
    {
      "cell_type": "markdown",
      "metadata": {
        "id": "IS8DWaLPPcj0"
      },
      "source": [
        "---"
      ]
    },
    {
      "cell_type": "markdown",
      "metadata": {
        "id": "KYXhcsSDJMWY"
      },
      "source": [
        "## Project Task 3: Model Evaluation\n",
        "\n",
        "__Question__\n",
        "\n",
        "Evaluate the trained model’s performance on a separate validation set and fine-tune its hyperparameters to optimize performance further. (3 marks)\n",
        "\n",
        "\n",
        "__Answer__\n",
        "\n",
        "<u>I have chosen The Regularization Techniques</u>\n",
        "\n",
        "There are many regularization techniques I could try, however, I have perform 3 techniques. They are Early Stopping, Dropout Regularization, Batch Normalization, and Data Aungmention. Those techniques were performed to develop model performance.\n"
      ]
    },
    {
      "cell_type": "markdown",
      "metadata": {
        "id": "kmwsRrBSRGRE"
      },
      "source": [
        "### **3.1 Early Stopping**\n",
        "\n",
        "Early stopping prevents overfitting and improves generalization performance in machine learning. During training, the model's performance is monitored on a validation set. If the performance stops improving, training is stopped early. The best model parameters are selected for making predictions on new data."
      ]
    },
    {
      "cell_type": "code",
      "execution_count": null,
      "metadata": {
        "id": "ZBZPMlDXvWZ3"
      },
      "outputs": [],
      "source": [
        "# Define early stopping callback when overfitting occurs.\n",
        "early_stopping = EarlyStopping(monitor='val_loss', patience=10, verbose=1, mode=\"min\")"
      ]
    },
    {
      "cell_type": "markdown",
      "metadata": {
        "id": "c4rCS0TOvlJ0"
      },
      "source": [
        "---"
      ]
    },
    {
      "cell_type": "markdown",
      "metadata": {
        "id": "8TalRzyPQ0zw"
      },
      "source": [
        "### **3.2 Dropout Regularization**\n",
        "\n",
        "Dropout is a simple technique that will randomly drop nodes out of the network. It has a regularizing effect as the remaining nodes must adapt to pick-up the slack of the removed nodes.\n",
        "\n",
        "A Gentle Introduction to Dropout for Regularizing Deep Neural Networks\n",
        "Dropout can be added to the model by adding new Dropout layers, where the amount of nodes removed is specified as a parameter. There are many patterns for adding Dropout to a model, in terms of where in the model to add the layers and how much dropout to use.\n",
        "\n",
        "In this case, I will add Dropout layers after each max pooling layer and after the fully connected layer, and use a fixed dropout rate of 20% (e.g. retain 80% of the nodes).\n",
        "\n",
        "The updated VGG 3 baseline model with dropout is listed below."
      ]
    },
    {
      "cell_type": "code",
      "execution_count": null,
      "metadata": {
        "id": "ulScVhL9RMdF"
      },
      "outputs": [],
      "source": [
        "# define cnn model\n",
        "def define_dropout_model():\n",
        "  model = Sequential()\n",
        "  model.add(Conv2D(32, (3, 3), activation='relu', kernel_initializer='he_uniform', padding='same', input_shape=(32, 32, 3)))\n",
        "  model.add(Conv2D(32, (3, 3), activation='relu', kernel_initializer='he_uniform', padding='same'))\n",
        "  model.add(MaxPooling2D((2, 2)))\n",
        "  model.add(Dropout(0.2))\n",
        "  model.add(Conv2D(64, (3, 3), activation='relu', kernel_initializer='he_uniform', padding='same'))\n",
        "  model.add(Conv2D(64, (3, 3), activation='relu', kernel_initializer='he_uniform', padding='same'))\n",
        "  model.add(MaxPooling2D((2, 2)))\n",
        "  model.add(Dropout(0.2))\n",
        "  model.add(Conv2D(128, (3, 3), activation='relu', kernel_initializer='he_uniform', padding='same'))\n",
        "  model.add(Conv2D(128, (3, 3), activation='relu', kernel_initializer='he_uniform', padding='same'))\n",
        "  model.add(MaxPooling2D((2, 2)))\n",
        "  model.add(Dropout(0.2))\n",
        "  model.add(Flatten())\n",
        "  model.add(Dense(128, activation='relu', kernel_initializer='he_uniform'))\n",
        "  model.add(Dropout(0.2))\n",
        "  model.add(Dense(10, activation='softmax'))\n",
        "  # compile model\n",
        "  opt = SGD(learning_rate=0.001, momentum=0.9)\n",
        "  model.compile(optimizer=opt, loss='categorical_crossentropy', metrics=['accuracy'])\n",
        "  return model"
      ]
    },
    {
      "cell_type": "markdown",
      "metadata": {
        "id": "Y2vPNBD4Zl9i"
      },
      "source": [
        "Model summary"
      ]
    },
    {
      "cell_type": "code",
      "execution_count": null,
      "metadata": {
        "colab": {
          "base_uri": "https://localhost:8080/"
        },
        "id": "MNHheBxeZlwf",
        "outputId": "9c0003f5-6f6a-410b-81dc-ab98d39f9016"
      },
      "outputs": [
        {
          "name": "stdout",
          "output_type": "stream",
          "text": [
            "Model: \"sequential_1\"\n",
            "_________________________________________________________________\n",
            " Layer (type)                Output Shape              Param #   \n",
            "=================================================================\n",
            " conv2d_6 (Conv2D)           (None, 32, 32, 32)        896       \n",
            "                                                                 \n",
            " conv2d_7 (Conv2D)           (None, 32, 32, 32)        9248      \n",
            "                                                                 \n",
            " max_pooling2d_3 (MaxPoolin  (None, 16, 16, 32)        0         \n",
            " g2D)                                                            \n",
            "                                                                 \n",
            " dropout (Dropout)           (None, 16, 16, 32)        0         \n",
            "                                                                 \n",
            " conv2d_8 (Conv2D)           (None, 16, 16, 64)        18496     \n",
            "                                                                 \n",
            " conv2d_9 (Conv2D)           (None, 16, 16, 64)        36928     \n",
            "                                                                 \n",
            " max_pooling2d_4 (MaxPoolin  (None, 8, 8, 64)          0         \n",
            " g2D)                                                            \n",
            "                                                                 \n",
            " dropout_1 (Dropout)         (None, 8, 8, 64)          0         \n",
            "                                                                 \n",
            " conv2d_10 (Conv2D)          (None, 8, 8, 128)         73856     \n",
            "                                                                 \n",
            " conv2d_11 (Conv2D)          (None, 8, 8, 128)         147584    \n",
            "                                                                 \n",
            " max_pooling2d_5 (MaxPoolin  (None, 4, 4, 128)         0         \n",
            " g2D)                                                            \n",
            "                                                                 \n",
            " dropout_2 (Dropout)         (None, 4, 4, 128)         0         \n",
            "                                                                 \n",
            " flatten_1 (Flatten)         (None, 2048)              0         \n",
            "                                                                 \n",
            " dense_2 (Dense)             (None, 128)               262272    \n",
            "                                                                 \n",
            " dropout_3 (Dropout)         (None, 128)               0         \n",
            "                                                                 \n",
            " dense_3 (Dense)             (None, 10)                1290      \n",
            "                                                                 \n",
            "=================================================================\n",
            "Total params: 550570 (2.10 MB)\n",
            "Trainable params: 550570 (2.10 MB)\n",
            "Non-trainable params: 0 (0.00 Byte)\n",
            "_________________________________________________________________\n"
          ]
        }
      ],
      "source": [
        "model = define_dropout_model()\n",
        "model.summary()"
      ]
    },
    {
      "cell_type": "markdown",
      "metadata": {
        "id": "0DnyW1w5Ru08"
      },
      "source": [
        "Then, Train Model after adding Dropout."
      ]
    },
    {
      "cell_type": "code",
      "execution_count": null,
      "metadata": {
        "colab": {
          "base_uri": "https://localhost:8080/"
        },
        "id": "ujaswIVrRy-z",
        "outputId": "660f43c6-a7ed-498f-b6ba-57220828c249"
      },
      "outputs": [
        {
          "name": "stdout",
          "output_type": "stream",
          "text": [
            "Epoch 1/100\n",
            "782/782 [==============================] - 8s 6ms/step - loss: 2.1824 - accuracy: 0.1808 - val_loss: 2.0198 - val_accuracy: 0.2748\n",
            "Epoch 2/100\n",
            "782/782 [==============================] - 4s 5ms/step - loss: 1.8290 - accuracy: 0.3329 - val_loss: 1.5933 - val_accuracy: 0.4301\n",
            "Epoch 3/100\n",
            "782/782 [==============================] - 4s 5ms/step - loss: 1.6244 - accuracy: 0.4062 - val_loss: 1.5058 - val_accuracy: 0.4682\n",
            "Epoch 4/100\n",
            "782/782 [==============================] - 4s 5ms/step - loss: 1.5158 - accuracy: 0.4466 - val_loss: 1.4494 - val_accuracy: 0.4798\n",
            "Epoch 5/100\n",
            "782/782 [==============================] - 4s 5ms/step - loss: 1.4378 - accuracy: 0.4770 - val_loss: 1.3562 - val_accuracy: 0.5058\n",
            "Epoch 6/100\n",
            "782/782 [==============================] - 4s 5ms/step - loss: 1.3758 - accuracy: 0.5014 - val_loss: 1.2620 - val_accuracy: 0.5473\n",
            "Epoch 7/100\n",
            "782/782 [==============================] - 4s 5ms/step - loss: 1.3177 - accuracy: 0.5248 - val_loss: 1.2397 - val_accuracy: 0.5527\n",
            "Epoch 8/100\n",
            "782/782 [==============================] - 4s 5ms/step - loss: 1.2677 - accuracy: 0.5457 - val_loss: 1.1683 - val_accuracy: 0.5887\n",
            "Epoch 9/100\n",
            "782/782 [==============================] - 4s 5ms/step - loss: 1.2164 - accuracy: 0.5651 - val_loss: 1.1233 - val_accuracy: 0.5988\n",
            "Epoch 10/100\n",
            "782/782 [==============================] - 4s 5ms/step - loss: 1.1711 - accuracy: 0.5810 - val_loss: 1.0777 - val_accuracy: 0.6192\n",
            "Epoch 11/100\n",
            "782/782 [==============================] - 4s 5ms/step - loss: 1.1248 - accuracy: 0.6004 - val_loss: 1.0335 - val_accuracy: 0.6342\n",
            "Epoch 12/100\n",
            "782/782 [==============================] - 4s 5ms/step - loss: 1.0839 - accuracy: 0.6139 - val_loss: 0.9692 - val_accuracy: 0.6586\n",
            "Epoch 13/100\n",
            "782/782 [==============================] - 4s 5ms/step - loss: 1.0507 - accuracy: 0.6262 - val_loss: 0.9820 - val_accuracy: 0.6538\n",
            "Epoch 14/100\n",
            "782/782 [==============================] - 4s 5ms/step - loss: 1.0180 - accuracy: 0.6365 - val_loss: 0.9320 - val_accuracy: 0.6711\n",
            "Epoch 15/100\n",
            "782/782 [==============================] - 4s 5ms/step - loss: 0.9836 - accuracy: 0.6509 - val_loss: 0.9273 - val_accuracy: 0.6674\n",
            "Epoch 16/100\n",
            "782/782 [==============================] - 4s 5ms/step - loss: 0.9549 - accuracy: 0.6620 - val_loss: 0.9121 - val_accuracy: 0.6776\n",
            "Epoch 17/100\n",
            "782/782 [==============================] - 4s 5ms/step - loss: 0.9300 - accuracy: 0.6711 - val_loss: 0.8900 - val_accuracy: 0.6854\n",
            "Epoch 18/100\n",
            "782/782 [==============================] - 4s 5ms/step - loss: 0.9053 - accuracy: 0.6802 - val_loss: 0.8364 - val_accuracy: 0.7024\n",
            "Epoch 19/100\n",
            "782/782 [==============================] - 4s 5ms/step - loss: 0.8837 - accuracy: 0.6871 - val_loss: 0.8568 - val_accuracy: 0.6973\n",
            "Epoch 20/100\n",
            "782/782 [==============================] - 4s 5ms/step - loss: 0.8630 - accuracy: 0.6945 - val_loss: 0.8058 - val_accuracy: 0.7139\n",
            "Epoch 21/100\n",
            "782/782 [==============================] - 4s 5ms/step - loss: 0.8428 - accuracy: 0.7050 - val_loss: 0.7966 - val_accuracy: 0.7217\n",
            "Epoch 22/100\n",
            "782/782 [==============================] - 4s 5ms/step - loss: 0.8263 - accuracy: 0.7087 - val_loss: 0.7635 - val_accuracy: 0.7277\n",
            "Epoch 23/100\n",
            "782/782 [==============================] - 4s 5ms/step - loss: 0.8065 - accuracy: 0.7159 - val_loss: 0.7726 - val_accuracy: 0.7245\n",
            "Epoch 24/100\n",
            "782/782 [==============================] - 4s 5ms/step - loss: 0.7878 - accuracy: 0.7218 - val_loss: 0.7376 - val_accuracy: 0.7385\n",
            "Epoch 25/100\n",
            "782/782 [==============================] - 4s 5ms/step - loss: 0.7726 - accuracy: 0.7274 - val_loss: 0.7290 - val_accuracy: 0.7421\n",
            "Epoch 26/100\n",
            "782/782 [==============================] - 4s 5ms/step - loss: 0.7622 - accuracy: 0.7309 - val_loss: 0.7268 - val_accuracy: 0.7444\n",
            "Epoch 27/100\n",
            "782/782 [==============================] - 4s 5ms/step - loss: 0.7468 - accuracy: 0.7376 - val_loss: 0.7153 - val_accuracy: 0.7473\n",
            "Epoch 28/100\n",
            "782/782 [==============================] - 4s 5ms/step - loss: 0.7360 - accuracy: 0.7403 - val_loss: 0.7317 - val_accuracy: 0.7421\n",
            "Epoch 29/100\n",
            "782/782 [==============================] - 4s 5ms/step - loss: 0.7171 - accuracy: 0.7471 - val_loss: 0.7168 - val_accuracy: 0.7492\n",
            "Epoch 30/100\n",
            "782/782 [==============================] - 4s 5ms/step - loss: 0.7032 - accuracy: 0.7510 - val_loss: 0.7016 - val_accuracy: 0.7536\n",
            "Epoch 31/100\n",
            "782/782 [==============================] - 4s 5ms/step - loss: 0.6979 - accuracy: 0.7526 - val_loss: 0.6956 - val_accuracy: 0.7581\n",
            "Epoch 32/100\n",
            "782/782 [==============================] - 4s 5ms/step - loss: 0.6781 - accuracy: 0.7608 - val_loss: 0.6900 - val_accuracy: 0.7605\n",
            "Epoch 33/100\n",
            "782/782 [==============================] - 4s 5ms/step - loss: 0.6720 - accuracy: 0.7628 - val_loss: 0.6735 - val_accuracy: 0.7650\n",
            "Epoch 34/100\n",
            "782/782 [==============================] - 4s 5ms/step - loss: 0.6621 - accuracy: 0.7655 - val_loss: 0.7091 - val_accuracy: 0.7547\n",
            "Epoch 35/100\n",
            "782/782 [==============================] - 4s 5ms/step - loss: 0.6459 - accuracy: 0.7711 - val_loss: 0.6497 - val_accuracy: 0.7760\n",
            "Epoch 36/100\n",
            "782/782 [==============================] - 4s 5ms/step - loss: 0.6381 - accuracy: 0.7741 - val_loss: 0.6498 - val_accuracy: 0.7763\n",
            "Epoch 37/100\n",
            "782/782 [==============================] - 4s 5ms/step - loss: 0.6258 - accuracy: 0.7787 - val_loss: 0.6606 - val_accuracy: 0.7747\n",
            "Epoch 38/100\n",
            "782/782 [==============================] - 4s 5ms/step - loss: 0.6120 - accuracy: 0.7837 - val_loss: 0.6573 - val_accuracy: 0.7712\n",
            "Epoch 39/100\n",
            "782/782 [==============================] - 4s 5ms/step - loss: 0.6104 - accuracy: 0.7817 - val_loss: 0.6406 - val_accuracy: 0.7771\n",
            "Epoch 40/100\n",
            "782/782 [==============================] - 4s 6ms/step - loss: 0.5990 - accuracy: 0.7898 - val_loss: 0.6250 - val_accuracy: 0.7837\n",
            "Epoch 41/100\n",
            "782/782 [==============================] - 4s 5ms/step - loss: 0.5896 - accuracy: 0.7916 - val_loss: 0.6423 - val_accuracy: 0.7788\n",
            "Epoch 42/100\n",
            "782/782 [==============================] - 4s 5ms/step - loss: 0.5795 - accuracy: 0.7954 - val_loss: 0.6132 - val_accuracy: 0.7891\n",
            "Epoch 43/100\n",
            "782/782 [==============================] - 4s 5ms/step - loss: 0.5740 - accuracy: 0.7963 - val_loss: 0.6266 - val_accuracy: 0.7864\n",
            "Epoch 44/100\n",
            "782/782 [==============================] - 4s 5ms/step - loss: 0.5637 - accuracy: 0.8009 - val_loss: 0.6054 - val_accuracy: 0.7912\n",
            "Epoch 45/100\n",
            "782/782 [==============================] - 4s 5ms/step - loss: 0.5527 - accuracy: 0.8044 - val_loss: 0.6340 - val_accuracy: 0.7855\n",
            "Epoch 46/100\n",
            "782/782 [==============================] - 4s 5ms/step - loss: 0.5507 - accuracy: 0.8042 - val_loss: 0.6056 - val_accuracy: 0.7903\n",
            "Epoch 47/100\n",
            "782/782 [==============================] - 4s 5ms/step - loss: 0.5403 - accuracy: 0.8086 - val_loss: 0.6026 - val_accuracy: 0.7966\n",
            "Epoch 48/100\n",
            "782/782 [==============================] - 4s 5ms/step - loss: 0.5323 - accuracy: 0.8118 - val_loss: 0.6008 - val_accuracy: 0.7949\n",
            "Epoch 49/100\n",
            "782/782 [==============================] - 4s 6ms/step - loss: 0.5266 - accuracy: 0.8119 - val_loss: 0.5929 - val_accuracy: 0.7966\n",
            "Epoch 50/100\n",
            "782/782 [==============================] - 4s 6ms/step - loss: 0.5153 - accuracy: 0.8181 - val_loss: 0.6274 - val_accuracy: 0.7890\n",
            "Epoch 51/100\n",
            "782/782 [==============================] - 4s 6ms/step - loss: 0.5078 - accuracy: 0.8202 - val_loss: 0.5895 - val_accuracy: 0.7968\n",
            "Epoch 52/100\n",
            "782/782 [==============================] - 4s 5ms/step - loss: 0.5041 - accuracy: 0.8217 - val_loss: 0.5896 - val_accuracy: 0.7981\n",
            "Epoch 53/100\n",
            "782/782 [==============================] - 4s 5ms/step - loss: 0.4912 - accuracy: 0.8243 - val_loss: 0.6157 - val_accuracy: 0.7924\n",
            "Epoch 54/100\n",
            "782/782 [==============================] - 4s 5ms/step - loss: 0.4901 - accuracy: 0.8253 - val_loss: 0.5900 - val_accuracy: 0.7993\n",
            "Epoch 55/100\n",
            "782/782 [==============================] - 4s 5ms/step - loss: 0.4788 - accuracy: 0.8305 - val_loss: 0.6201 - val_accuracy: 0.7918\n",
            "Epoch 56/100\n",
            "782/782 [==============================] - 4s 5ms/step - loss: 0.4780 - accuracy: 0.8295 - val_loss: 0.5956 - val_accuracy: 0.8019\n",
            "Epoch 57/100\n",
            "782/782 [==============================] - 4s 5ms/step - loss: 0.4716 - accuracy: 0.8311 - val_loss: 0.5833 - val_accuracy: 0.7993\n",
            "Epoch 58/100\n",
            "782/782 [==============================] - 4s 5ms/step - loss: 0.4628 - accuracy: 0.8347 - val_loss: 0.6195 - val_accuracy: 0.7946\n",
            "Epoch 59/100\n",
            "782/782 [==============================] - 4s 5ms/step - loss: 0.4516 - accuracy: 0.8392 - val_loss: 0.5918 - val_accuracy: 0.8034\n",
            "Epoch 60/100\n",
            "782/782 [==============================] - 4s 5ms/step - loss: 0.4472 - accuracy: 0.8396 - val_loss: 0.6102 - val_accuracy: 0.7985\n",
            "Epoch 61/100\n",
            "782/782 [==============================] - 4s 5ms/step - loss: 0.4433 - accuracy: 0.8422 - val_loss: 0.5977 - val_accuracy: 0.8021\n",
            "Epoch 62/100\n",
            "782/782 [==============================] - 4s 5ms/step - loss: 0.4373 - accuracy: 0.8444 - val_loss: 0.5697 - val_accuracy: 0.8092\n",
            "Epoch 63/100\n",
            "782/782 [==============================] - 4s 5ms/step - loss: 0.4315 - accuracy: 0.8458 - val_loss: 0.5980 - val_accuracy: 0.8040\n",
            "Epoch 64/100\n",
            "782/782 [==============================] - 4s 5ms/step - loss: 0.4268 - accuracy: 0.8477 - val_loss: 0.5699 - val_accuracy: 0.8119\n",
            "Epoch 65/100\n",
            "782/782 [==============================] - 4s 5ms/step - loss: 0.4218 - accuracy: 0.8505 - val_loss: 0.5824 - val_accuracy: 0.8081\n",
            "Epoch 66/100\n",
            "782/782 [==============================] - 4s 5ms/step - loss: 0.4183 - accuracy: 0.8495 - val_loss: 0.5757 - val_accuracy: 0.8086\n",
            "Epoch 67/100\n",
            "782/782 [==============================] - 4s 5ms/step - loss: 0.4051 - accuracy: 0.8542 - val_loss: 0.5726 - val_accuracy: 0.8119\n",
            "Epoch 68/100\n",
            "782/782 [==============================] - 4s 5ms/step - loss: 0.4016 - accuracy: 0.8544 - val_loss: 0.5982 - val_accuracy: 0.8054\n",
            "Epoch 69/100\n",
            "782/782 [==============================] - 4s 5ms/step - loss: 0.3965 - accuracy: 0.8581 - val_loss: 0.5687 - val_accuracy: 0.8120\n",
            "Epoch 70/100\n",
            "782/782 [==============================] - 4s 5ms/step - loss: 0.3959 - accuracy: 0.8579 - val_loss: 0.5760 - val_accuracy: 0.8123\n",
            "Epoch 71/100\n",
            "782/782 [==============================] - 4s 5ms/step - loss: 0.3907 - accuracy: 0.8574 - val_loss: 0.5578 - val_accuracy: 0.8146\n",
            "Epoch 72/100\n",
            "782/782 [==============================] - 4s 5ms/step - loss: 0.3835 - accuracy: 0.8621 - val_loss: 0.5676 - val_accuracy: 0.8139\n",
            "Epoch 73/100\n",
            "782/782 [==============================] - 4s 5ms/step - loss: 0.3785 - accuracy: 0.8648 - val_loss: 0.5836 - val_accuracy: 0.8102\n",
            "Epoch 74/100\n",
            "782/782 [==============================] - 4s 5ms/step - loss: 0.3708 - accuracy: 0.8666 - val_loss: 0.5864 - val_accuracy: 0.8091\n",
            "Epoch 75/100\n",
            "782/782 [==============================] - 4s 5ms/step - loss: 0.3667 - accuracy: 0.8683 - val_loss: 0.5780 - val_accuracy: 0.8130\n",
            "Epoch 76/100\n",
            "782/782 [==============================] - 4s 5ms/step - loss: 0.3658 - accuracy: 0.8684 - val_loss: 0.5849 - val_accuracy: 0.8134\n",
            "Epoch 77/100\n",
            "782/782 [==============================] - 4s 5ms/step - loss: 0.3583 - accuracy: 0.8714 - val_loss: 0.5744 - val_accuracy: 0.8148\n",
            "Epoch 78/100\n",
            "782/782 [==============================] - 4s 5ms/step - loss: 0.3544 - accuracy: 0.8720 - val_loss: 0.5942 - val_accuracy: 0.8085\n",
            "Epoch 79/100\n",
            "782/782 [==============================] - 4s 5ms/step - loss: 0.3515 - accuracy: 0.8723 - val_loss: 0.5957 - val_accuracy: 0.8106\n",
            "Epoch 80/100\n",
            "782/782 [==============================] - 4s 5ms/step - loss: 0.3450 - accuracy: 0.8750 - val_loss: 0.5982 - val_accuracy: 0.8107\n",
            "Epoch 81/100\n",
            "782/782 [==============================] - 4s 5ms/step - loss: 0.3408 - accuracy: 0.8777 - val_loss: 0.6146 - val_accuracy: 0.8093\n",
            "Epoch 81: early stopping\n"
          ]
        }
      ],
      "source": [
        "# Train the model\n",
        "history = model.fit(x_train, y_train, validation_data=(x_test, y_test), epochs=EPOCHS, batch_size=BATCH_SIZE, callbacks=[early_stopping])"
      ]
    },
    {
      "cell_type": "markdown",
      "metadata": {
        "id": "8-qbiUHgR22M"
      },
      "source": [
        "Evaluate"
      ]
    },
    {
      "cell_type": "code",
      "execution_count": null,
      "metadata": {
        "colab": {
          "base_uri": "https://localhost:8080/",
          "height": 469
        },
        "id": "w6U3ZhWDR9UF",
        "outputId": "30a3c107-058e-4cad-f39a-b8e1d03f934a"
      },
      "outputs": [
        {
          "name": "stdout",
          "output_type": "stream",
          "text": [
            "> 80.930\n"
          ]
        },
        {
          "data": {
            "image/png": "[encoded data removed]",
            "text/plain": [
              "<Figure size 640x480 with 2 Axes>"
            ]
          },
          "metadata": {},
          "output_type": "display_data"
        }
      ],
      "source": [
        " _, acc = model.evaluate(x_test, y_test, verbose=0)\n",
        " print('> %.3f' % (acc * 100.0))\n",
        " # learning curves\n",
        " summarize_diagnostics(history)"
      ]
    },
    {
      "cell_type": "markdown",
      "metadata": {
        "id": "ciAB68bqvtWQ"
      },
      "source": [
        "The model reached early stopping after 86 epochs, but there is room for improvement by increasing the learning time."
      ]
    },
    {
      "cell_type": "markdown",
      "metadata": {
        "id": "JF11FvAXVbZG"
      },
      "source": [
        "-----"
      ]
    },
    {
      "cell_type": "markdown",
      "metadata": {
        "id": "zlR-Zg2FJMWZ"
      },
      "source": [
        "### **3.3 Incresing Dropout and Batch Normalization**\n",
        "\n",
        "Constant Dropout for 20% of testing is working pretty good. So it may be worth investigating variations of how dropout is applied to the model.\n",
        "\n",
        "One variation that might be interesting is to increase the amount of dropout from 20% to 25% or 30%. Another variation that might be interesting is using a pattern of increasing dropout from 20% for the first block, 30% for the second block, and so on to 50% at the fully connected layer in the classifier part of the model.\n",
        "\n",
        "This type of increasing dropout with the depth of the model is a common pattern. It is effective as it forces layers deep in the model to regularize more than layers closer to the input.\n",
        "\n",
        "On the other hand, The Batch normalization involves normalizing the activations of each layer to improve the training speed and stability. It is a simple but effective technique that can be used on the inputs to the layer before or after the activation function in the model.\n",
        "\n",
        "These are layer of improving into the Model."
      ]
    },
    {
      "cell_type": "code",
      "execution_count": null,
      "metadata": {
        "id": "JVl-eV-NJMWZ"
      },
      "outputs": [],
      "source": [
        "# Batch Normalization\n",
        "def define_model_drop_n_batch():\n",
        "  model = Sequential()\n",
        "  model.add(Conv2D(32, (3, 3), activation='relu', kernel_initializer='he_uniform', padding='same', input_shape=(32, 32, 3)))\n",
        "  model.add(BatchNormalization())\n",
        "  model.add(Conv2D(32, (3, 3), activation='relu', kernel_initializer='he_uniform', padding='same'))\n",
        "  model.add(BatchNormalization())\n",
        "  model.add(MaxPooling2D((2, 2)))\n",
        "  model.add(Dropout(0.2))\n",
        "  model.add(Conv2D(64, (3, 3), activation='relu', kernel_initializer='he_uniform', padding='same'))\n",
        "  model.add(BatchNormalization())\n",
        "  model.add(Conv2D(64, (3, 3), activation='relu', kernel_initializer='he_uniform', padding='same'))\n",
        "  model.add(BatchNormalization())\n",
        "  model.add(MaxPooling2D((2, 2)))\n",
        "  model.add(Dropout(0.3))\n",
        "  model.add(Conv2D(128, (3, 3), activation='relu', kernel_initializer='he_uniform', padding='same'))\n",
        "  model.add(BatchNormalization())\n",
        "  model.add(Conv2D(128, (3, 3), activation='relu', kernel_initializer='he_uniform', padding='same'))\n",
        "  model.add(BatchNormalization())\n",
        "  model.add(MaxPooling2D((2, 2)))\n",
        "  model.add(Dropout(0.4))\n",
        "  model.add(Flatten())\n",
        "  model.add(Dense(128, activation='relu', kernel_initializer='he_uniform'))\n",
        "  model.add(BatchNormalization())\n",
        "  model.add(Dropout(0.5))\n",
        "  model.add(Dense(10, activation='softmax'))\n",
        "  # compile model\n",
        "  opt = SGD(learning_rate=0.001, momentum=0.9)\n",
        "  model.compile(optimizer=opt, loss='categorical_crossentropy', metrics=['accuracy'])\n",
        "  return model"
      ]
    },
    {
      "cell_type": "markdown",
      "metadata": {
        "id": "tzzKujETZwvR"
      },
      "source": [
        "Model Summary"
      ]
    },
    {
      "cell_type": "code",
      "execution_count": null,
      "metadata": {
        "colab": {
          "base_uri": "https://localhost:8080/"
        },
        "id": "9-AadrVbZy83",
        "outputId": "c3b5600d-6ee1-4b73-e3cc-7bfbd23e0a47"
      },
      "outputs": [
        {
          "name": "stdout",
          "output_type": "stream",
          "text": [
            "Model: \"sequential_5\"\n",
            "_________________________________________________________________\n",
            " Layer (type)                Output Shape              Param #   \n",
            "=================================================================\n",
            " conv2d_30 (Conv2D)          (None, 32, 32, 32)        896       \n",
            "                                                                 \n",
            " batch_normalization_21 (Ba  (None, 32, 32, 32)        128       \n",
            " tchNormalization)                                               \n",
            "                                                                 \n",
            " conv2d_31 (Conv2D)          (None, 32, 32, 32)        9248      \n",
            "                                                                 \n",
            " batch_normalization_22 (Ba  (None, 32, 32, 32)        128       \n",
            " tchNormalization)                                               \n",
            "                                                                 \n",
            " max_pooling2d_15 (MaxPooli  (None, 16, 16, 32)        0         \n",
            " ng2D)                                                           \n",
            "                                                                 \n",
            " dropout_16 (Dropout)        (None, 16, 16, 32)        0         \n",
            "                                                                 \n",
            " conv2d_32 (Conv2D)          (None, 16, 16, 64)        18496     \n",
            "                                                                 \n",
            " batch_normalization_23 (Ba  (None, 16, 16, 64)        256       \n",
            " tchNormalization)                                               \n",
            "                                                                 \n",
            " conv2d_33 (Conv2D)          (None, 16, 16, 64)        36928     \n",
            "                                                                 \n",
            " batch_normalization_24 (Ba  (None, 16, 16, 64)        256       \n",
            " tchNormalization)                                               \n",
            "                                                                 \n",
            " max_pooling2d_16 (MaxPooli  (None, 8, 8, 64)          0         \n",
            " ng2D)                                                           \n",
            "                                                                 \n",
            " dropout_17 (Dropout)        (None, 8, 8, 64)          0         \n",
            "                                                                 \n",
            " conv2d_34 (Conv2D)          (None, 8, 8, 128)         73856     \n",
            "                                                                 \n",
            " batch_normalization_25 (Ba  (None, 8, 8, 128)         512       \n",
            " tchNormalization)                                               \n",
            "                                                                 \n",
            " conv2d_35 (Conv2D)          (None, 8, 8, 128)         147584    \n",
            "                                                                 \n",
            " batch_normalization_26 (Ba  (None, 8, 8, 128)         512       \n",
            " tchNormalization)                                               \n",
            "                                                                 \n",
            " max_pooling2d_17 (MaxPooli  (None, 4, 4, 128)         0         \n",
            " ng2D)                                                           \n",
            "                                                                 \n",
            " dropout_18 (Dropout)        (None, 4, 4, 128)         0         \n",
            "                                                                 \n",
            " flatten_5 (Flatten)         (None, 2048)              0         \n",
            "                                                                 \n",
            " dense_10 (Dense)            (None, 128)               262272    \n",
            "                                                                 \n",
            " batch_normalization_27 (Ba  (None, 128)               512       \n",
            " tchNormalization)                                               \n",
            "                                                                 \n",
            " dropout_19 (Dropout)        (None, 128)               0         \n",
            "                                                                 \n",
            " dense_11 (Dense)            (None, 10)                1290      \n",
            "                                                                 \n",
            "=================================================================\n",
            "Total params: 552874 (2.11 MB)\n",
            "Trainable params: 551722 (2.10 MB)\n",
            "Non-trainable params: 1152 (4.50 KB)\n",
            "_________________________________________________________________\n"
          ]
        }
      ],
      "source": [
        "model = define_model_drop_n_batch()\n",
        "model.summary()"
      ]
    },
    {
      "cell_type": "markdown",
      "metadata": {
        "id": "Dy_2ZCWcWXKa"
      },
      "source": [
        "Train and Evaluate Model"
      ]
    },
    {
      "cell_type": "code",
      "execution_count": null,
      "metadata": {
        "colab": {
          "base_uri": "https://localhost:8080/"
        },
        "id": "mA08vq_KWfBZ",
        "outputId": "a52400f4-dec2-4035-be03-9c18c1846a0c"
      },
      "outputs": [
        {
          "name": "stdout",
          "output_type": "stream",
          "text": [
            "Epoch 1/100\n",
            "782/782 [==============================] - 9s 8ms/step - loss: 2.0532 - accuracy: 0.3228 - val_loss: 1.4759 - val_accuracy: 0.4579\n",
            "Epoch 2/100\n",
            "782/782 [==============================] - 6s 7ms/step - loss: 1.5277 - accuracy: 0.4447 - val_loss: 1.4848 - val_accuracy: 0.4565\n",
            "Epoch 3/100\n",
            "782/782 [==============================] - 6s 7ms/step - loss: 1.3813 - accuracy: 0.4999 - val_loss: 1.2914 - val_accuracy: 0.5212\n",
            "Epoch 4/100\n",
            "782/782 [==============================] - 6s 7ms/step - loss: 1.2867 - accuracy: 0.5360 - val_loss: 1.2724 - val_accuracy: 0.5351\n",
            "Epoch 5/100\n",
            "782/782 [==============================] - 6s 7ms/step - loss: 1.2176 - accuracy: 0.5618 - val_loss: 1.1765 - val_accuracy: 0.5684\n",
            "Epoch 6/100\n",
            "782/782 [==============================] - 6s 7ms/step - loss: 1.1664 - accuracy: 0.5811 - val_loss: 1.2840 - val_accuracy: 0.5383\n",
            "Epoch 7/100\n",
            "782/782 [==============================] - 6s 7ms/step - loss: 1.1257 - accuracy: 0.5986 - val_loss: 1.2810 - val_accuracy: 0.5449\n",
            "Epoch 8/100\n",
            "782/782 [==============================] - 6s 7ms/step - loss: 1.0814 - accuracy: 0.6142 - val_loss: 1.1250 - val_accuracy: 0.5931\n",
            "Epoch 9/100\n",
            "782/782 [==============================] - 6s 7ms/step - loss: 1.0461 - accuracy: 0.6264 - val_loss: 1.0268 - val_accuracy: 0.6296\n",
            "Epoch 10/100\n",
            "782/782 [==============================] - 6s 7ms/step - loss: 1.0164 - accuracy: 0.6399 - val_loss: 1.1091 - val_accuracy: 0.5987\n",
            "Epoch 11/100\n",
            "782/782 [==============================] - 6s 7ms/step - loss: 0.9898 - accuracy: 0.6491 - val_loss: 0.9658 - val_accuracy: 0.6528\n",
            "Epoch 12/100\n",
            "782/782 [==============================] - 6s 7ms/step - loss: 0.9638 - accuracy: 0.6577 - val_loss: 0.9541 - val_accuracy: 0.6587\n",
            "Epoch 13/100\n",
            "782/782 [==============================] - 6s 7ms/step - loss: 0.9381 - accuracy: 0.6680 - val_loss: 0.9166 - val_accuracy: 0.6720\n",
            "Epoch 14/100\n",
            "782/782 [==============================] - 6s 7ms/step - loss: 0.9176 - accuracy: 0.6747 - val_loss: 1.0209 - val_accuracy: 0.6325\n",
            "Epoch 15/100\n",
            "782/782 [==============================] - 6s 7ms/step - loss: 0.8978 - accuracy: 0.6839 - val_loss: 0.8981 - val_accuracy: 0.6798\n",
            "Epoch 16/100\n",
            "782/782 [==============================] - 6s 7ms/step - loss: 0.8771 - accuracy: 0.6915 - val_loss: 0.9207 - val_accuracy: 0.6755\n",
            "Epoch 17/100\n",
            "782/782 [==============================] - 6s 7ms/step - loss: 0.8604 - accuracy: 0.6947 - val_loss: 0.8545 - val_accuracy: 0.6944\n",
            "Epoch 18/100\n",
            "782/782 [==============================] - 6s 7ms/step - loss: 0.8487 - accuracy: 0.7000 - val_loss: 0.8575 - val_accuracy: 0.6995\n",
            "Epoch 19/100\n",
            "782/782 [==============================] - 6s 7ms/step - loss: 0.8310 - accuracy: 0.7055 - val_loss: 0.7936 - val_accuracy: 0.7187\n",
            "Epoch 20/100\n",
            "782/782 [==============================] - 6s 7ms/step - loss: 0.8142 - accuracy: 0.7129 - val_loss: 0.8473 - val_accuracy: 0.6990\n",
            "Epoch 21/100\n",
            "782/782 [==============================] - 6s 7ms/step - loss: 0.7990 - accuracy: 0.7190 - val_loss: 0.7971 - val_accuracy: 0.7155\n",
            "Epoch 22/100\n",
            "782/782 [==============================] - 6s 7ms/step - loss: 0.7852 - accuracy: 0.7262 - val_loss: 0.8512 - val_accuracy: 0.6975\n",
            "Epoch 23/100\n",
            "782/782 [==============================] - 6s 7ms/step - loss: 0.7774 - accuracy: 0.7265 - val_loss: 0.7914 - val_accuracy: 0.7234\n",
            "Epoch 24/100\n",
            "782/782 [==============================] - 6s 7ms/step - loss: 0.7560 - accuracy: 0.7337 - val_loss: 0.7650 - val_accuracy: 0.7293\n",
            "Epoch 25/100\n",
            "782/782 [==============================] - 6s 7ms/step - loss: 0.7504 - accuracy: 0.7385 - val_loss: 0.7712 - val_accuracy: 0.7328\n",
            "Epoch 26/100\n",
            "782/782 [==============================] - 6s 7ms/step - loss: 0.7430 - accuracy: 0.7388 - val_loss: 0.7442 - val_accuracy: 0.7419\n",
            "Epoch 27/100\n",
            "782/782 [==============================] - 6s 7ms/step - loss: 0.7317 - accuracy: 0.7427 - val_loss: 0.7252 - val_accuracy: 0.7407\n",
            "Epoch 28/100\n",
            "782/782 [==============================] - 6s 7ms/step - loss: 0.7245 - accuracy: 0.7470 - val_loss: 0.8344 - val_accuracy: 0.7085\n",
            "Epoch 29/100\n",
            "782/782 [==============================] - 6s 7ms/step - loss: 0.7121 - accuracy: 0.7505 - val_loss: 0.7055 - val_accuracy: 0.7545\n",
            "Epoch 30/100\n",
            "782/782 [==============================] - 6s 7ms/step - loss: 0.7011 - accuracy: 0.7531 - val_loss: 0.6935 - val_accuracy: 0.7554\n",
            "Epoch 31/100\n",
            "782/782 [==============================] - 6s 7ms/step - loss: 0.6918 - accuracy: 0.7586 - val_loss: 0.6869 - val_accuracy: 0.7623\n",
            "Epoch 32/100\n",
            "782/782 [==============================] - 6s 7ms/step - loss: 0.6883 - accuracy: 0.7598 - val_loss: 0.6706 - val_accuracy: 0.7646\n",
            "Epoch 33/100\n",
            "782/782 [==============================] - 6s 7ms/step - loss: 0.6766 - accuracy: 0.7618 - val_loss: 0.6491 - val_accuracy: 0.7748\n",
            "Epoch 34/100\n",
            "782/782 [==============================] - 6s 7ms/step - loss: 0.6683 - accuracy: 0.7662 - val_loss: 0.7212 - val_accuracy: 0.7503\n",
            "Epoch 35/100\n",
            "782/782 [==============================] - 6s 7ms/step - loss: 0.6549 - accuracy: 0.7705 - val_loss: 0.6340 - val_accuracy: 0.7740\n",
            "Epoch 36/100\n",
            "782/782 [==============================] - 6s 7ms/step - loss: 0.6544 - accuracy: 0.7697 - val_loss: 0.6882 - val_accuracy: 0.7594\n",
            "Epoch 37/100\n",
            "782/782 [==============================] - 6s 7ms/step - loss: 0.6446 - accuracy: 0.7732 - val_loss: 0.6585 - val_accuracy: 0.7691\n",
            "Epoch 38/100\n",
            "782/782 [==============================] - 6s 7ms/step - loss: 0.6376 - accuracy: 0.7783 - val_loss: 0.6462 - val_accuracy: 0.7777\n",
            "Epoch 39/100\n",
            "782/782 [==============================] - 6s 7ms/step - loss: 0.6331 - accuracy: 0.7795 - val_loss: 0.6237 - val_accuracy: 0.7836\n",
            "Epoch 40/100\n",
            "782/782 [==============================] - 6s 7ms/step - loss: 0.6303 - accuracy: 0.7803 - val_loss: 0.6299 - val_accuracy: 0.7806\n",
            "Epoch 41/100\n",
            "782/782 [==============================] - 6s 7ms/step - loss: 0.6153 - accuracy: 0.7845 - val_loss: 0.6495 - val_accuracy: 0.7736\n",
            "Epoch 42/100\n",
            "782/782 [==============================] - 6s 7ms/step - loss: 0.6116 - accuracy: 0.7839 - val_loss: 0.6789 - val_accuracy: 0.7648\n",
            "Epoch 43/100\n",
            "782/782 [==============================] - 6s 7ms/step - loss: 0.6058 - accuracy: 0.7885 - val_loss: 0.6988 - val_accuracy: 0.7577\n",
            "Epoch 44/100\n",
            "782/782 [==============================] - 6s 7ms/step - loss: 0.5985 - accuracy: 0.7904 - val_loss: 0.6003 - val_accuracy: 0.7890\n",
            "Epoch 45/100\n",
            "782/782 [==============================] - 6s 7ms/step - loss: 0.5943 - accuracy: 0.7925 - val_loss: 0.6680 - val_accuracy: 0.7717\n",
            "Epoch 46/100\n",
            "782/782 [==============================] - 6s 7ms/step - loss: 0.5871 - accuracy: 0.7948 - val_loss: 0.6079 - val_accuracy: 0.7876\n",
            "Epoch 47/100\n",
            "782/782 [==============================] - 6s 7ms/step - loss: 0.5818 - accuracy: 0.7994 - val_loss: 0.5678 - val_accuracy: 0.8024\n",
            "Epoch 48/100\n",
            "782/782 [==============================] - 6s 7ms/step - loss: 0.5733 - accuracy: 0.8016 - val_loss: 0.6085 - val_accuracy: 0.7876\n",
            "Epoch 49/100\n",
            "782/782 [==============================] - 6s 7ms/step - loss: 0.5660 - accuracy: 0.8015 - val_loss: 0.5804 - val_accuracy: 0.8041\n",
            "Epoch 50/100\n",
            "782/782 [==============================] - 6s 7ms/step - loss: 0.5614 - accuracy: 0.8033 - val_loss: 0.5853 - val_accuracy: 0.7982\n",
            "Epoch 51/100\n",
            "782/782 [==============================] - 6s 7ms/step - loss: 0.5540 - accuracy: 0.8071 - val_loss: 0.5953 - val_accuracy: 0.7942\n",
            "Epoch 52/100\n",
            "782/782 [==============================] - 6s 7ms/step - loss: 0.5499 - accuracy: 0.8075 - val_loss: 0.5981 - val_accuracy: 0.7939\n",
            "Epoch 53/100\n",
            "782/782 [==============================] - 6s 7ms/step - loss: 0.5464 - accuracy: 0.8097 - val_loss: 0.5630 - val_accuracy: 0.8063\n",
            "Epoch 54/100\n",
            "782/782 [==============================] - 6s 7ms/step - loss: 0.5408 - accuracy: 0.8113 - val_loss: 0.5695 - val_accuracy: 0.8001\n",
            "Epoch 55/100\n",
            "782/782 [==============================] - 6s 7ms/step - loss: 0.5331 - accuracy: 0.8133 - val_loss: 0.5724 - val_accuracy: 0.8056\n",
            "Epoch 56/100\n",
            "782/782 [==============================] - 6s 8ms/step - loss: 0.5304 - accuracy: 0.8151 - val_loss: 0.5686 - val_accuracy: 0.8022\n",
            "Epoch 57/100\n",
            "782/782 [==============================] - 6s 7ms/step - loss: 0.5257 - accuracy: 0.8164 - val_loss: 0.5642 - val_accuracy: 0.8085\n",
            "Epoch 58/100\n",
            "782/782 [==============================] - 6s 7ms/step - loss: 0.5170 - accuracy: 0.8192 - val_loss: 0.5807 - val_accuracy: 0.8021\n",
            "Epoch 59/100\n",
            "782/782 [==============================] - 6s 7ms/step - loss: 0.5212 - accuracy: 0.8192 - val_loss: 0.5984 - val_accuracy: 0.8000\n",
            "Epoch 60/100\n",
            "782/782 [==============================] - 6s 7ms/step - loss: 0.5124 - accuracy: 0.8213 - val_loss: 0.5515 - val_accuracy: 0.8091\n",
            "Epoch 61/100\n",
            "782/782 [==============================] - 6s 7ms/step - loss: 0.5014 - accuracy: 0.8251 - val_loss: 0.5616 - val_accuracy: 0.8066\n",
            "Epoch 62/100\n",
            "782/782 [==============================] - 6s 7ms/step - loss: 0.4981 - accuracy: 0.8277 - val_loss: 0.5240 - val_accuracy: 0.8237\n",
            "Epoch 63/100\n",
            "782/782 [==============================] - 6s 7ms/step - loss: 0.4947 - accuracy: 0.8268 - val_loss: 0.5909 - val_accuracy: 0.8014\n",
            "Epoch 64/100\n",
            "782/782 [==============================] - 6s 7ms/step - loss: 0.4884 - accuracy: 0.8299 - val_loss: 0.5523 - val_accuracy: 0.8161\n",
            "Epoch 65/100\n",
            "782/782 [==============================] - 6s 7ms/step - loss: 0.4841 - accuracy: 0.8310 - val_loss: 0.5182 - val_accuracy: 0.8221\n",
            "Epoch 66/100\n",
            "782/782 [==============================] - 6s 7ms/step - loss: 0.4881 - accuracy: 0.8298 - val_loss: 0.5486 - val_accuracy: 0.8113\n",
            "Epoch 67/100\n",
            "782/782 [==============================] - 6s 7ms/step - loss: 0.4816 - accuracy: 0.8323 - val_loss: 0.5295 - val_accuracy: 0.8193\n",
            "Epoch 68/100\n",
            "782/782 [==============================] - 6s 7ms/step - loss: 0.4745 - accuracy: 0.8351 - val_loss: 0.5227 - val_accuracy: 0.8228\n",
            "Epoch 69/100\n",
            "782/782 [==============================] - 6s 7ms/step - loss: 0.4718 - accuracy: 0.8367 - val_loss: 0.5329 - val_accuracy: 0.8170\n",
            "Epoch 70/100\n",
            "782/782 [==============================] - 6s 7ms/step - loss: 0.4668 - accuracy: 0.8365 - val_loss: 0.5294 - val_accuracy: 0.8215\n",
            "Epoch 71/100\n",
            "782/782 [==============================] - 6s 7ms/step - loss: 0.4577 - accuracy: 0.8401 - val_loss: 0.5463 - val_accuracy: 0.8198\n",
            "Epoch 72/100\n",
            "782/782 [==============================] - 6s 8ms/step - loss: 0.4573 - accuracy: 0.8397 - val_loss: 0.5257 - val_accuracy: 0.8235\n",
            "Epoch 73/100\n",
            "782/782 [==============================] - 6s 8ms/step - loss: 0.4546 - accuracy: 0.8424 - val_loss: 0.5286 - val_accuracy: 0.8222\n",
            "Epoch 74/100\n",
            "782/782 [==============================] - 6s 8ms/step - loss: 0.4515 - accuracy: 0.8432 - val_loss: 0.5314 - val_accuracy: 0.8215\n",
            "Epoch 75/100\n",
            "782/782 [==============================] - 6s 8ms/step - loss: 0.4528 - accuracy: 0.8442 - val_loss: 0.5042 - val_accuracy: 0.8300\n",
            "Epoch 76/100\n",
            "782/782 [==============================] - 6s 8ms/step - loss: 0.4425 - accuracy: 0.8456 - val_loss: 0.5054 - val_accuracy: 0.8302\n",
            "Epoch 77/100\n",
            "782/782 [==============================] - 6s 8ms/step - loss: 0.4423 - accuracy: 0.8451 - val_loss: 0.4895 - val_accuracy: 0.8350\n",
            "Epoch 78/100\n",
            "782/782 [==============================] - 6s 8ms/step - loss: 0.4422 - accuracy: 0.8459 - val_loss: 0.4902 - val_accuracy: 0.8359\n",
            "Epoch 79/100\n",
            "782/782 [==============================] - 6s 8ms/step - loss: 0.4303 - accuracy: 0.8517 - val_loss: 0.5337 - val_accuracy: 0.8207\n",
            "Epoch 80/100\n",
            "782/782 [==============================] - 6s 8ms/step - loss: 0.4309 - accuracy: 0.8494 - val_loss: 0.4855 - val_accuracy: 0.8362\n",
            "Epoch 81/100\n",
            "782/782 [==============================] - 6s 8ms/step - loss: 0.4279 - accuracy: 0.8510 - val_loss: 0.5045 - val_accuracy: 0.8327\n",
            "Epoch 82/100\n",
            "782/782 [==============================] - 6s 8ms/step - loss: 0.4219 - accuracy: 0.8539 - val_loss: 0.5067 - val_accuracy: 0.8308\n",
            "Epoch 83/100\n",
            "782/782 [==============================] - 6s 8ms/step - loss: 0.4189 - accuracy: 0.8563 - val_loss: 0.4995 - val_accuracy: 0.8357\n",
            "Epoch 84/100\n",
            "782/782 [==============================] - 6s 8ms/step - loss: 0.4121 - accuracy: 0.8562 - val_loss: 0.4904 - val_accuracy: 0.8386\n",
            "Epoch 85/100\n",
            "782/782 [==============================] - 6s 8ms/step - loss: 0.4109 - accuracy: 0.8559 - val_loss: 0.4804 - val_accuracy: 0.8405\n",
            "Epoch 86/100\n",
            "782/782 [==============================] - 6s 8ms/step - loss: 0.4091 - accuracy: 0.8563 - val_loss: 0.4944 - val_accuracy: 0.8336\n",
            "Epoch 87/100\n",
            "782/782 [==============================] - 6s 8ms/step - loss: 0.4049 - accuracy: 0.8584 - val_loss: 0.4816 - val_accuracy: 0.8397\n",
            "Epoch 88/100\n",
            "782/782 [==============================] - 6s 8ms/step - loss: 0.3982 - accuracy: 0.8630 - val_loss: 0.5303 - val_accuracy: 0.8262\n",
            "Epoch 89/100\n",
            "782/782 [==============================] - 6s 8ms/step - loss: 0.4036 - accuracy: 0.8594 - val_loss: 0.5174 - val_accuracy: 0.8291\n",
            "Epoch 90/100\n",
            "782/782 [==============================] - 6s 8ms/step - loss: 0.3959 - accuracy: 0.8631 - val_loss: 0.4827 - val_accuracy: 0.8379\n",
            "Epoch 91/100\n",
            "782/782 [==============================] - 6s 8ms/step - loss: 0.3931 - accuracy: 0.8626 - val_loss: 0.4914 - val_accuracy: 0.8382\n",
            "Epoch 92/100\n",
            "782/782 [==============================] - 6s 8ms/step - loss: 0.3893 - accuracy: 0.8655 - val_loss: 0.4806 - val_accuracy: 0.8423\n",
            "Epoch 93/100\n",
            "782/782 [==============================] - 6s 8ms/step - loss: 0.3846 - accuracy: 0.8651 - val_loss: 0.4695 - val_accuracy: 0.8460\n",
            "Epoch 94/100\n",
            "782/782 [==============================] - 6s 8ms/step - loss: 0.3813 - accuracy: 0.8675 - val_loss: 0.5110 - val_accuracy: 0.8344\n",
            "Epoch 95/100\n",
            "782/782 [==============================] - 6s 8ms/step - loss: 0.3853 - accuracy: 0.8657 - val_loss: 0.4797 - val_accuracy: 0.8430\n",
            "Epoch 96/100\n",
            "782/782 [==============================] - 6s 8ms/step - loss: 0.3805 - accuracy: 0.8655 - val_loss: 0.4971 - val_accuracy: 0.8392\n",
            "Epoch 97/100\n",
            "782/782 [==============================] - 6s 8ms/step - loss: 0.3782 - accuracy: 0.8687 - val_loss: 0.4813 - val_accuracy: 0.8427\n",
            "Epoch 98/100\n",
            "782/782 [==============================] - 6s 8ms/step - loss: 0.3744 - accuracy: 0.8693 - val_loss: 0.4783 - val_accuracy: 0.8425\n",
            "Epoch 99/100\n",
            "782/782 [==============================] - 6s 8ms/step - loss: 0.3759 - accuracy: 0.8678 - val_loss: 0.5273 - val_accuracy: 0.8316\n",
            "Epoch 100/100\n",
            "782/782 [==============================] - 6s 8ms/step - loss: 0.3706 - accuracy: 0.8710 - val_loss: 0.4706 - val_accuracy: 0.8432\n"
          ]
        }
      ],
      "source": [
        "# Train the model\n",
        "history = model.fit(x_train, y_train, validation_data=(x_test, y_test), epochs=EPOCHS, batch_size=BATCH_SIZE, callbacks=[early_stopping])"
      ]
    },
    {
      "cell_type": "markdown",
      "metadata": {
        "id": "tgP6vIMlaXoo"
      },
      "source": [
        "Evaluate Model"
      ]
    },
    {
      "cell_type": "code",
      "execution_count": null,
      "metadata": {
        "colab": {
          "base_uri": "https://localhost:8080/",
          "height": 469
        },
        "id": "2Lcu5AjUaZpF",
        "outputId": "41419bd9-5018-4adf-872f-3c06290a488d"
      },
      "outputs": [
        {
          "name": "stdout",
          "output_type": "stream",
          "text": [
            "> 84.320\n"
          ]
        },
        {
          "data": {
            "image/png": "[encoded data removed]",
            "text/plain": [
              "<Figure size 640x480 with 2 Axes>"
            ]
          },
          "metadata": {},
          "output_type": "display_data"
        }
      ],
      "source": [
        " _, acc = model.evaluate(x_test, y_test, verbose=0)\n",
        " print('> %.3f' % (acc * 100.0))\n",
        " # learning curves\n",
        " summarize_diagnostics(history)"
      ]
    },
    {
      "cell_type": "markdown",
      "metadata": {
        "id": "tAka4YUKxIyv"
      },
      "source": [
        "The Early stopping will be triggered after 90 epochs.Whereas, The gap between training and validation loss is small, indicating that the model is still improving."
      ]
    },
    {
      "cell_type": "markdown",
      "metadata": {
        "id": "cAcdoh5gJMWZ"
      },
      "source": [
        "---"
      ]
    },
    {
      "cell_type": "markdown",
      "metadata": {},
      "source": [
        "### **3.4 Incresing Dropout, Batch Normalization, and Data Augmentation**\n",
        "\n"
      ]
    },
    {
      "cell_type": "markdown",
      "metadata": {
        "id": "hjmNRJgvJMWZ"
      },
      "source": [
        "The previous example can be improved in several ways.\n",
        "\n",
        "First, It can be increased the number of training epochs from 200 to 400, which will give the model more chances to improve.\n",
        "\n",
        "Second, It can be added batch normalization to stabilize the learning and potentially speed up the learning process. To offset this acceleration, It can be increased the regularization by changing the dropout pattern from fixed to increasing. The updated model definition can be found below."
      ]
    },
    {
      "cell_type": "markdown",
      "metadata": {
        "id": "1Et597LpbqpA"
      },
      "source": [
        "Defined the previous model configurations."
      ]
    },
    {
      "cell_type": "code",
      "execution_count": null,
      "metadata": {
        "colab": {
          "base_uri": "https://localhost:8080/"
        },
        "id": "-vR3ZEEbJMWZ",
        "outputId": "9f20b7c6-f2eb-469d-ef7f-d175c217a3f7"
      },
      "outputs": [
        {
          "name": "stdout",
          "output_type": "stream",
          "text": [
            "Model: \"sequential_4\"\n",
            "_________________________________________________________________\n",
            " Layer (type)                Output Shape              Param #   \n",
            "=================================================================\n",
            " conv2d_24 (Conv2D)          (None, 32, 32, 32)        896       \n",
            "                                                                 \n",
            " batch_normalization_14 (Ba  (None, 32, 32, 32)        128       \n",
            " tchNormalization)                                               \n",
            "                                                                 \n",
            " conv2d_25 (Conv2D)          (None, 32, 32, 32)        9248      \n",
            "                                                                 \n",
            " batch_normalization_15 (Ba  (None, 32, 32, 32)        128       \n",
            " tchNormalization)                                               \n",
            "                                                                 \n",
            " max_pooling2d_12 (MaxPooli  (None, 16, 16, 32)        0         \n",
            " ng2D)                                                           \n",
            "                                                                 \n",
            " dropout_12 (Dropout)        (None, 16, 16, 32)        0         \n",
            "                                                                 \n",
            " conv2d_26 (Conv2D)          (None, 16, 16, 64)        18496     \n",
            "                                                                 \n",
            " batch_normalization_16 (Ba  (None, 16, 16, 64)        256       \n",
            " tchNormalization)                                               \n",
            "                                                                 \n",
            " conv2d_27 (Conv2D)          (None, 16, 16, 64)        36928     \n",
            "                                                                 \n",
            " batch_normalization_17 (Ba  (None, 16, 16, 64)        256       \n",
            " tchNormalization)                                               \n",
            "                                                                 \n",
            " max_pooling2d_13 (MaxPooli  (None, 8, 8, 64)          0         \n",
            " ng2D)                                                           \n",
            "                                                                 \n",
            " dropout_13 (Dropout)        (None, 8, 8, 64)          0         \n",
            "                                                                 \n",
            " conv2d_28 (Conv2D)          (None, 8, 8, 128)         73856     \n",
            "                                                                 \n",
            " batch_normalization_18 (Ba  (None, 8, 8, 128)         512       \n",
            " tchNormalization)                                               \n",
            "                                                                 \n",
            " conv2d_29 (Conv2D)          (None, 8, 8, 128)         147584    \n",
            "                                                                 \n",
            " batch_normalization_19 (Ba  (None, 8, 8, 128)         512       \n",
            " tchNormalization)                                               \n",
            "                                                                 \n",
            " max_pooling2d_14 (MaxPooli  (None, 4, 4, 128)         0         \n",
            " ng2D)                                                           \n",
            "                                                                 \n",
            " dropout_14 (Dropout)        (None, 4, 4, 128)         0         \n",
            "                                                                 \n",
            " flatten_4 (Flatten)         (None, 2048)              0         \n",
            "                                                                 \n",
            " dense_8 (Dense)             (None, 128)               262272    \n",
            "                                                                 \n",
            " batch_normalization_20 (Ba  (None, 128)               512       \n",
            " tchNormalization)                                               \n",
            "                                                                 \n",
            " dropout_15 (Dropout)        (None, 128)               0         \n",
            "                                                                 \n",
            " dense_9 (Dense)             (None, 10)                1290      \n",
            "                                                                 \n",
            "=================================================================\n",
            "Total params: 552874 (2.11 MB)\n",
            "Trainable params: 551722 (2.10 MB)\n",
            "Non-trainable params: 1152 (4.50 KB)\n",
            "_________________________________________________________________\n"
          ]
        }
      ],
      "source": [
        "model = define_model_drop_n_batch()\n",
        "model.summary()"
      ]
    },
    {
      "cell_type": "markdown",
      "metadata": {
        "id": "wOJhTIZSbvp6"
      },
      "source": [
        "Defined the Data Augmention using ImageDataGenerator"
      ]
    },
    {
      "cell_type": "code",
      "execution_count": null,
      "metadata": {
        "id": "tIOjpOBTb-BI"
      },
      "outputs": [],
      "source": [
        "datagen = ImageDataGenerator(width_shift_range=0.1, height_shift_range=0.1, horizontal_flip=True)\n",
        "\n",
        "# prepare iterator\n",
        "it_train = datagen.flow(x_train, y_train, batch_size=BATCH_SIZE)"
      ]
    },
    {
      "cell_type": "markdown",
      "metadata": {
        "id": "c_jLZA5hcy8D"
      },
      "source": [
        "Train Model\n",
        "\n",
        "Because the Data Augmentation generates a lot of datasets, such as Flipped, The model will require more time to train itself. Therefore, I extend the EPOCHS from 100 times to 400 times."
      ]
    },
    {
      "cell_type": "code",
      "execution_count": null,
      "metadata": {
        "colab": {
          "base_uri": "https://localhost:8080/"
        },
        "id": "DhI7SHlacyZC",
        "outputId": "0bbd746a-f1e8-4df2-9570-e9f07053a416"
      },
      "outputs": [
        {
          "name": "stdout",
          "output_type": "stream",
          "text": [
            "Epoch 1/400\n",
            "781/781 [==============================] - 27s 32ms/step - loss: 2.1619 - accuracy: 0.2936 - val_loss: 1.5327 - val_accuracy: 0.4509\n",
            "Epoch 2/400\n",
            "781/781 [==============================] - 24s 31ms/step - loss: 1.6299 - accuracy: 0.4073 - val_loss: 1.4244 - val_accuracy: 0.4740\n",
            "Epoch 3/400\n",
            "781/781 [==============================] - 24s 31ms/step - loss: 1.4960 - accuracy: 0.4512 - val_loss: 1.3901 - val_accuracy: 0.4958\n",
            "Epoch 4/400\n",
            "781/781 [==============================] - 24s 31ms/step - loss: 1.4165 - accuracy: 0.4815 - val_loss: 1.4112 - val_accuracy: 0.4841\n",
            "Epoch 5/400\n",
            "781/781 [==============================] - 24s 31ms/step - loss: 1.3526 - accuracy: 0.5099 - val_loss: 1.3030 - val_accuracy: 0.5208\n",
            "Epoch 6/400\n",
            "781/781 [==============================] - 24s 31ms/step - loss: 1.2987 - accuracy: 0.5330 - val_loss: 1.4107 - val_accuracy: 0.4932\n",
            "Epoch 7/400\n",
            "781/781 [==============================] - 24s 31ms/step - loss: 1.2552 - accuracy: 0.5468 - val_loss: 1.3520 - val_accuracy: 0.5210\n",
            "Epoch 8/400\n",
            "781/781 [==============================] - 24s 30ms/step - loss: 1.2149 - accuracy: 0.5636 - val_loss: 1.1547 - val_accuracy: 0.5802\n",
            "Epoch 9/400\n",
            "781/781 [==============================] - 24s 30ms/step - loss: 1.1775 - accuracy: 0.5775 - val_loss: 1.2143 - val_accuracy: 0.5651\n",
            "Epoch 10/400\n",
            "781/781 [==============================] - 24s 30ms/step - loss: 1.1523 - accuracy: 0.5871 - val_loss: 1.1609 - val_accuracy: 0.5796\n",
            "Epoch 11/400\n",
            "781/781 [==============================] - 24s 30ms/step - loss: 1.1215 - accuracy: 0.6002 - val_loss: 1.2556 - val_accuracy: 0.5592\n",
            "Epoch 12/400\n",
            "781/781 [==============================] - 24s 30ms/step - loss: 1.0952 - accuracy: 0.6077 - val_loss: 0.9913 - val_accuracy: 0.6466\n",
            "Epoch 13/400\n",
            "781/781 [==============================] - 24s 30ms/step - loss: 1.0709 - accuracy: 0.6196 - val_loss: 1.0213 - val_accuracy: 0.6392\n",
            "Epoch 14/400\n",
            "781/781 [==============================] - 24s 30ms/step - loss: 1.0457 - accuracy: 0.6254 - val_loss: 1.1433 - val_accuracy: 0.6037\n",
            "Epoch 15/400\n",
            "781/781 [==============================] - 24s 30ms/step - loss: 1.0245 - accuracy: 0.6371 - val_loss: 1.0056 - val_accuracy: 0.6402\n",
            "Epoch 16/400\n",
            "781/781 [==============================] - 24s 30ms/step - loss: 1.0127 - accuracy: 0.6438 - val_loss: 1.1456 - val_accuracy: 0.6015\n",
            "Epoch 17/400\n",
            "781/781 [==============================] - 24s 30ms/step - loss: 0.9900 - accuracy: 0.6500 - val_loss: 0.9186 - val_accuracy: 0.6712\n",
            "Epoch 18/400\n",
            "781/781 [==============================] - 24s 30ms/step - loss: 0.9761 - accuracy: 0.6554 - val_loss: 1.0001 - val_accuracy: 0.6425\n",
            "Epoch 19/400\n",
            "781/781 [==============================] - 24s 30ms/step - loss: 0.9604 - accuracy: 0.6623 - val_loss: 0.9270 - val_accuracy: 0.6724\n",
            "Epoch 20/400\n",
            "781/781 [==============================] - 24s 30ms/step - loss: 0.9470 - accuracy: 0.6672 - val_loss: 0.9624 - val_accuracy: 0.6589\n",
            "Epoch 21/400\n",
            "781/781 [==============================] - 23s 30ms/step - loss: 0.9295 - accuracy: 0.6737 - val_loss: 1.0036 - val_accuracy: 0.6474\n",
            "Epoch 22/400\n",
            "781/781 [==============================] - 24s 30ms/step - loss: 0.9119 - accuracy: 0.6775 - val_loss: 0.9678 - val_accuracy: 0.6580\n",
            "Epoch 23/400\n",
            "781/781 [==============================] - 24s 30ms/step - loss: 0.9025 - accuracy: 0.6842 - val_loss: 0.9046 - val_accuracy: 0.6777\n",
            "Epoch 24/400\n",
            "781/781 [==============================] - 24s 30ms/step - loss: 0.8882 - accuracy: 0.6871 - val_loss: 0.8493 - val_accuracy: 0.6988\n",
            "Epoch 25/400\n",
            "781/781 [==============================] - 24s 30ms/step - loss: 0.8833 - accuracy: 0.6878 - val_loss: 0.8024 - val_accuracy: 0.7135\n",
            "Epoch 26/400\n",
            "781/781 [==============================] - 24s 30ms/step - loss: 0.8690 - accuracy: 0.6962 - val_loss: 0.9070 - val_accuracy: 0.6824\n",
            "Epoch 27/400\n",
            "781/781 [==============================] - 24s 31ms/step - loss: 0.8592 - accuracy: 0.6961 - val_loss: 0.8025 - val_accuracy: 0.7150\n",
            "Epoch 28/400\n",
            "781/781 [==============================] - 24s 31ms/step - loss: 0.8529 - accuracy: 0.7009 - val_loss: 0.8055 - val_accuracy: 0.7142\n",
            "Epoch 29/400\n",
            "781/781 [==============================] - 24s 31ms/step - loss: 0.8388 - accuracy: 0.7068 - val_loss: 0.7992 - val_accuracy: 0.7188\n",
            "Epoch 30/400\n",
            "781/781 [==============================] - 24s 31ms/step - loss: 0.8273 - accuracy: 0.7103 - val_loss: 0.7637 - val_accuracy: 0.7345\n",
            "Epoch 31/400\n",
            "781/781 [==============================] - 24s 31ms/step - loss: 0.8197 - accuracy: 0.7133 - val_loss: 0.7501 - val_accuracy: 0.7385\n",
            "Epoch 32/400\n",
            "781/781 [==============================] - 24s 31ms/step - loss: 0.8087 - accuracy: 0.7171 - val_loss: 0.7965 - val_accuracy: 0.7170\n",
            "Epoch 33/400\n",
            "781/781 [==============================] - 24s 31ms/step - loss: 0.8050 - accuracy: 0.7191 - val_loss: 0.7434 - val_accuracy: 0.7362\n",
            "Epoch 34/400\n",
            "781/781 [==============================] - 24s 31ms/step - loss: 0.7990 - accuracy: 0.7216 - val_loss: 0.7221 - val_accuracy: 0.7472\n",
            "Epoch 35/400\n",
            "781/781 [==============================] - 24s 31ms/step - loss: 0.7865 - accuracy: 0.7235 - val_loss: 0.7729 - val_accuracy: 0.7285\n",
            "Epoch 36/400\n",
            "781/781 [==============================] - 24s 31ms/step - loss: 0.7833 - accuracy: 0.7269 - val_loss: 0.7902 - val_accuracy: 0.7227\n",
            "Epoch 37/400\n",
            "781/781 [==============================] - 24s 31ms/step - loss: 0.7750 - accuracy: 0.7308 - val_loss: 0.6692 - val_accuracy: 0.7664\n",
            "Epoch 38/400\n",
            "781/781 [==============================] - 24s 31ms/step - loss: 0.7683 - accuracy: 0.7307 - val_loss: 0.7935 - val_accuracy: 0.7196\n",
            "Epoch 39/400\n",
            "781/781 [==============================] - 24s 31ms/step - loss: 0.7595 - accuracy: 0.7341 - val_loss: 0.8238 - val_accuracy: 0.7123\n",
            "Epoch 40/400\n",
            "781/781 [==============================] - 24s 31ms/step - loss: 0.7574 - accuracy: 0.7358 - val_loss: 0.6714 - val_accuracy: 0.7694\n",
            "Epoch 41/400\n",
            "781/781 [==============================] - 24s 31ms/step - loss: 0.7468 - accuracy: 0.7415 - val_loss: 0.6663 - val_accuracy: 0.7694\n",
            "Epoch 42/400\n",
            "781/781 [==============================] - 24s 31ms/step - loss: 0.7385 - accuracy: 0.7427 - val_loss: 0.7559 - val_accuracy: 0.7392\n",
            "Epoch 43/400\n",
            "781/781 [==============================] - 24s 31ms/step - loss: 0.7342 - accuracy: 0.7432 - val_loss: 0.6877 - val_accuracy: 0.7595\n",
            "Epoch 44/400\n",
            "781/781 [==============================] - 24s 31ms/step - loss: 0.7247 - accuracy: 0.7478 - val_loss: 0.7598 - val_accuracy: 0.7365\n",
            "Epoch 45/400\n",
            "781/781 [==============================] - 24s 31ms/step - loss: 0.7242 - accuracy: 0.7468 - val_loss: 0.6421 - val_accuracy: 0.7785\n",
            "Epoch 46/400\n",
            "781/781 [==============================] - 24s 31ms/step - loss: 0.7144 - accuracy: 0.7512 - val_loss: 0.7050 - val_accuracy: 0.7553\n",
            "Epoch 47/400\n",
            "781/781 [==============================] - 24s 31ms/step - loss: 0.7109 - accuracy: 0.7525 - val_loss: 0.6768 - val_accuracy: 0.7688\n",
            "Epoch 48/400\n",
            "781/781 [==============================] - 24s 31ms/step - loss: 0.7069 - accuracy: 0.7529 - val_loss: 0.6350 - val_accuracy: 0.7809\n",
            "Epoch 49/400\n",
            "781/781 [==============================] - 24s 31ms/step - loss: 0.6992 - accuracy: 0.7595 - val_loss: 0.6523 - val_accuracy: 0.7749\n",
            "Epoch 50/400\n",
            "781/781 [==============================] - 24s 31ms/step - loss: 0.6943 - accuracy: 0.7599 - val_loss: 0.6251 - val_accuracy: 0.7841\n",
            "Epoch 51/400\n",
            "781/781 [==============================] - 24s 31ms/step - loss: 0.6908 - accuracy: 0.7611 - val_loss: 0.6954 - val_accuracy: 0.7606\n",
            "Epoch 52/400\n",
            "781/781 [==============================] - 24s 31ms/step - loss: 0.6863 - accuracy: 0.7628 - val_loss: 0.6080 - val_accuracy: 0.7915\n",
            "Epoch 53/400\n",
            "781/781 [==============================] - 24s 31ms/step - loss: 0.6783 - accuracy: 0.7668 - val_loss: 0.6102 - val_accuracy: 0.7861\n",
            "Epoch 54/400\n",
            "781/781 [==============================] - 24s 31ms/step - loss: 0.6767 - accuracy: 0.7645 - val_loss: 0.6240 - val_accuracy: 0.7829\n",
            "Epoch 55/400\n",
            "781/781 [==============================] - 24s 31ms/step - loss: 0.6741 - accuracy: 0.7683 - val_loss: 0.6123 - val_accuracy: 0.7917\n",
            "Epoch 56/400\n",
            "781/781 [==============================] - 24s 31ms/step - loss: 0.6670 - accuracy: 0.7694 - val_loss: 0.6361 - val_accuracy: 0.7815\n",
            "Epoch 57/400\n",
            "781/781 [==============================] - 24s 31ms/step - loss: 0.6667 - accuracy: 0.7695 - val_loss: 0.5859 - val_accuracy: 0.7965\n",
            "Epoch 58/400\n",
            "781/781 [==============================] - 24s 31ms/step - loss: 0.6559 - accuracy: 0.7739 - val_loss: 0.6516 - val_accuracy: 0.7725\n",
            "Epoch 59/400\n",
            "781/781 [==============================] - 24s 31ms/step - loss: 0.6520 - accuracy: 0.7757 - val_loss: 0.6191 - val_accuracy: 0.7868\n",
            "Epoch 60/400\n",
            "781/781 [==============================] - 24s 31ms/step - loss: 0.6523 - accuracy: 0.7762 - val_loss: 0.6038 - val_accuracy: 0.7922\n",
            "Epoch 61/400\n",
            "781/781 [==============================] - 24s 31ms/step - loss: 0.6457 - accuracy: 0.7778 - val_loss: 0.6434 - val_accuracy: 0.7802\n",
            "Epoch 62/400\n",
            "781/781 [==============================] - 24s 31ms/step - loss: 0.6425 - accuracy: 0.7792 - val_loss: 0.6179 - val_accuracy: 0.7892\n",
            "Epoch 63/400\n",
            "781/781 [==============================] - 24s 31ms/step - loss: 0.6420 - accuracy: 0.7790 - val_loss: 0.5874 - val_accuracy: 0.7985\n",
            "Epoch 64/400\n",
            "781/781 [==============================] - 24s 31ms/step - loss: 0.6355 - accuracy: 0.7801 - val_loss: 0.6188 - val_accuracy: 0.7861\n",
            "Epoch 65/400\n",
            "781/781 [==============================] - 24s 31ms/step - loss: 0.6327 - accuracy: 0.7800 - val_loss: 0.5896 - val_accuracy: 0.7988\n",
            "Epoch 66/400\n",
            "781/781 [==============================] - 24s 31ms/step - loss: 0.6306 - accuracy: 0.7811 - val_loss: 0.5732 - val_accuracy: 0.8044\n",
            "Epoch 67/400\n",
            "781/781 [==============================] - 24s 31ms/step - loss: 0.6279 - accuracy: 0.7843 - val_loss: 0.6152 - val_accuracy: 0.7904\n",
            "Epoch 68/400\n",
            "781/781 [==============================] - 24s 31ms/step - loss: 0.6211 - accuracy: 0.7878 - val_loss: 0.5950 - val_accuracy: 0.7953\n",
            "Epoch 69/400\n",
            "781/781 [==============================] - 24s 31ms/step - loss: 0.6213 - accuracy: 0.7852 - val_loss: 0.5561 - val_accuracy: 0.8104\n",
            "Epoch 70/400\n",
            "781/781 [==============================] - 24s 31ms/step - loss: 0.6166 - accuracy: 0.7876 - val_loss: 0.6211 - val_accuracy: 0.7922\n",
            "Epoch 71/400\n",
            "781/781 [==============================] - 24s 31ms/step - loss: 0.6092 - accuracy: 0.7904 - val_loss: 0.6627 - val_accuracy: 0.7753\n",
            "Epoch 72/400\n",
            "781/781 [==============================] - 24s 31ms/step - loss: 0.6086 - accuracy: 0.7908 - val_loss: 0.5908 - val_accuracy: 0.7996\n",
            "Epoch 73/400\n",
            "781/781 [==============================] - 24s 31ms/step - loss: 0.5969 - accuracy: 0.7944 - val_loss: 0.5894 - val_accuracy: 0.8010\n",
            "Epoch 74/400\n",
            "781/781 [==============================] - 24s 31ms/step - loss: 0.6017 - accuracy: 0.7954 - val_loss: 0.5982 - val_accuracy: 0.7962\n",
            "Epoch 75/400\n",
            "781/781 [==============================] - 24s 31ms/step - loss: 0.6026 - accuracy: 0.7918 - val_loss: 0.5953 - val_accuracy: 0.7983\n",
            "Epoch 76/400\n",
            "781/781 [==============================] - 24s 31ms/step - loss: 0.5901 - accuracy: 0.7969 - val_loss: 0.6194 - val_accuracy: 0.7918\n",
            "Epoch 77/400\n",
            "781/781 [==============================] - 24s 31ms/step - loss: 0.5888 - accuracy: 0.7991 - val_loss: 0.5743 - val_accuracy: 0.8068\n",
            "Epoch 78/400\n",
            "781/781 [==============================] - 24s 31ms/step - loss: 0.5862 - accuracy: 0.7975 - val_loss: 0.5285 - val_accuracy: 0.8203\n",
            "Epoch 79/400\n",
            "781/781 [==============================] - 24s 31ms/step - loss: 0.5811 - accuracy: 0.8004 - val_loss: 0.5549 - val_accuracy: 0.8107\n",
            "Epoch 80/400\n",
            "781/781 [==============================] - 24s 31ms/step - loss: 0.5911 - accuracy: 0.7985 - val_loss: 0.5863 - val_accuracy: 0.8038\n",
            "Epoch 81/400\n",
            "781/781 [==============================] - 24s 31ms/step - loss: 0.5850 - accuracy: 0.7982 - val_loss: 0.5459 - val_accuracy: 0.8160\n",
            "Epoch 82/400\n",
            "781/781 [==============================] - 24s 31ms/step - loss: 0.5809 - accuracy: 0.8020 - val_loss: 0.5614 - val_accuracy: 0.8079\n",
            "Epoch 83/400\n",
            "781/781 [==============================] - 24s 31ms/step - loss: 0.5791 - accuracy: 0.8016 - val_loss: 0.5783 - val_accuracy: 0.8062\n",
            "Epoch 84/400\n",
            "781/781 [==============================] - 24s 31ms/step - loss: 0.5747 - accuracy: 0.8026 - val_loss: 0.5297 - val_accuracy: 0.8197\n",
            "Epoch 85/400\n",
            "781/781 [==============================] - 24s 31ms/step - loss: 0.5678 - accuracy: 0.8034 - val_loss: 0.5302 - val_accuracy: 0.8188\n",
            "Epoch 86/400\n",
            "781/781 [==============================] - 24s 31ms/step - loss: 0.5657 - accuracy: 0.8051 - val_loss: 0.5122 - val_accuracy: 0.8235\n",
            "Epoch 87/400\n",
            "781/781 [==============================] - 24s 31ms/step - loss: 0.5595 - accuracy: 0.8083 - val_loss: 0.5421 - val_accuracy: 0.8171\n",
            "Epoch 88/400\n",
            "781/781 [==============================] - 24s 31ms/step - loss: 0.5564 - accuracy: 0.8078 - val_loss: 0.5157 - val_accuracy: 0.8243\n",
            "Epoch 89/400\n",
            "781/781 [==============================] - 24s 31ms/step - loss: 0.5610 - accuracy: 0.8090 - val_loss: 0.5051 - val_accuracy: 0.8278\n",
            "Epoch 90/400\n",
            "781/781 [==============================] - 24s 31ms/step - loss: 0.5561 - accuracy: 0.8098 - val_loss: 0.5296 - val_accuracy: 0.8204\n",
            "Epoch 91/400\n",
            "781/781 [==============================] - 24s 31ms/step - loss: 0.5550 - accuracy: 0.8104 - val_loss: 0.5078 - val_accuracy: 0.8268\n",
            "Epoch 92/400\n",
            "781/781 [==============================] - 24s 31ms/step - loss: 0.5532 - accuracy: 0.8092 - val_loss: 0.5301 - val_accuracy: 0.8205\n",
            "Epoch 93/400\n",
            "781/781 [==============================] - 24s 31ms/step - loss: 0.5458 - accuracy: 0.8125 - val_loss: 0.5584 - val_accuracy: 0.8104\n",
            "Epoch 94/400\n",
            "781/781 [==============================] - 24s 31ms/step - loss: 0.5464 - accuracy: 0.8119 - val_loss: 0.5130 - val_accuracy: 0.8266\n",
            "Epoch 95/400\n",
            "781/781 [==============================] - 24s 31ms/step - loss: 0.5451 - accuracy: 0.8126 - val_loss: 0.5540 - val_accuracy: 0.8131\n",
            "Epoch 96/400\n",
            "781/781 [==============================] - 24s 31ms/step - loss: 0.5435 - accuracy: 0.8137 - val_loss: 0.4818 - val_accuracy: 0.8362\n",
            "Epoch 97/400\n",
            "781/781 [==============================] - 24s 31ms/step - loss: 0.5457 - accuracy: 0.8118 - val_loss: 0.5262 - val_accuracy: 0.8226\n",
            "Epoch 98/400\n",
            "781/781 [==============================] - 24s 31ms/step - loss: 0.5399 - accuracy: 0.8170 - val_loss: 0.4943 - val_accuracy: 0.8310\n",
            "Epoch 99/400\n",
            "781/781 [==============================] - 24s 31ms/step - loss: 0.5394 - accuracy: 0.8143 - val_loss: 0.5295 - val_accuracy: 0.8219\n",
            "Epoch 100/400\n",
            "781/781 [==============================] - 24s 31ms/step - loss: 0.5385 - accuracy: 0.8158 - val_loss: 0.5180 - val_accuracy: 0.8266\n",
            "Epoch 101/400\n",
            "781/781 [==============================] - 24s 31ms/step - loss: 0.5311 - accuracy: 0.8175 - val_loss: 0.5151 - val_accuracy: 0.8263\n",
            "Epoch 102/400\n",
            "781/781 [==============================] - 24s 31ms/step - loss: 0.5293 - accuracy: 0.8169 - val_loss: 0.4875 - val_accuracy: 0.8348\n",
            "Epoch 103/400\n",
            "781/781 [==============================] - 24s 31ms/step - loss: 0.5292 - accuracy: 0.8186 - val_loss: 0.4855 - val_accuracy: 0.8368\n",
            "Epoch 104/400\n",
            "781/781 [==============================] - 24s 31ms/step - loss: 0.5320 - accuracy: 0.8185 - val_loss: 0.4725 - val_accuracy: 0.8391\n",
            "Epoch 105/400\n",
            "781/781 [==============================] - 24s 31ms/step - loss: 0.5226 - accuracy: 0.8207 - val_loss: 0.5056 - val_accuracy: 0.8332\n",
            "Epoch 106/400\n",
            "781/781 [==============================] - 24s 31ms/step - loss: 0.5176 - accuracy: 0.8227 - val_loss: 0.5098 - val_accuracy: 0.8277\n",
            "Epoch 107/400\n",
            "781/781 [==============================] - 24s 31ms/step - loss: 0.5189 - accuracy: 0.8236 - val_loss: 0.4941 - val_accuracy: 0.8301\n",
            "Epoch 108/400\n",
            "781/781 [==============================] - 24s 31ms/step - loss: 0.5137 - accuracy: 0.8257 - val_loss: 0.5056 - val_accuracy: 0.8308\n",
            "Epoch 109/400\n",
            "781/781 [==============================] - 24s 31ms/step - loss: 0.5125 - accuracy: 0.8260 - val_loss: 0.5256 - val_accuracy: 0.8264\n",
            "Epoch 110/400\n",
            "781/781 [==============================] - 24s 31ms/step - loss: 0.5109 - accuracy: 0.8250 - val_loss: 0.5218 - val_accuracy: 0.8253\n",
            "Epoch 111/400\n",
            "781/781 [==============================] - 24s 31ms/step - loss: 0.5121 - accuracy: 0.8260 - val_loss: 0.4750 - val_accuracy: 0.8410\n",
            "Epoch 112/400\n",
            "781/781 [==============================] - 24s 31ms/step - loss: 0.5121 - accuracy: 0.8242 - val_loss: 0.4991 - val_accuracy: 0.8327\n",
            "Epoch 113/400\n",
            "781/781 [==============================] - 24s 31ms/step - loss: 0.5130 - accuracy: 0.8248 - val_loss: 0.4661 - val_accuracy: 0.8423\n",
            "Epoch 114/400\n",
            "781/781 [==============================] - 24s 31ms/step - loss: 0.5080 - accuracy: 0.8256 - val_loss: 0.4740 - val_accuracy: 0.8416\n",
            "Epoch 115/400\n",
            "781/781 [==============================] - 24s 31ms/step - loss: 0.4996 - accuracy: 0.8293 - val_loss: 0.5120 - val_accuracy: 0.8290\n",
            "Epoch 116/400\n",
            "781/781 [==============================] - 24s 31ms/step - loss: 0.5030 - accuracy: 0.8281 - val_loss: 0.4609 - val_accuracy: 0.8441\n",
            "Epoch 117/400\n",
            "781/781 [==============================] - 24s 31ms/step - loss: 0.5011 - accuracy: 0.8296 - val_loss: 0.4707 - val_accuracy: 0.8423\n",
            "Epoch 118/400\n",
            "781/781 [==============================] - 24s 31ms/step - loss: 0.4972 - accuracy: 0.8305 - val_loss: 0.4938 - val_accuracy: 0.8356\n",
            "Epoch 119/400\n",
            "781/781 [==============================] - 24s 31ms/step - loss: 0.4972 - accuracy: 0.8299 - val_loss: 0.4757 - val_accuracy: 0.8429\n",
            "Epoch 120/400\n",
            "781/781 [==============================] - 24s 31ms/step - loss: 0.4970 - accuracy: 0.8290 - val_loss: 0.4699 - val_accuracy: 0.8396\n",
            "Epoch 121/400\n",
            "781/781 [==============================] - 24s 31ms/step - loss: 0.4928 - accuracy: 0.8322 - val_loss: 0.4829 - val_accuracy: 0.8384\n",
            "Epoch 122/400\n",
            "781/781 [==============================] - 24s 31ms/step - loss: 0.4952 - accuracy: 0.8301 - val_loss: 0.4730 - val_accuracy: 0.8454\n",
            "Epoch 123/400\n",
            "781/781 [==============================] - 24s 31ms/step - loss: 0.4931 - accuracy: 0.8325 - val_loss: 0.4774 - val_accuracy: 0.8373\n",
            "Epoch 124/400\n",
            "781/781 [==============================] - 24s 31ms/step - loss: 0.4899 - accuracy: 0.8311 - val_loss: 0.4582 - val_accuracy: 0.8470\n",
            "Epoch 125/400\n",
            "781/781 [==============================] - 24s 31ms/step - loss: 0.4859 - accuracy: 0.8339 - val_loss: 0.4774 - val_accuracy: 0.8446\n",
            "Epoch 126/400\n",
            "781/781 [==============================] - 24s 31ms/step - loss: 0.4838 - accuracy: 0.8355 - val_loss: 0.4725 - val_accuracy: 0.8429\n",
            "Epoch 127/400\n",
            "781/781 [==============================] - 24s 31ms/step - loss: 0.4873 - accuracy: 0.8337 - val_loss: 0.5112 - val_accuracy: 0.8303\n",
            "Epoch 128/400\n",
            "781/781 [==============================] - 24s 31ms/step - loss: 0.4795 - accuracy: 0.8357 - val_loss: 0.4537 - val_accuracy: 0.8470\n",
            "Epoch 129/400\n",
            "781/781 [==============================] - 24s 31ms/step - loss: 0.4760 - accuracy: 0.8362 - val_loss: 0.4498 - val_accuracy: 0.8506\n",
            "Epoch 130/400\n",
            "781/781 [==============================] - 24s 31ms/step - loss: 0.4781 - accuracy: 0.8371 - val_loss: 0.4859 - val_accuracy: 0.8376\n",
            "Epoch 131/400\n",
            "781/781 [==============================] - 24s 31ms/step - loss: 0.4756 - accuracy: 0.8363 - val_loss: 0.4801 - val_accuracy: 0.8430\n",
            "Epoch 132/400\n",
            "781/781 [==============================] - 24s 31ms/step - loss: 0.4781 - accuracy: 0.8363 - val_loss: 0.4445 - val_accuracy: 0.8553\n",
            "Epoch 133/400\n",
            "781/781 [==============================] - 24s 31ms/step - loss: 0.4765 - accuracy: 0.8375 - val_loss: 0.4691 - val_accuracy: 0.8423\n",
            "Epoch 134/400\n",
            "781/781 [==============================] - 24s 31ms/step - loss: 0.4769 - accuracy: 0.8365 - val_loss: 0.4580 - val_accuracy: 0.8468\n",
            "Epoch 135/400\n",
            "781/781 [==============================] - 24s 31ms/step - loss: 0.4722 - accuracy: 0.8396 - val_loss: 0.4717 - val_accuracy: 0.8443\n",
            "Epoch 136/400\n",
            "781/781 [==============================] - 24s 31ms/step - loss: 0.4696 - accuracy: 0.8393 - val_loss: 0.4407 - val_accuracy: 0.8515\n",
            "Epoch 137/400\n",
            "781/781 [==============================] - 24s 31ms/step - loss: 0.4713 - accuracy: 0.8394 - val_loss: 0.4452 - val_accuracy: 0.8515\n",
            "Epoch 138/400\n",
            "781/781 [==============================] - 24s 31ms/step - loss: 0.4706 - accuracy: 0.8394 - val_loss: 0.4450 - val_accuracy: 0.8537\n",
            "Epoch 139/400\n",
            "781/781 [==============================] - 24s 31ms/step - loss: 0.4695 - accuracy: 0.8412 - val_loss: 0.4874 - val_accuracy: 0.8380\n",
            "Epoch 140/400\n",
            "781/781 [==============================] - 24s 31ms/step - loss: 0.4615 - accuracy: 0.8417 - val_loss: 0.4622 - val_accuracy: 0.8452\n",
            "Epoch 141/400\n",
            "781/781 [==============================] - 24s 31ms/step - loss: 0.4590 - accuracy: 0.8422 - val_loss: 0.4448 - val_accuracy: 0.8519\n",
            "Epoch 142/400\n",
            "781/781 [==============================] - 24s 31ms/step - loss: 0.4578 - accuracy: 0.8462 - val_loss: 0.4760 - val_accuracy: 0.8408\n",
            "Epoch 143/400\n",
            "781/781 [==============================] - 24s 31ms/step - loss: 0.4597 - accuracy: 0.8425 - val_loss: 0.4275 - val_accuracy: 0.8584\n",
            "Epoch 144/400\n",
            "781/781 [==============================] - 25s 32ms/step - loss: 0.4550 - accuracy: 0.8444 - val_loss: 0.4756 - val_accuracy: 0.8405\n",
            "Epoch 145/400\n",
            "781/781 [==============================] - 24s 31ms/step - loss: 0.4595 - accuracy: 0.8434 - val_loss: 0.4328 - val_accuracy: 0.8554\n",
            "Epoch 146/400\n",
            "781/781 [==============================] - 24s 31ms/step - loss: 0.4535 - accuracy: 0.8457 - val_loss: 0.4214 - val_accuracy: 0.8588\n",
            "Epoch 147/400\n",
            "781/781 [==============================] - 24s 31ms/step - loss: 0.4529 - accuracy: 0.8453 - val_loss: 0.4328 - val_accuracy: 0.8572\n",
            "Epoch 148/400\n",
            "781/781 [==============================] - 24s 31ms/step - loss: 0.4540 - accuracy: 0.8432 - val_loss: 0.4629 - val_accuracy: 0.8462\n",
            "Epoch 149/400\n",
            "781/781 [==============================] - 24s 31ms/step - loss: 0.4474 - accuracy: 0.8484 - val_loss: 0.4254 - val_accuracy: 0.8582\n",
            "Epoch 150/400\n",
            "781/781 [==============================] - 24s 31ms/step - loss: 0.4512 - accuracy: 0.8476 - val_loss: 0.4434 - val_accuracy: 0.8542\n",
            "Epoch 151/400\n",
            "781/781 [==============================] - 24s 31ms/step - loss: 0.4452 - accuracy: 0.8472 - val_loss: 0.4411 - val_accuracy: 0.8536\n",
            "Epoch 152/400\n",
            "781/781 [==============================] - 24s 31ms/step - loss: 0.4441 - accuracy: 0.8486 - val_loss: 0.4098 - val_accuracy: 0.8624\n",
            "Epoch 153/400\n",
            "781/781 [==============================] - 24s 31ms/step - loss: 0.4468 - accuracy: 0.8482 - val_loss: 0.4162 - val_accuracy: 0.8623\n",
            "Epoch 154/400\n",
            "781/781 [==============================] - 24s 31ms/step - loss: 0.4406 - accuracy: 0.8502 - val_loss: 0.4600 - val_accuracy: 0.8480\n",
            "Epoch 155/400\n",
            "781/781 [==============================] - 24s 31ms/step - loss: 0.4427 - accuracy: 0.8499 - val_loss: 0.4237 - val_accuracy: 0.8596\n",
            "Epoch 156/400\n",
            "781/781 [==============================] - 24s 31ms/step - loss: 0.4432 - accuracy: 0.8476 - val_loss: 0.4197 - val_accuracy: 0.8587\n",
            "Epoch 157/400\n",
            "781/781 [==============================] - 24s 31ms/step - loss: 0.4423 - accuracy: 0.8499 - val_loss: 0.4603 - val_accuracy: 0.8491\n",
            "Epoch 158/400\n",
            "781/781 [==============================] - 24s 31ms/step - loss: 0.4384 - accuracy: 0.8490 - val_loss: 0.4386 - val_accuracy: 0.8551\n",
            "Epoch 159/400\n",
            "781/781 [==============================] - 24s 31ms/step - loss: 0.4391 - accuracy: 0.8484 - val_loss: 0.4567 - val_accuracy: 0.8508\n",
            "Epoch 160/400\n",
            "781/781 [==============================] - 24s 31ms/step - loss: 0.4359 - accuracy: 0.8528 - val_loss: 0.4859 - val_accuracy: 0.8429\n",
            "Epoch 161/400\n",
            "781/781 [==============================] - 24s 31ms/step - loss: 0.4331 - accuracy: 0.8521 - val_loss: 0.4502 - val_accuracy: 0.8500\n",
            "Epoch 162/400\n",
            "781/781 [==============================] - 24s 31ms/step - loss: 0.4360 - accuracy: 0.8525 - val_loss: 0.4252 - val_accuracy: 0.8596\n",
            "Epoch 162: early stopping\n"
          ]
        }
      ],
      "source": [
        "# fit model\n",
        "epochs = EPOCHS + 300\n",
        "steps = int(x_train.shape[0] / BATCH_SIZE)\n",
        "history = model.fit(it_train, steps_per_epoch=steps, epochs=EPOCHS + 300, validation_data=(x_test, y_test), batch_size=BATCH_SIZE, callbacks=[early_stopping])"
      ]
    },
    {
      "cell_type": "markdown",
      "metadata": {
        "id": "CuDQyOwtrzR_"
      },
      "source": [
        "Evaluate Model"
      ]
    },
    {
      "cell_type": "code",
      "execution_count": null,
      "metadata": {
        "colab": {
          "base_uri": "https://localhost:8080/",
          "height": 469
        },
        "id": "V8AQAk8Rr5KE",
        "outputId": "0a2911ae-dfe2-40ab-f0eb-34655553bffc"
      },
      "outputs": [
        {
          "name": "stdout",
          "output_type": "stream",
          "text": [
            "> 85.960\n"
          ]
        },
        {
          "data": {
            "image/png": "[encoded data removed]",
            "text/plain": [
              "<Figure size 640x480 with 2 Axes>"
            ]
          },
          "metadata": {},
          "output_type": "display_data"
        }
      ],
      "source": [
        " _, acc = model.evaluate(x_test, y_test, verbose=0)\n",
        " print('> %.3f' % (acc * 100.0))\n",
        " # learning curves\n",
        " summarize_diagnostics(history)"
      ]
    },
    {
      "cell_type": "markdown",
      "metadata": {
        "id": "IG3A4zmGEtht"
      },
      "source": [
        "## Conclusion"
      ]
    },
    {
      "cell_type": "markdown",
      "metadata": {
        "id": "dcKj8Gnh5qXL"
      },
      "source": [
        "In this assignment, I executed a series of steps to enhance the performance of our machine learning model. Initially, I imported the necessary libraries and prepared the data by normalizing the features and converting labels into categorical format. Following data preparation, I selected the VGG3 model as the primary framework for training. During the initial model fitting, I encountered overfitting issues; to address these, I implemented early stopping, dropout regularization, increased the dropout rate, and incorporated batch normalization along with data augmentation. These modifications significantly improved the model's accuracy.\n",
        "\n",
        "Here are the results I obtained:\n",
        "\n",
        "- **Baseline Model:** 72.680%\n",
        "- **Dropout:** 80.930%\n",
        "- **Increasing Dropout + Batch Normalization:** 84.320%\n",
        "- **Increasing Dropout + Data Augmentation + Batch Normalization:** 85.960%\n",
        "\n",
        "In conclusion, this project not only reinforced my understanding of practical machine learning concepts but also highlighted the importance of model tuning and regularization techniques in combating overfitting. By methodically adjusting the model parameters and augmenting the data, I was able to optimize our model's performance, demonstrating the critical role of iterative testing and modifications in achieving enhanced machine learning outcomes. This experience has been invaluable in honing my skills in model selection, data preprocessing, and the strategic application of various regularization techniques to ensure robust model performance."
      ]
    }
  ],
  "metadata": {
    "accelerator": "GPU",
    "colab": {
      "collapsed_sections": [
        "H4EH48RaRGRA",
        "-MJpXevXRGRB",
        "Z7Y2CmnMRGRB"
      ],
      "gpuType": "L4",
      "include_colab_link": true,
      "provenance": [],
      "toc_visible": true
    },
    "kernelspec": {
      "display_name": "Python 3",
      "name": "python3"
    },
    "language_info": {
      "codemirror_mode": {
        "name": "ipython",
        "version": 3
      },
      "file_extension": ".py",
      "mimetype": "text/x-python",
      "name": "python",
      "nbconvert_exporter": "python",
      "pygments_lexer": "ipython3",
      "version": "3.10.13"
    }
  },
  "nbformat": 4,
  "nbformat_minor": 0
}
